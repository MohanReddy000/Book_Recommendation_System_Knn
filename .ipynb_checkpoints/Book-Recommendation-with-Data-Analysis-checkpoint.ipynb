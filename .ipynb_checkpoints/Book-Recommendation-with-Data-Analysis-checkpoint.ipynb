{
 "cells": [
  {
   "cell_type": "markdown",
   "metadata": {
    "id": "Pfm3qDVm9Ah1"
   },
   "source": [
    "# Book Recommendation Project     \n",
    "\n",
    "Have you ever wondered for a system which suggest a new set of books for your previously read books !?.   \n",
    "Well [Recommendation Systems](https://en.wikipedia.org/wiki/Recommender_system#:~:text=A%20recommender%20system%2C%20or%20a,would%20give%20to%20an%20item.) are there to help, they are very common to us due to continuous demand and need to get the best book to read.  \n",
    "A recommendation system is a subclass of information filtering system that seeks to predict the \"rating\" or \"preference\" a user would give to an item.  \n",
    "They are primarily used in commercial applications. (source - Wikipedia)\n",
    "\n",
    "In this Project we analyse and preprocess the [Book Crossing Dataset](https://www.kaggle.com/mohitnirgulkar/book-recommendation-data) collected by [Cai-Nicolas Ziegler](http://www2.informatik.uni-freiburg.de/~cziegler/BX/)   \n",
    "and apply Machine Learning to recommend different books from a book you previously read.   \n",
    "Whole code below is in [Python](https://www.python.org/) using various libraries. Open source library [Scipy](https://www.scipy.org/) is used for preprocessing and [Scikit-Learn](https://scikit-learn.org/) is used for creating the model.\n",
    "\n",
    "<p align=\"center\">\n",
    "    <br clear=\"right\"/>\n",
    "    <img src=\"https://d15fwz9jg1iq5f.cloudfront.net/wp-content/uploads/2019/07/31184107/BlogPreview.png\" alt=\"Books\" width=\"800\" height=\"1000\" />\n",
    "</p>"
   ]
  },
  {
   "cell_type": "markdown",
   "metadata": {
    "id": "OTqd1yPG9Ah4"
   },
   "source": [
    "#  Table of Contents\n",
    "\n",
    "\n",
    " 1. Dependancies and Dataset\n",
    "\n",
    " 2. Data Cleaning\n",
    "\n",
    " 3. Data Exploration\n",
    " \n",
    " 4. Popularity Based Recommendation\n",
    " \n",
    " 5. Data Preprocessing\n",
    " \n",
    " 6. Machine Learning Modelling and Output"
   ]
  },
  {
   "cell_type": "markdown",
   "metadata": {
    "id": "snOrjf_z9Ah6"
   },
   "source": [
    "# 1. Dependancies and Dataset"
   ]
  },
  {
   "cell_type": "markdown",
   "metadata": {
    "id": "L0Z4V-zm9Ah7"
   },
   "source": [
    "### Importing Dependancies"
   ]
  },
  {
   "cell_type": "code",
   "execution_count": 83,
   "metadata": {
    "_cell_guid": "b1076dfc-b9ad-4769-8c92-a6c4dae69d19",
    "_uuid": "8f2839f25d086af736a60e9eeb907d3b93b6e0e5",
    "execution": {
     "iopub.execute_input": "2021-07-17T04:24:08.179421Z",
     "iopub.status.busy": "2021-07-17T04:24:08.178931Z",
     "iopub.status.idle": "2021-07-17T04:24:08.696087Z",
     "shell.execute_reply": "2021-07-17T04:24:08.694953Z",
     "shell.execute_reply.started": "2021-07-17T04:24:08.179287Z"
    },
    "id": "z2Xs0JlA9Ah8"
   },
   "outputs": [],
   "source": [
    "import numpy as np \n",
    "import pandas as pd \n",
    "import seaborn as sns\n",
    "import matplotlib.pyplot as plt\n",
    "from wordcloud import WordCloud,STOPWORDS\n",
    "import string\n",
    "import re\n",
    "\n",
    "%matplotlib inline\n",
    "import warnings\n",
    "warnings.filterwarnings('ignore')\n",
    "\n",
    "from scipy.sparse import csr_matrix\n",
    "from sklearn.neighbors import NearestNeighbors\n",
    "\n",
    "# change defaults\n",
    "sns.set_context('notebook')\n",
    "sns.set_style('darkgrid')\n",
    "sns.set_palette('rainbow')"
   ]
  },
  {
   "cell_type": "markdown",
   "metadata": {
    "id": "yuqnchaS9Ah9"
   },
   "source": [
    "### Importing Datasets"
   ]
  },
  {
   "cell_type": "code",
   "execution_count": 84,
   "metadata": {
    "_kg_hide-output": true,
    "execution": {
     "iopub.execute_input": "2021-07-17T04:24:08.698540Z",
     "iopub.status.busy": "2021-07-17T04:24:08.698189Z",
     "iopub.status.idle": "2021-07-17T04:24:11.516947Z",
     "shell.execute_reply": "2021-07-17T04:24:11.515695Z",
     "shell.execute_reply.started": "2021-07-17T04:24:08.698506Z"
    },
    "id": "3MPoheL79Ah-",
    "outputId": "e8da1c95-2134-4cc7-fcc6-f66e354e4498"
   },
   "outputs": [],
   "source": [
    "books = pd.read_csv(\"/home/mohan/Desktop/Projects/book_rs/Books.csv\")\n",
    "\n",
    "ratings = pd.read_csv(\"/home/mohan/Desktop/Projects/book_rs/Ratings.csv\")\n",
    "\n",
    "users = pd.read_csv(\"/home/mohan/Desktop/Projects/book_rs/Users.csv\")"
   ]
  },
  {
   "cell_type": "code",
   "execution_count": 85,
   "metadata": {
    "execution": {
     "iopub.execute_input": "2021-07-17T04:24:11.519649Z",
     "iopub.status.busy": "2021-07-17T04:24:11.519263Z",
     "iopub.status.idle": "2021-07-17T04:24:11.540696Z",
     "shell.execute_reply": "2021-07-17T04:24:11.539890Z",
     "shell.execute_reply.started": "2021-07-17T04:24:11.519600Z"
    },
    "id": "_ca96ekA9AiC",
    "outputId": "c4c57ee1-f31b-42f6-ee7e-a27db715c0dc"
   },
   "outputs": [
    {
     "data": {
      "text/html": [
       "<div>\n",
       "<style scoped>\n",
       "    .dataframe tbody tr th:only-of-type {\n",
       "        vertical-align: middle;\n",
       "    }\n",
       "\n",
       "    .dataframe tbody tr th {\n",
       "        vertical-align: top;\n",
       "    }\n",
       "\n",
       "    .dataframe thead th {\n",
       "        text-align: right;\n",
       "    }\n",
       "</style>\n",
       "<table border=\"1\" class=\"dataframe\">\n",
       "  <thead>\n",
       "    <tr style=\"text-align: right;\">\n",
       "      <th></th>\n",
       "      <th>ISBN</th>\n",
       "      <th>Book-Title</th>\n",
       "      <th>Book-Author</th>\n",
       "      <th>Year-Of-Publication</th>\n",
       "      <th>Publisher</th>\n",
       "      <th>Image-URL-S</th>\n",
       "      <th>Image-URL-M</th>\n",
       "      <th>Image-URL-L</th>\n",
       "    </tr>\n",
       "  </thead>\n",
       "  <tbody>\n",
       "    <tr>\n",
       "      <th>0</th>\n",
       "      <td>0195153448</td>\n",
       "      <td>Classical Mythology</td>\n",
       "      <td>Mark P. O. Morford</td>\n",
       "      <td>2002</td>\n",
       "      <td>Oxford University Press</td>\n",
       "      <td>http://images.amazon.com/images/P/0195153448.0...</td>\n",
       "      <td>http://images.amazon.com/images/P/0195153448.0...</td>\n",
       "      <td>http://images.amazon.com/images/P/0195153448.0...</td>\n",
       "    </tr>\n",
       "    <tr>\n",
       "      <th>1</th>\n",
       "      <td>0002005018</td>\n",
       "      <td>Clara Callan</td>\n",
       "      <td>Richard Bruce Wright</td>\n",
       "      <td>2001</td>\n",
       "      <td>HarperFlamingo Canada</td>\n",
       "      <td>http://images.amazon.com/images/P/0002005018.0...</td>\n",
       "      <td>http://images.amazon.com/images/P/0002005018.0...</td>\n",
       "      <td>http://images.amazon.com/images/P/0002005018.0...</td>\n",
       "    </tr>\n",
       "    <tr>\n",
       "      <th>2</th>\n",
       "      <td>0060973129</td>\n",
       "      <td>Decision in Normandy</td>\n",
       "      <td>Carlo D'Este</td>\n",
       "      <td>1991</td>\n",
       "      <td>HarperPerennial</td>\n",
       "      <td>http://images.amazon.com/images/P/0060973129.0...</td>\n",
       "      <td>http://images.amazon.com/images/P/0060973129.0...</td>\n",
       "      <td>http://images.amazon.com/images/P/0060973129.0...</td>\n",
       "    </tr>\n",
       "    <tr>\n",
       "      <th>3</th>\n",
       "      <td>0374157065</td>\n",
       "      <td>Flu: The Story of the Great Influenza Pandemic...</td>\n",
       "      <td>Gina Bari Kolata</td>\n",
       "      <td>1999</td>\n",
       "      <td>Farrar Straus Giroux</td>\n",
       "      <td>http://images.amazon.com/images/P/0374157065.0...</td>\n",
       "      <td>http://images.amazon.com/images/P/0374157065.0...</td>\n",
       "      <td>http://images.amazon.com/images/P/0374157065.0...</td>\n",
       "    </tr>\n",
       "    <tr>\n",
       "      <th>4</th>\n",
       "      <td>0393045218</td>\n",
       "      <td>The Mummies of Urumchi</td>\n",
       "      <td>E. J. W. Barber</td>\n",
       "      <td>1999</td>\n",
       "      <td>W. W. Norton &amp;amp; Company</td>\n",
       "      <td>http://images.amazon.com/images/P/0393045218.0...</td>\n",
       "      <td>http://images.amazon.com/images/P/0393045218.0...</td>\n",
       "      <td>http://images.amazon.com/images/P/0393045218.0...</td>\n",
       "    </tr>\n",
       "  </tbody>\n",
       "</table>\n",
       "</div>"
      ],
      "text/plain": [
       "         ISBN                                         Book-Title  \\\n",
       "0  0195153448                                Classical Mythology   \n",
       "1  0002005018                                       Clara Callan   \n",
       "2  0060973129                               Decision in Normandy   \n",
       "3  0374157065  Flu: The Story of the Great Influenza Pandemic...   \n",
       "4  0393045218                             The Mummies of Urumchi   \n",
       "\n",
       "            Book-Author Year-Of-Publication                   Publisher  \\\n",
       "0    Mark P. O. Morford                2002     Oxford University Press   \n",
       "1  Richard Bruce Wright                2001       HarperFlamingo Canada   \n",
       "2          Carlo D'Este                1991             HarperPerennial   \n",
       "3      Gina Bari Kolata                1999        Farrar Straus Giroux   \n",
       "4       E. J. W. Barber                1999  W. W. Norton &amp; Company   \n",
       "\n",
       "                                         Image-URL-S  \\\n",
       "0  http://images.amazon.com/images/P/0195153448.0...   \n",
       "1  http://images.amazon.com/images/P/0002005018.0...   \n",
       "2  http://images.amazon.com/images/P/0060973129.0...   \n",
       "3  http://images.amazon.com/images/P/0374157065.0...   \n",
       "4  http://images.amazon.com/images/P/0393045218.0...   \n",
       "\n",
       "                                         Image-URL-M  \\\n",
       "0  http://images.amazon.com/images/P/0195153448.0...   \n",
       "1  http://images.amazon.com/images/P/0002005018.0...   \n",
       "2  http://images.amazon.com/images/P/0060973129.0...   \n",
       "3  http://images.amazon.com/images/P/0374157065.0...   \n",
       "4  http://images.amazon.com/images/P/0393045218.0...   \n",
       "\n",
       "                                         Image-URL-L  \n",
       "0  http://images.amazon.com/images/P/0195153448.0...  \n",
       "1  http://images.amazon.com/images/P/0002005018.0...  \n",
       "2  http://images.amazon.com/images/P/0060973129.0...  \n",
       "3  http://images.amazon.com/images/P/0374157065.0...  \n",
       "4  http://images.amazon.com/images/P/0393045218.0...  "
      ]
     },
     "execution_count": 85,
     "metadata": {},
     "output_type": "execute_result"
    }
   ],
   "source": [
    "books.head()"
   ]
  },
  {
   "cell_type": "markdown",
   "metadata": {
    "id": "srEL4bPv9AiF"
   },
   "source": [
    "Displaying first two entries of users Data"
   ]
  },
  {
   "cell_type": "code",
   "execution_count": 86,
   "metadata": {
    "execution": {
     "iopub.execute_input": "2021-07-17T04:24:11.563735Z",
     "iopub.status.busy": "2021-07-17T04:24:11.563453Z",
     "iopub.status.idle": "2021-07-17T04:24:11.579597Z",
     "shell.execute_reply": "2021-07-17T04:24:11.577836Z",
     "shell.execute_reply.started": "2021-07-17T04:24:11.563708Z"
    },
    "id": "MYFTemAD9AiF",
    "outputId": "5762b464-039a-4f71-a77d-4d7eec4044e1"
   },
   "outputs": [
    {
     "data": {
      "text/html": [
       "<div>\n",
       "<style scoped>\n",
       "    .dataframe tbody tr th:only-of-type {\n",
       "        vertical-align: middle;\n",
       "    }\n",
       "\n",
       "    .dataframe tbody tr th {\n",
       "        vertical-align: top;\n",
       "    }\n",
       "\n",
       "    .dataframe thead th {\n",
       "        text-align: right;\n",
       "    }\n",
       "</style>\n",
       "<table border=\"1\" class=\"dataframe\">\n",
       "  <thead>\n",
       "    <tr style=\"text-align: right;\">\n",
       "      <th></th>\n",
       "      <th>User-ID</th>\n",
       "      <th>Location</th>\n",
       "      <th>Age</th>\n",
       "    </tr>\n",
       "  </thead>\n",
       "  <tbody>\n",
       "    <tr>\n",
       "      <th>0</th>\n",
       "      <td>1</td>\n",
       "      <td>nyc, new york, usa</td>\n",
       "      <td>NaN</td>\n",
       "    </tr>\n",
       "    <tr>\n",
       "      <th>1</th>\n",
       "      <td>2</td>\n",
       "      <td>stockton, california, usa</td>\n",
       "      <td>18.0</td>\n",
       "    </tr>\n",
       "    <tr>\n",
       "      <th>2</th>\n",
       "      <td>3</td>\n",
       "      <td>moscow, yukon territory, russia</td>\n",
       "      <td>NaN</td>\n",
       "    </tr>\n",
       "    <tr>\n",
       "      <th>3</th>\n",
       "      <td>4</td>\n",
       "      <td>porto, v.n.gaia, portugal</td>\n",
       "      <td>17.0</td>\n",
       "    </tr>\n",
       "    <tr>\n",
       "      <th>4</th>\n",
       "      <td>5</td>\n",
       "      <td>farnborough, hants, united kingdom</td>\n",
       "      <td>NaN</td>\n",
       "    </tr>\n",
       "  </tbody>\n",
       "</table>\n",
       "</div>"
      ],
      "text/plain": [
       "   User-ID                            Location   Age\n",
       "0        1                  nyc, new york, usa   NaN\n",
       "1        2           stockton, california, usa  18.0\n",
       "2        3     moscow, yukon territory, russia   NaN\n",
       "3        4           porto, v.n.gaia, portugal  17.0\n",
       "4        5  farnborough, hants, united kingdom   NaN"
      ]
     },
     "execution_count": 86,
     "metadata": {},
     "output_type": "execute_result"
    }
   ],
   "source": [
    "users.head()"
   ]
  },
  {
   "cell_type": "code",
   "execution_count": 87,
   "metadata": {},
   "outputs": [
    {
     "data": {
      "text/html": [
       "<div>\n",
       "<style scoped>\n",
       "    .dataframe tbody tr th:only-of-type {\n",
       "        vertical-align: middle;\n",
       "    }\n",
       "\n",
       "    .dataframe tbody tr th {\n",
       "        vertical-align: top;\n",
       "    }\n",
       "\n",
       "    .dataframe thead th {\n",
       "        text-align: right;\n",
       "    }\n",
       "</style>\n",
       "<table border=\"1\" class=\"dataframe\">\n",
       "  <thead>\n",
       "    <tr style=\"text-align: right;\">\n",
       "      <th></th>\n",
       "      <th>User-ID</th>\n",
       "      <th>ISBN</th>\n",
       "      <th>Book-Rating</th>\n",
       "    </tr>\n",
       "  </thead>\n",
       "  <tbody>\n",
       "    <tr>\n",
       "      <th>0</th>\n",
       "      <td>276725</td>\n",
       "      <td>034545104X</td>\n",
       "      <td>0</td>\n",
       "    </tr>\n",
       "    <tr>\n",
       "      <th>1</th>\n",
       "      <td>276726</td>\n",
       "      <td>0155061224</td>\n",
       "      <td>5</td>\n",
       "    </tr>\n",
       "    <tr>\n",
       "      <th>2</th>\n",
       "      <td>276727</td>\n",
       "      <td>0446520802</td>\n",
       "      <td>0</td>\n",
       "    </tr>\n",
       "    <tr>\n",
       "      <th>3</th>\n",
       "      <td>276729</td>\n",
       "      <td>052165615X</td>\n",
       "      <td>3</td>\n",
       "    </tr>\n",
       "    <tr>\n",
       "      <th>4</th>\n",
       "      <td>276729</td>\n",
       "      <td>0521795028</td>\n",
       "      <td>6</td>\n",
       "    </tr>\n",
       "  </tbody>\n",
       "</table>\n",
       "</div>"
      ],
      "text/plain": [
       "   User-ID        ISBN  Book-Rating\n",
       "0   276725  034545104X            0\n",
       "1   276726  0155061224            5\n",
       "2   276727  0446520802            0\n",
       "3   276729  052165615X            3\n",
       "4   276729  0521795028            6"
      ]
     },
     "execution_count": 87,
     "metadata": {},
     "output_type": "execute_result"
    }
   ],
   "source": [
    "ratings.head()"
   ]
  },
  {
   "cell_type": "markdown",
   "metadata": {
    "id": "YSJuLgJa9AiG"
   },
   "source": [
    "# 2. Data Cleaning"
   ]
  },
  {
   "cell_type": "markdown",
   "metadata": {
    "id": "TOpHWsWj9AiG"
   },
   "source": [
    "### Checking Books Data"
   ]
  },
  {
   "cell_type": "code",
   "execution_count": 88,
   "metadata": {
    "execution": {
     "iopub.execute_input": "2021-07-17T04:24:11.581629Z",
     "iopub.status.busy": "2021-07-17T04:24:11.580901Z",
     "iopub.status.idle": "2021-07-17T04:24:11.691001Z",
     "shell.execute_reply": "2021-07-17T04:24:11.689623Z",
     "shell.execute_reply.started": "2021-07-17T04:24:11.581575Z"
    },
    "id": "cRWqzp_Y9AiH",
    "outputId": "22f98758-ba00-4850-a5c8-605a4244e701"
   },
   "outputs": [
    {
     "name": "stdout",
     "output_type": "stream",
     "text": [
      "<class 'pandas.core.frame.DataFrame'>\n",
      "RangeIndex: 271360 entries, 0 to 271359\n",
      "Data columns (total 8 columns):\n",
      " #   Column               Non-Null Count   Dtype \n",
      "---  ------               --------------   ----- \n",
      " 0   ISBN                 271360 non-null  object\n",
      " 1   Book-Title           271360 non-null  object\n",
      " 2   Book-Author          271358 non-null  object\n",
      " 3   Year-Of-Publication  271360 non-null  object\n",
      " 4   Publisher            271358 non-null  object\n",
      " 5   Image-URL-S          271360 non-null  object\n",
      " 6   Image-URL-M          271360 non-null  object\n",
      " 7   Image-URL-L          271357 non-null  object\n",
      "dtypes: object(8)\n",
      "memory usage: 16.6+ MB\n"
     ]
    }
   ],
   "source": [
    "books.info()"
   ]
  },
  {
   "cell_type": "markdown",
   "metadata": {
    "id": "SKj0MNmN9AiH"
   },
   "source": [
    "Column yearOfPublication should be set having dtype as int, hence checking the unique values of yearOfPublication using [Series.unique()](https://pandas.pydata.org/docs/reference/api/pandas.Series.unique.html) method"
   ]
  },
  {
   "cell_type": "code",
   "execution_count": 89,
   "metadata": {
    "execution": {
     "iopub.execute_input": "2021-07-17T04:24:11.692678Z",
     "iopub.status.busy": "2021-07-17T04:24:11.692355Z",
     "iopub.status.idle": "2021-07-17T04:24:11.716246Z",
     "shell.execute_reply": "2021-07-17T04:24:11.715003Z",
     "shell.execute_reply.started": "2021-07-17T04:24:11.692647Z"
    },
    "id": "Lxg5fy8t9AiI",
    "outputId": "68806f80-2dba-45e8-abe6-a54a9938b020"
   },
   "outputs": [
    {
     "data": {
      "text/plain": [
       "array([2002, 2001, 1991, 1999, 2000, 1993, 1996, 1988, 2004, 1998, 1994,\n",
       "       2003, 1997, 1983, 1979, 1995, 1982, 1985, 1992, 1986, 1978, 1980,\n",
       "       1952, 1987, 1990, 1981, 1989, 1984, 0, 1968, 1961, 1958, 1974,\n",
       "       1976, 1971, 1977, 1975, 1965, 1941, 1970, 1962, 1973, 1972, 1960,\n",
       "       1966, 1920, 1956, 1959, 1953, 1951, 1942, 1963, 1964, 1969, 1954,\n",
       "       1950, 1967, 2005, 1957, 1940, 1937, 1955, 1946, 1936, 1930, 2011,\n",
       "       1925, 1948, 1943, 1947, 1945, 1923, 2020, 1939, 1926, 1938, 2030,\n",
       "       1911, 1904, 1949, 1932, 1928, 1929, 1927, 1931, 1914, 2050, 1934,\n",
       "       1910, 1933, 1902, 1924, 1921, 1900, 2038, 2026, 1944, 1917, 1901,\n",
       "       2010, 1908, 1906, 1935, 1806, 2021, '2000', '1995', '1999', '2004',\n",
       "       '2003', '1990', '1994', '1986', '1989', '2002', '1981', '1993',\n",
       "       '1983', '1982', '1976', '1991', '1977', '1998', '1992', '1996',\n",
       "       '0', '1997', '2001', '1974', '1968', '1987', '1984', '1988',\n",
       "       '1963', '1956', '1970', '1985', '1978', '1973', '1980', '1979',\n",
       "       '1975', '1969', '1961', '1965', '1939', '1958', '1950', '1953',\n",
       "       '1966', '1971', '1959', '1972', '1955', '1957', '1945', '1960',\n",
       "       '1967', '1932', '1924', '1964', '2012', '1911', '1927', '1948',\n",
       "       '1962', '2006', '1952', '1940', '1951', '1931', '1954', '2005',\n",
       "       '1930', '1941', '1944', 'DK Publishing Inc', '1943', '1938',\n",
       "       '1900', '1942', '1923', '1920', '1933', 'Gallimard', '1909',\n",
       "       '1946', '2008', '1378', '2030', '1936', '1947', '2011', '2020',\n",
       "       '1919', '1949', '1922', '1897', '2024', '1376', '1926', '2037'],\n",
       "      dtype=object)"
      ]
     },
     "execution_count": 89,
     "metadata": {},
     "output_type": "execute_result"
    }
   ],
   "source": [
    "books[\"Year-Of-Publication\"].unique()"
   ]
  },
  {
   "cell_type": "markdown",
   "metadata": {
    "id": "FikXxEQ09AiI"
   },
   "source": [
    "We can observe from above that some author names are mixed up in year data like 'DK Publishing Inc' and 'Gallimard'  \n",
    "Checking the rows having 'DK Publishing Inc' as yearOfPublication using [DataFrame.loc[]](https://pandas.pydata.org/pandas-docs/stable/reference/api/pandas.DataFrame.loc.html) method"
   ]
  },
  {
   "cell_type": "code",
   "execution_count": 90,
   "metadata": {
    "execution": {
     "iopub.execute_input": "2021-07-17T04:24:11.720179Z",
     "iopub.status.busy": "2021-07-17T04:24:11.719865Z",
     "iopub.status.idle": "2021-07-17T04:24:11.753205Z",
     "shell.execute_reply": "2021-07-17T04:24:11.751941Z",
     "shell.execute_reply.started": "2021-07-17T04:24:11.720145Z"
    },
    "id": "yYl8ovcQ9AiJ",
    "outputId": "dbbbbf39-5cc5-4607-a44f-15bb5c46ba78"
   },
   "outputs": [
    {
     "data": {
      "text/html": [
       "<div>\n",
       "<style scoped>\n",
       "    .dataframe tbody tr th:only-of-type {\n",
       "        vertical-align: middle;\n",
       "    }\n",
       "\n",
       "    .dataframe tbody tr th {\n",
       "        vertical-align: top;\n",
       "    }\n",
       "\n",
       "    .dataframe thead th {\n",
       "        text-align: right;\n",
       "    }\n",
       "</style>\n",
       "<table border=\"1\" class=\"dataframe\">\n",
       "  <thead>\n",
       "    <tr style=\"text-align: right;\">\n",
       "      <th></th>\n",
       "      <th>ISBN</th>\n",
       "      <th>Book-Title</th>\n",
       "      <th>Book-Author</th>\n",
       "      <th>Year-Of-Publication</th>\n",
       "      <th>Publisher</th>\n",
       "      <th>Image-URL-S</th>\n",
       "      <th>Image-URL-M</th>\n",
       "      <th>Image-URL-L</th>\n",
       "    </tr>\n",
       "  </thead>\n",
       "  <tbody>\n",
       "    <tr>\n",
       "      <th>209538</th>\n",
       "      <td>078946697X</td>\n",
       "      <td>DK Readers: Creating the X-Men, How It All Beg...</td>\n",
       "      <td>2000</td>\n",
       "      <td>DK Publishing Inc</td>\n",
       "      <td>http://images.amazon.com/images/P/078946697X.0...</td>\n",
       "      <td>http://images.amazon.com/images/P/078946697X.0...</td>\n",
       "      <td>http://images.amazon.com/images/P/078946697X.0...</td>\n",
       "      <td>NaN</td>\n",
       "    </tr>\n",
       "    <tr>\n",
       "      <th>221678</th>\n",
       "      <td>0789466953</td>\n",
       "      <td>DK Readers: Creating the X-Men, How Comic Book...</td>\n",
       "      <td>2000</td>\n",
       "      <td>DK Publishing Inc</td>\n",
       "      <td>http://images.amazon.com/images/P/0789466953.0...</td>\n",
       "      <td>http://images.amazon.com/images/P/0789466953.0...</td>\n",
       "      <td>http://images.amazon.com/images/P/0789466953.0...</td>\n",
       "      <td>NaN</td>\n",
       "    </tr>\n",
       "  </tbody>\n",
       "</table>\n",
       "</div>"
      ],
      "text/plain": [
       "              ISBN                                         Book-Title  \\\n",
       "209538  078946697X  DK Readers: Creating the X-Men, How It All Beg...   \n",
       "221678  0789466953  DK Readers: Creating the X-Men, How Comic Book...   \n",
       "\n",
       "       Book-Author Year-Of-Publication  \\\n",
       "209538        2000   DK Publishing Inc   \n",
       "221678        2000   DK Publishing Inc   \n",
       "\n",
       "                                                Publisher  \\\n",
       "209538  http://images.amazon.com/images/P/078946697X.0...   \n",
       "221678  http://images.amazon.com/images/P/0789466953.0...   \n",
       "\n",
       "                                              Image-URL-S  \\\n",
       "209538  http://images.amazon.com/images/P/078946697X.0...   \n",
       "221678  http://images.amazon.com/images/P/0789466953.0...   \n",
       "\n",
       "                                              Image-URL-M Image-URL-L  \n",
       "209538  http://images.amazon.com/images/P/078946697X.0...         NaN  \n",
       "221678  http://images.amazon.com/images/P/0789466953.0...         NaN  "
      ]
     },
     "execution_count": 90,
     "metadata": {},
     "output_type": "execute_result"
    }
   ],
   "source": [
    "books.loc[books[\"Year-Of-Publication\"] == 'DK Publishing Inc',:]"
   ]
  },
  {
   "cell_type": "code",
   "execution_count": 94,
   "metadata": {
    "execution": {
     "iopub.execute_input": "2021-07-17T04:24:12.486774Z",
     "iopub.status.busy": "2021-07-17T04:24:12.486490Z",
     "iopub.status.idle": "2021-07-17T04:24:12.511572Z",
     "shell.execute_reply": "2021-07-17T04:24:12.510267Z",
     "shell.execute_reply.started": "2021-07-17T04:24:12.486747Z"
    },
    "id": "DDlhsnOV9AiS",
    "outputId": "a767507e-1acb-4d5f-97c8-209a61d32556"
   },
   "outputs": [
    {
     "data": {
      "text/html": [
       "<div>\n",
       "<style scoped>\n",
       "    .dataframe tbody tr th:only-of-type {\n",
       "        vertical-align: middle;\n",
       "    }\n",
       "\n",
       "    .dataframe tbody tr th {\n",
       "        vertical-align: top;\n",
       "    }\n",
       "\n",
       "    .dataframe thead th {\n",
       "        text-align: right;\n",
       "    }\n",
       "</style>\n",
       "<table border=\"1\" class=\"dataframe\">\n",
       "  <thead>\n",
       "    <tr style=\"text-align: right;\">\n",
       "      <th></th>\n",
       "      <th>ISBN</th>\n",
       "      <th>Book-Title</th>\n",
       "      <th>Book-Author</th>\n",
       "      <th>Year-Of-Publication</th>\n",
       "      <th>Publisher</th>\n",
       "      <th>Image-URL-S</th>\n",
       "      <th>Image-URL-M</th>\n",
       "      <th>Image-URL-L</th>\n",
       "    </tr>\n",
       "  </thead>\n",
       "  <tbody>\n",
       "    <tr>\n",
       "      <th>128890</th>\n",
       "      <td>193169656X</td>\n",
       "      <td>Tyrant Moon</td>\n",
       "      <td>Elaine Corvidae</td>\n",
       "      <td>2002</td>\n",
       "      <td>NaN</td>\n",
       "      <td>http://images.amazon.com/images/P/193169656X.0...</td>\n",
       "      <td>http://images.amazon.com/images/P/193169656X.0...</td>\n",
       "      <td>http://images.amazon.com/images/P/193169656X.0...</td>\n",
       "    </tr>\n",
       "    <tr>\n",
       "      <th>129037</th>\n",
       "      <td>1931696993</td>\n",
       "      <td>Finders Keepers</td>\n",
       "      <td>Linnea Sinclair</td>\n",
       "      <td>2001</td>\n",
       "      <td>NaN</td>\n",
       "      <td>http://images.amazon.com/images/P/1931696993.0...</td>\n",
       "      <td>http://images.amazon.com/images/P/1931696993.0...</td>\n",
       "      <td>http://images.amazon.com/images/P/1931696993.0...</td>\n",
       "    </tr>\n",
       "  </tbody>\n",
       "</table>\n",
       "</div>"
      ],
      "text/plain": [
       "              ISBN       Book-Title      Book-Author Year-Of-Publication  \\\n",
       "128890  193169656X      Tyrant Moon  Elaine Corvidae                2002   \n",
       "129037  1931696993  Finders Keepers  Linnea Sinclair                2001   \n",
       "\n",
       "       Publisher                                        Image-URL-S  \\\n",
       "128890       NaN  http://images.amazon.com/images/P/193169656X.0...   \n",
       "129037       NaN  http://images.amazon.com/images/P/1931696993.0...   \n",
       "\n",
       "                                              Image-URL-M  \\\n",
       "128890  http://images.amazon.com/images/P/193169656X.0...   \n",
       "129037  http://images.amazon.com/images/P/1931696993.0...   \n",
       "\n",
       "                                              Image-URL-L  \n",
       "128890  http://images.amazon.com/images/P/193169656X.0...  \n",
       "129037  http://images.amazon.com/images/P/1931696993.0...  "
      ]
     },
     "execution_count": 94,
     "metadata": {},
     "output_type": "execute_result"
    }
   ],
   "source": [
    "books.loc[books[\"Publisher\"].isnull(),:]"
   ]
  },
  {
   "cell_type": "markdown",
   "metadata": {
    "id": "ni66kU8u9AiS"
   },
   "source": [
    "Checking with rows having bookTitle as Tyrant Moon to see if we can get any clues"
   ]
  },
  {
   "cell_type": "code",
   "execution_count": 95,
   "metadata": {
    "execution": {
     "iopub.execute_input": "2021-07-17T04:24:12.513676Z",
     "iopub.status.busy": "2021-07-17T04:24:12.513246Z",
     "iopub.status.idle": "2021-07-17T04:24:12.544704Z",
     "shell.execute_reply": "2021-07-17T04:24:12.543895Z",
     "shell.execute_reply.started": "2021-07-17T04:24:12.513632Z"
    },
    "id": "KC9coHnM9AiS",
    "outputId": "7b934bee-767e-4b03-ee27-546bdca77a50"
   },
   "outputs": [
    {
     "data": {
      "text/html": [
       "<div>\n",
       "<style scoped>\n",
       "    .dataframe tbody tr th:only-of-type {\n",
       "        vertical-align: middle;\n",
       "    }\n",
       "\n",
       "    .dataframe tbody tr th {\n",
       "        vertical-align: top;\n",
       "    }\n",
       "\n",
       "    .dataframe thead th {\n",
       "        text-align: right;\n",
       "    }\n",
       "</style>\n",
       "<table border=\"1\" class=\"dataframe\">\n",
       "  <thead>\n",
       "    <tr style=\"text-align: right;\">\n",
       "      <th></th>\n",
       "      <th>ISBN</th>\n",
       "      <th>Book-Title</th>\n",
       "      <th>Book-Author</th>\n",
       "      <th>Year-Of-Publication</th>\n",
       "      <th>Publisher</th>\n",
       "      <th>Image-URL-S</th>\n",
       "      <th>Image-URL-M</th>\n",
       "      <th>Image-URL-L</th>\n",
       "    </tr>\n",
       "  </thead>\n",
       "  <tbody>\n",
       "    <tr>\n",
       "      <th>128890</th>\n",
       "      <td>193169656X</td>\n",
       "      <td>Tyrant Moon</td>\n",
       "      <td>Elaine Corvidae</td>\n",
       "      <td>2002</td>\n",
       "      <td>NaN</td>\n",
       "      <td>http://images.amazon.com/images/P/193169656X.0...</td>\n",
       "      <td>http://images.amazon.com/images/P/193169656X.0...</td>\n",
       "      <td>http://images.amazon.com/images/P/193169656X.0...</td>\n",
       "    </tr>\n",
       "  </tbody>\n",
       "</table>\n",
       "</div>"
      ],
      "text/plain": [
       "              ISBN   Book-Title      Book-Author Year-Of-Publication  \\\n",
       "128890  193169656X  Tyrant Moon  Elaine Corvidae                2002   \n",
       "\n",
       "       Publisher                                        Image-URL-S  \\\n",
       "128890       NaN  http://images.amazon.com/images/P/193169656X.0...   \n",
       "\n",
       "                                              Image-URL-M  \\\n",
       "128890  http://images.amazon.com/images/P/193169656X.0...   \n",
       "\n",
       "                                              Image-URL-L  \n",
       "128890  http://images.amazon.com/images/P/193169656X.0...  "
      ]
     },
     "execution_count": 95,
     "metadata": {},
     "output_type": "execute_result"
    }
   ],
   "source": [
    "books.loc[(books[\"Book-Title\"] == 'Tyrant Moon'),:]"
   ]
  },
  {
   "cell_type": "markdown",
   "metadata": {
    "id": "pypyrHSD9AiT"
   },
   "source": [
    "No clues for Tyrant Moon , Hence checking with rows having bookTitle as Finders Keepers to see if we can get any clues"
   ]
  },
  {
   "cell_type": "code",
   "execution_count": 97,
   "metadata": {
    "execution": {
     "iopub.execute_input": "2021-07-17T04:24:12.546413Z",
     "iopub.status.busy": "2021-07-17T04:24:12.545848Z",
     "iopub.status.idle": "2021-07-17T04:24:12.579044Z",
     "shell.execute_reply": "2021-07-17T04:24:12.577891Z",
     "shell.execute_reply.started": "2021-07-17T04:24:12.546355Z"
    },
    "id": "o_Wo48Jf9AiU",
    "outputId": "9b4762d6-4ff0-4450-969f-2e8420f84f2b"
   },
   "outputs": [
    {
     "data": {
      "text/html": [
       "<div>\n",
       "<style scoped>\n",
       "    .dataframe tbody tr th:only-of-type {\n",
       "        vertical-align: middle;\n",
       "    }\n",
       "\n",
       "    .dataframe tbody tr th {\n",
       "        vertical-align: top;\n",
       "    }\n",
       "\n",
       "    .dataframe thead th {\n",
       "        text-align: right;\n",
       "    }\n",
       "</style>\n",
       "<table border=\"1\" class=\"dataframe\">\n",
       "  <thead>\n",
       "    <tr style=\"text-align: right;\">\n",
       "      <th></th>\n",
       "      <th>ISBN</th>\n",
       "      <th>Book-Title</th>\n",
       "      <th>Book-Author</th>\n",
       "      <th>Year-Of-Publication</th>\n",
       "      <th>Publisher</th>\n",
       "      <th>Image-URL-S</th>\n",
       "      <th>Image-URL-M</th>\n",
       "      <th>Image-URL-L</th>\n",
       "    </tr>\n",
       "  </thead>\n",
       "  <tbody>\n",
       "    <tr>\n",
       "      <th>10799</th>\n",
       "      <td>082177364X</td>\n",
       "      <td>Finders Keepers</td>\n",
       "      <td>Fern Michaels</td>\n",
       "      <td>2002</td>\n",
       "      <td>Zebra Books</td>\n",
       "      <td>http://images.amazon.com/images/P/082177364X.0...</td>\n",
       "      <td>http://images.amazon.com/images/P/082177364X.0...</td>\n",
       "      <td>http://images.amazon.com/images/P/082177364X.0...</td>\n",
       "    </tr>\n",
       "    <tr>\n",
       "      <th>42019</th>\n",
       "      <td>0070465037</td>\n",
       "      <td>Finders Keepers</td>\n",
       "      <td>Barbara Nickolae</td>\n",
       "      <td>1989</td>\n",
       "      <td>McGraw-Hill Companies</td>\n",
       "      <td>http://images.amazon.com/images/P/0070465037.0...</td>\n",
       "      <td>http://images.amazon.com/images/P/0070465037.0...</td>\n",
       "      <td>http://images.amazon.com/images/P/0070465037.0...</td>\n",
       "    </tr>\n",
       "    <tr>\n",
       "      <th>58264</th>\n",
       "      <td>0688118461</td>\n",
       "      <td>Finders Keepers</td>\n",
       "      <td>Emily Rodda</td>\n",
       "      <td>1993</td>\n",
       "      <td>Harpercollins Juvenile Books</td>\n",
       "      <td>http://images.amazon.com/images/P/0688118461.0...</td>\n",
       "      <td>http://images.amazon.com/images/P/0688118461.0...</td>\n",
       "      <td>http://images.amazon.com/images/P/0688118461.0...</td>\n",
       "    </tr>\n",
       "    <tr>\n",
       "      <th>66678</th>\n",
       "      <td>1575663236</td>\n",
       "      <td>Finders Keepers</td>\n",
       "      <td>Fern Michaels</td>\n",
       "      <td>1998</td>\n",
       "      <td>Kensington Publishing Corporation</td>\n",
       "      <td>http://images.amazon.com/images/P/1575663236.0...</td>\n",
       "      <td>http://images.amazon.com/images/P/1575663236.0...</td>\n",
       "      <td>http://images.amazon.com/images/P/1575663236.0...</td>\n",
       "    </tr>\n",
       "    <tr>\n",
       "      <th>129037</th>\n",
       "      <td>1931696993</td>\n",
       "      <td>Finders Keepers</td>\n",
       "      <td>Linnea Sinclair</td>\n",
       "      <td>2001</td>\n",
       "      <td>NaN</td>\n",
       "      <td>http://images.amazon.com/images/P/1931696993.0...</td>\n",
       "      <td>http://images.amazon.com/images/P/1931696993.0...</td>\n",
       "      <td>http://images.amazon.com/images/P/1931696993.0...</td>\n",
       "    </tr>\n",
       "    <tr>\n",
       "      <th>134309</th>\n",
       "      <td>0156309505</td>\n",
       "      <td>Finders Keepers</td>\n",
       "      <td>Will</td>\n",
       "      <td>1989</td>\n",
       "      <td>Voyager Books</td>\n",
       "      <td>http://images.amazon.com/images/P/0156309505.0...</td>\n",
       "      <td>http://images.amazon.com/images/P/0156309505.0...</td>\n",
       "      <td>http://images.amazon.com/images/P/0156309505.0...</td>\n",
       "    </tr>\n",
       "    <tr>\n",
       "      <th>173473</th>\n",
       "      <td>0973146907</td>\n",
       "      <td>Finders Keepers</td>\n",
       "      <td>Sean M. Costello</td>\n",
       "      <td>2002</td>\n",
       "      <td>Red Tower Publications</td>\n",
       "      <td>http://images.amazon.com/images/P/0973146907.0...</td>\n",
       "      <td>http://images.amazon.com/images/P/0973146907.0...</td>\n",
       "      <td>http://images.amazon.com/images/P/0973146907.0...</td>\n",
       "    </tr>\n",
       "    <tr>\n",
       "      <th>195885</th>\n",
       "      <td>0061083909</td>\n",
       "      <td>Finders Keepers</td>\n",
       "      <td>Sharon Sala</td>\n",
       "      <td>2003</td>\n",
       "      <td>HarperTorch</td>\n",
       "      <td>http://images.amazon.com/images/P/0061083909.0...</td>\n",
       "      <td>http://images.amazon.com/images/P/0061083909.0...</td>\n",
       "      <td>http://images.amazon.com/images/P/0061083909.0...</td>\n",
       "    </tr>\n",
       "    <tr>\n",
       "      <th>211874</th>\n",
       "      <td>0373261160</td>\n",
       "      <td>Finders Keepers</td>\n",
       "      <td>Elizabeth Travis</td>\n",
       "      <td>1993</td>\n",
       "      <td>Worldwide Library</td>\n",
       "      <td>http://images.amazon.com/images/P/0373261160.0...</td>\n",
       "      <td>http://images.amazon.com/images/P/0373261160.0...</td>\n",
       "      <td>http://images.amazon.com/images/P/0373261160.0...</td>\n",
       "    </tr>\n",
       "  </tbody>\n",
       "</table>\n",
       "</div>"
      ],
      "text/plain": [
       "              ISBN       Book-Title       Book-Author Year-Of-Publication  \\\n",
       "10799   082177364X  Finders Keepers     Fern Michaels                2002   \n",
       "42019   0070465037  Finders Keepers  Barbara Nickolae                1989   \n",
       "58264   0688118461  Finders Keepers       Emily Rodda                1993   \n",
       "66678   1575663236  Finders Keepers     Fern Michaels                1998   \n",
       "129037  1931696993  Finders Keepers   Linnea Sinclair                2001   \n",
       "134309  0156309505  Finders Keepers              Will                1989   \n",
       "173473  0973146907  Finders Keepers  Sean M. Costello                2002   \n",
       "195885  0061083909  Finders Keepers       Sharon Sala                2003   \n",
       "211874  0373261160  Finders Keepers  Elizabeth Travis                1993   \n",
       "\n",
       "                                Publisher  \\\n",
       "10799                         Zebra Books   \n",
       "42019               McGraw-Hill Companies   \n",
       "58264        Harpercollins Juvenile Books   \n",
       "66678   Kensington Publishing Corporation   \n",
       "129037                                NaN   \n",
       "134309                      Voyager Books   \n",
       "173473             Red Tower Publications   \n",
       "195885                        HarperTorch   \n",
       "211874                  Worldwide Library   \n",
       "\n",
       "                                              Image-URL-S  \\\n",
       "10799   http://images.amazon.com/images/P/082177364X.0...   \n",
       "42019   http://images.amazon.com/images/P/0070465037.0...   \n",
       "58264   http://images.amazon.com/images/P/0688118461.0...   \n",
       "66678   http://images.amazon.com/images/P/1575663236.0...   \n",
       "129037  http://images.amazon.com/images/P/1931696993.0...   \n",
       "134309  http://images.amazon.com/images/P/0156309505.0...   \n",
       "173473  http://images.amazon.com/images/P/0973146907.0...   \n",
       "195885  http://images.amazon.com/images/P/0061083909.0...   \n",
       "211874  http://images.amazon.com/images/P/0373261160.0...   \n",
       "\n",
       "                                              Image-URL-M  \\\n",
       "10799   http://images.amazon.com/images/P/082177364X.0...   \n",
       "42019   http://images.amazon.com/images/P/0070465037.0...   \n",
       "58264   http://images.amazon.com/images/P/0688118461.0...   \n",
       "66678   http://images.amazon.com/images/P/1575663236.0...   \n",
       "129037  http://images.amazon.com/images/P/1931696993.0...   \n",
       "134309  http://images.amazon.com/images/P/0156309505.0...   \n",
       "173473  http://images.amazon.com/images/P/0973146907.0...   \n",
       "195885  http://images.amazon.com/images/P/0061083909.0...   \n",
       "211874  http://images.amazon.com/images/P/0373261160.0...   \n",
       "\n",
       "                                              Image-URL-L  \n",
       "10799   http://images.amazon.com/images/P/082177364X.0...  \n",
       "42019   http://images.amazon.com/images/P/0070465037.0...  \n",
       "58264   http://images.amazon.com/images/P/0688118461.0...  \n",
       "66678   http://images.amazon.com/images/P/1575663236.0...  \n",
       "129037  http://images.amazon.com/images/P/1931696993.0...  \n",
       "134309  http://images.amazon.com/images/P/0156309505.0...  \n",
       "173473  http://images.amazon.com/images/P/0973146907.0...  \n",
       "195885  http://images.amazon.com/images/P/0061083909.0...  \n",
       "211874  http://images.amazon.com/images/P/0373261160.0...  "
      ]
     },
     "execution_count": 97,
     "metadata": {},
     "output_type": "execute_result"
    }
   ],
   "source": [
    "books.loc[(books[\"Book-Title\"] == 'Finders Keepers'),:]"
   ]
  },
  {
   "cell_type": "markdown",
   "metadata": {
    "id": "gTDsppjm9AiU"
   },
   "source": [
    "No clues here either as every book has different publishers , So checking  with rows having author Elaine Corvidae and Linnea Sinclair"
   ]
  },
  {
   "cell_type": "code",
   "execution_count": 98,
   "metadata": {
    "execution": {
     "iopub.execute_input": "2021-07-17T04:24:12.581080Z",
     "iopub.status.busy": "2021-07-17T04:24:12.580766Z",
     "iopub.status.idle": "2021-07-17T04:24:12.632239Z",
     "shell.execute_reply": "2021-07-17T04:24:12.631285Z",
     "shell.execute_reply.started": "2021-07-17T04:24:12.581049Z"
    },
    "id": "dOeSfSzA9AiU",
    "outputId": "8d87950e-0416-4cb2-bdb0-385ef79e5b6e"
   },
   "outputs": [
    {
     "data": {
      "text/html": [
       "<div>\n",
       "<style scoped>\n",
       "    .dataframe tbody tr th:only-of-type {\n",
       "        vertical-align: middle;\n",
       "    }\n",
       "\n",
       "    .dataframe tbody tr th {\n",
       "        vertical-align: top;\n",
       "    }\n",
       "\n",
       "    .dataframe thead th {\n",
       "        text-align: right;\n",
       "    }\n",
       "</style>\n",
       "<table border=\"1\" class=\"dataframe\">\n",
       "  <thead>\n",
       "    <tr style=\"text-align: right;\">\n",
       "      <th></th>\n",
       "      <th>ISBN</th>\n",
       "      <th>Book-Title</th>\n",
       "      <th>Book-Author</th>\n",
       "      <th>Year-Of-Publication</th>\n",
       "      <th>Publisher</th>\n",
       "      <th>Image-URL-S</th>\n",
       "      <th>Image-URL-M</th>\n",
       "      <th>Image-URL-L</th>\n",
       "    </tr>\n",
       "  </thead>\n",
       "  <tbody>\n",
       "    <tr>\n",
       "      <th>126762</th>\n",
       "      <td>1931696934</td>\n",
       "      <td>Winter's Orphans</td>\n",
       "      <td>Elaine Corvidae</td>\n",
       "      <td>2001</td>\n",
       "      <td>Novelbooks</td>\n",
       "      <td>http://images.amazon.com/images/P/1931696934.0...</td>\n",
       "      <td>http://images.amazon.com/images/P/1931696934.0...</td>\n",
       "      <td>http://images.amazon.com/images/P/1931696934.0...</td>\n",
       "    </tr>\n",
       "    <tr>\n",
       "      <th>128890</th>\n",
       "      <td>193169656X</td>\n",
       "      <td>Tyrant Moon</td>\n",
       "      <td>Elaine Corvidae</td>\n",
       "      <td>2002</td>\n",
       "      <td>NaN</td>\n",
       "      <td>http://images.amazon.com/images/P/193169656X.0...</td>\n",
       "      <td>http://images.amazon.com/images/P/193169656X.0...</td>\n",
       "      <td>http://images.amazon.com/images/P/193169656X.0...</td>\n",
       "    </tr>\n",
       "    <tr>\n",
       "      <th>129001</th>\n",
       "      <td>0759901880</td>\n",
       "      <td>Wolfkin</td>\n",
       "      <td>Elaine Corvidae</td>\n",
       "      <td>2001</td>\n",
       "      <td>Hard Shell Word Factory</td>\n",
       "      <td>http://images.amazon.com/images/P/0759901880.0...</td>\n",
       "      <td>http://images.amazon.com/images/P/0759901880.0...</td>\n",
       "      <td>http://images.amazon.com/images/P/0759901880.0...</td>\n",
       "    </tr>\n",
       "    <tr>\n",
       "      <th>129037</th>\n",
       "      <td>1931696993</td>\n",
       "      <td>Finders Keepers</td>\n",
       "      <td>Linnea Sinclair</td>\n",
       "      <td>2001</td>\n",
       "      <td>NaN</td>\n",
       "      <td>http://images.amazon.com/images/P/1931696993.0...</td>\n",
       "      <td>http://images.amazon.com/images/P/1931696993.0...</td>\n",
       "      <td>http://images.amazon.com/images/P/1931696993.0...</td>\n",
       "    </tr>\n",
       "  </tbody>\n",
       "</table>\n",
       "</div>"
      ],
      "text/plain": [
       "              ISBN        Book-Title      Book-Author Year-Of-Publication  \\\n",
       "126762  1931696934  Winter's Orphans  Elaine Corvidae                2001   \n",
       "128890  193169656X       Tyrant Moon  Elaine Corvidae                2002   \n",
       "129001  0759901880           Wolfkin  Elaine Corvidae                2001   \n",
       "129037  1931696993   Finders Keepers  Linnea Sinclair                2001   \n",
       "\n",
       "                      Publisher  \\\n",
       "126762               Novelbooks   \n",
       "128890                      NaN   \n",
       "129001  Hard Shell Word Factory   \n",
       "129037                      NaN   \n",
       "\n",
       "                                              Image-URL-S  \\\n",
       "126762  http://images.amazon.com/images/P/1931696934.0...   \n",
       "128890  http://images.amazon.com/images/P/193169656X.0...   \n",
       "129001  http://images.amazon.com/images/P/0759901880.0...   \n",
       "129037  http://images.amazon.com/images/P/1931696993.0...   \n",
       "\n",
       "                                              Image-URL-M  \\\n",
       "126762  http://images.amazon.com/images/P/1931696934.0...   \n",
       "128890  http://images.amazon.com/images/P/193169656X.0...   \n",
       "129001  http://images.amazon.com/images/P/0759901880.0...   \n",
       "129037  http://images.amazon.com/images/P/1931696993.0...   \n",
       "\n",
       "                                              Image-URL-L  \n",
       "126762  http://images.amazon.com/images/P/1931696934.0...  \n",
       "128890  http://images.amazon.com/images/P/193169656X.0...  \n",
       "129001  http://images.amazon.com/images/P/0759901880.0...  \n",
       "129037  http://images.amazon.com/images/P/1931696993.0...  "
      ]
     },
     "execution_count": 98,
     "metadata": {},
     "output_type": "execute_result"
    }
   ],
   "source": [
    "books.loc[(books[\"Book-Author\"] == 'Elaine Corvidae') | (books[\"Book-Author\"] == 'Linnea Sinclair'),:]"
   ]
  },
  {
   "cell_type": "markdown",
   "metadata": {
    "id": "kzUvOFNS9AiV"
   },
   "source": [
    "Assinging the Null publisher values as 'Unknown'"
   ]
  },
  {
   "cell_type": "code",
   "execution_count": 99,
   "metadata": {
    "execution": {
     "iopub.execute_input": "2021-07-17T04:24:12.633817Z",
     "iopub.status.busy": "2021-07-17T04:24:12.633529Z",
     "iopub.status.idle": "2021-07-17T04:24:12.682511Z",
     "shell.execute_reply": "2021-07-17T04:24:12.681350Z",
     "shell.execute_reply.started": "2021-07-17T04:24:12.633787Z"
    },
    "id": "giCS5HTU9AiV"
   },
   "outputs": [],
   "source": [
    "books.loc[(books.ISBN == '193169656X'),'publisher'] = 'Unknown'\n",
    "books.loc[(books.ISBN == '1931696993'),'publisher'] = 'Unknown'"
   ]
  },
  {
   "cell_type": "markdown",
   "metadata": {
    "id": "UnUIodHn9AiV"
   },
   "source": [
    "Checking for Null bookAuthor names "
   ]
  },
  {
   "cell_type": "code",
   "execution_count": 101,
   "metadata": {
    "execution": {
     "iopub.execute_input": "2021-07-17T04:24:12.683994Z",
     "iopub.status.busy": "2021-07-17T04:24:12.683701Z",
     "iopub.status.idle": "2021-07-17T04:24:12.710175Z",
     "shell.execute_reply": "2021-07-17T04:24:12.709456Z",
     "shell.execute_reply.started": "2021-07-17T04:24:12.683964Z"
    },
    "id": "Kug5RogK9AiW",
    "outputId": "88916928-8418-462a-a3db-e9f3a2d5253a"
   },
   "outputs": [
    {
     "data": {
      "text/html": [
       "<div>\n",
       "<style scoped>\n",
       "    .dataframe tbody tr th:only-of-type {\n",
       "        vertical-align: middle;\n",
       "    }\n",
       "\n",
       "    .dataframe tbody tr th {\n",
       "        vertical-align: top;\n",
       "    }\n",
       "\n",
       "    .dataframe thead th {\n",
       "        text-align: right;\n",
       "    }\n",
       "</style>\n",
       "<table border=\"1\" class=\"dataframe\">\n",
       "  <thead>\n",
       "    <tr style=\"text-align: right;\">\n",
       "      <th></th>\n",
       "      <th>ISBN</th>\n",
       "      <th>Book-Title</th>\n",
       "      <th>Book-Author</th>\n",
       "      <th>Year-Of-Publication</th>\n",
       "      <th>Publisher</th>\n",
       "      <th>Image-URL-S</th>\n",
       "      <th>Image-URL-M</th>\n",
       "      <th>Image-URL-L</th>\n",
       "      <th>publisher</th>\n",
       "    </tr>\n",
       "  </thead>\n",
       "  <tbody>\n",
       "    <tr>\n",
       "      <th>118033</th>\n",
       "      <td>0751352497</td>\n",
       "      <td>A+ Quiz Masters:01 Earth</td>\n",
       "      <td>NaN</td>\n",
       "      <td>1999</td>\n",
       "      <td>Dorling Kindersley</td>\n",
       "      <td>http://images.amazon.com/images/P/0751352497.0...</td>\n",
       "      <td>http://images.amazon.com/images/P/0751352497.0...</td>\n",
       "      <td>http://images.amazon.com/images/P/0751352497.0...</td>\n",
       "      <td>NaN</td>\n",
       "    </tr>\n",
       "    <tr>\n",
       "      <th>187689</th>\n",
       "      <td>9627982032</td>\n",
       "      <td>The Credit Suisse Guide to Managing Your Perso...</td>\n",
       "      <td>NaN</td>\n",
       "      <td>1995</td>\n",
       "      <td>Edinburgh Financial Publishing</td>\n",
       "      <td>http://images.amazon.com/images/P/9627982032.0...</td>\n",
       "      <td>http://images.amazon.com/images/P/9627982032.0...</td>\n",
       "      <td>http://images.amazon.com/images/P/9627982032.0...</td>\n",
       "      <td>NaN</td>\n",
       "    </tr>\n",
       "  </tbody>\n",
       "</table>\n",
       "</div>"
      ],
      "text/plain": [
       "              ISBN                                         Book-Title  \\\n",
       "118033  0751352497                           A+ Quiz Masters:01 Earth   \n",
       "187689  9627982032  The Credit Suisse Guide to Managing Your Perso...   \n",
       "\n",
       "       Book-Author Year-Of-Publication                       Publisher  \\\n",
       "118033         NaN                1999              Dorling Kindersley   \n",
       "187689         NaN                1995  Edinburgh Financial Publishing   \n",
       "\n",
       "                                              Image-URL-S  \\\n",
       "118033  http://images.amazon.com/images/P/0751352497.0...   \n",
       "187689  http://images.amazon.com/images/P/9627982032.0...   \n",
       "\n",
       "                                              Image-URL-M  \\\n",
       "118033  http://images.amazon.com/images/P/0751352497.0...   \n",
       "187689  http://images.amazon.com/images/P/9627982032.0...   \n",
       "\n",
       "                                              Image-URL-L publisher  \n",
       "118033  http://images.amazon.com/images/P/0751352497.0...       NaN  \n",
       "187689  http://images.amazon.com/images/P/9627982032.0...       NaN  "
      ]
     },
     "execution_count": 101,
     "metadata": {},
     "output_type": "execute_result"
    }
   ],
   "source": [
    "books.loc[books[\"Book-Author\"].isnull(),:]"
   ]
  },
  {
   "cell_type": "markdown",
   "metadata": {
    "id": "A_ipPG1X9AiW"
   },
   "source": [
    "Lets give the Null bookAuthor value as 'Unknown'"
   ]
  },
  {
   "cell_type": "code",
   "execution_count": 102,
   "metadata": {
    "execution": {
     "iopub.execute_input": "2021-07-17T04:24:12.711902Z",
     "iopub.status.busy": "2021-07-17T04:24:12.711491Z",
     "iopub.status.idle": "2021-07-17T04:24:12.742749Z",
     "shell.execute_reply": "2021-07-17T04:24:12.741888Z",
     "shell.execute_reply.started": "2021-07-17T04:24:12.711869Z"
    },
    "id": "fQP9LPNt9AiW"
   },
   "outputs": [],
   "source": [
    "books.loc[(books.ISBN == '9627982032'),'bookAuthor'] = 'Unknown'"
   ]
  },
  {
   "cell_type": "markdown",
   "metadata": {
    "id": "t6RPsdkT9AiW"
   },
   "source": [
    "### Checking Users Data"
   ]
  },
  {
   "cell_type": "markdown",
   "metadata": {
    "id": "80J4s27B9AiX"
   },
   "source": [
    "Checking for number of null values and data types of data provided inside columns"
   ]
  },
  {
   "cell_type": "code",
   "execution_count": 103,
   "metadata": {
    "execution": {
     "iopub.execute_input": "2021-07-17T04:24:12.744315Z",
     "iopub.status.busy": "2021-07-17T04:24:12.743870Z",
     "iopub.status.idle": "2021-07-17T04:24:12.776512Z",
     "shell.execute_reply": "2021-07-17T04:24:12.775107Z",
     "shell.execute_reply.started": "2021-07-17T04:24:12.744283Z"
    },
    "id": "wJTZvEaS9AiX",
    "outputId": "f827b291-4001-49e7-ce2f-27d5d546a509"
   },
   "outputs": [
    {
     "name": "stdout",
     "output_type": "stream",
     "text": [
      "<class 'pandas.core.frame.DataFrame'>\n",
      "RangeIndex: 278858 entries, 0 to 278857\n",
      "Data columns (total 3 columns):\n",
      " #   Column    Non-Null Count   Dtype  \n",
      "---  ------    --------------   -----  \n",
      " 0   User-ID   278858 non-null  int64  \n",
      " 1   Location  278858 non-null  object \n",
      " 2   Age       168096 non-null  float64\n",
      "dtypes: float64(1), int64(1), object(1)\n",
      "memory usage: 6.4+ MB\n"
     ]
    }
   ],
   "source": [
    "users.info()"
   ]
  },
  {
   "cell_type": "markdown",
   "metadata": {
    "id": "Veb2MExx9AiX"
   },
   "source": [
    "Age values below 4 and above 90 does not make much sense for our book rating case, hence replacing these by NANs"
   ]
  },
  {
   "cell_type": "code",
   "execution_count": 106,
   "metadata": {
    "execution": {
     "iopub.execute_input": "2021-07-17T04:24:12.780644Z",
     "iopub.status.busy": "2021-07-17T04:24:12.780292Z",
     "iopub.status.idle": "2021-07-17T04:24:12.791729Z",
     "shell.execute_reply": "2021-07-17T04:24:12.790727Z",
     "shell.execute_reply.started": "2021-07-17T04:24:12.780614Z"
    },
    "id": "AGQC2o659AiY"
   },
   "outputs": [],
   "source": [
    "users.loc[(users[\"Age\"] > 90) | (users[\"Age\"]< 4), 'age'] = np.nan"
   ]
  },
  {
   "cell_type": "markdown",
   "metadata": {
    "id": "irPm9xr_9AiY"
   },
   "source": [
    "Replacing NANs with mean value of users and converting data type to int"
   ]
  },
  {
   "cell_type": "code",
   "execution_count": 109,
   "metadata": {
    "execution": {
     "iopub.execute_input": "2021-07-17T04:24:12.794060Z",
     "iopub.status.busy": "2021-07-17T04:24:12.793609Z",
     "iopub.status.idle": "2021-07-17T04:24:12.806865Z",
     "shell.execute_reply": "2021-07-17T04:24:12.805675Z",
     "shell.execute_reply.started": "2021-07-17T04:24:12.794025Z"
    },
    "id": "3pgyzfUE9AiZ"
   },
   "outputs": [],
   "source": [
    "users[\"Age\"] = users[\"Age\"].fillna(users[\"Age\"] .mean())\n",
    "users[\"Age\"]  = users[\"Age\"].astype(np.int64)"
   ]
  },
  {
   "cell_type": "markdown",
   "metadata": {
    "id": "LZ7cKbC19AiZ"
   },
   "source": [
    "### Checking Ratings Data"
   ]
  },
  {
   "cell_type": "markdown",
   "metadata": {
    "id": "pe3Hh4FD9AiZ"
   },
   "source": [
    "Checking for Null values and data types of Ratings data"
   ]
  },
  {
   "cell_type": "code",
   "execution_count": 110,
   "metadata": {
    "execution": {
     "iopub.execute_input": "2021-07-17T04:24:12.808941Z",
     "iopub.status.busy": "2021-07-17T04:24:12.808454Z",
     "iopub.status.idle": "2021-07-17T04:24:12.899131Z",
     "shell.execute_reply": "2021-07-17T04:24:12.898304Z",
     "shell.execute_reply.started": "2021-07-17T04:24:12.808902Z"
    },
    "id": "IT3VOCXO9Aia",
    "outputId": "af486160-37be-4bda-ab3e-74ebb3b3ae91"
   },
   "outputs": [
    {
     "name": "stdout",
     "output_type": "stream",
     "text": [
      "<class 'pandas.core.frame.DataFrame'>\n",
      "RangeIndex: 1149780 entries, 0 to 1149779\n",
      "Data columns (total 3 columns):\n",
      " #   Column       Non-Null Count    Dtype \n",
      "---  ------       --------------    ----- \n",
      " 0   User-ID      1149780 non-null  int64 \n",
      " 1   ISBN         1149780 non-null  object\n",
      " 2   Book-Rating  1149780 non-null  int64 \n",
      "dtypes: int64(2), object(1)\n",
      "memory usage: 26.3+ MB\n"
     ]
    }
   ],
   "source": [
    "ratings.info()"
   ]
  },
  {
   "cell_type": "markdown",
   "metadata": {
    "id": "Y1DdRxEN9Aia"
   },
   "source": [
    "Looks like it doesn't have any NAN values, So let's have a look at bookRating values"
   ]
  },
  {
   "cell_type": "code",
   "execution_count": 112,
   "metadata": {
    "execution": {
     "iopub.execute_input": "2021-07-17T04:24:12.900606Z",
     "iopub.status.busy": "2021-07-17T04:24:12.900121Z",
     "iopub.status.idle": "2021-07-17T04:24:12.914784Z",
     "shell.execute_reply": "2021-07-17T04:24:12.913869Z",
     "shell.execute_reply.started": "2021-07-17T04:24:12.900564Z"
    },
    "id": "okZ_i4oo9Aia",
    "outputId": "df51487c-6211-4200-fb2f-f9c142b40ae9"
   },
   "outputs": [
    {
     "data": {
      "text/plain": [
       "array([ 0,  5,  3,  6,  8,  7, 10,  9,  4,  1,  2])"
      ]
     },
     "execution_count": 112,
     "metadata": {},
     "output_type": "execute_result"
    }
   ],
   "source": [
    "ratings[\"Book-Rating\"].unique()"
   ]
  },
  {
   "cell_type": "markdown",
   "metadata": {
    "id": "EO4ysVDL9Aib"
   },
   "source": [
    "bookRatings are always under 0-10, also Ratings dataset will have n_users $\\times$ n_books entries if every user rated every item,"
   ]
  },
  {
   "cell_type": "code",
   "execution_count": 113,
   "metadata": {
    "execution": {
     "iopub.execute_input": "2021-07-17T04:24:12.916633Z",
     "iopub.status.busy": "2021-07-17T04:24:12.916013Z",
     "iopub.status.idle": "2021-07-17T04:24:12.922842Z",
     "shell.execute_reply": "2021-07-17T04:24:12.921678Z",
     "shell.execute_reply.started": "2021-07-17T04:24:12.916593Z"
    },
    "id": "K958vb_d9Aic",
    "outputId": "a755323f-a2b8-4d40-e120-54eb8bfcb08e"
   },
   "outputs": [
    {
     "name": "stdout",
     "output_type": "stream",
     "text": [
      "75670906880\n"
     ]
    }
   ],
   "source": [
    "\n",
    "n_users = users.shape[0]\n",
    "n_books = books.shape[0]\n",
    "print(n_users * n_books)"
   ]
  },
  {
   "cell_type": "markdown",
   "metadata": {
    "id": "pJ_kjvcf9Aic"
   },
   "source": [
    "From above we can say that the dataset is very sparse,  \n",
    "Ratings dataset should have books only which exist in our books dataset, unless new books are added to books dataset"
   ]
  },
  {
   "cell_type": "code",
   "execution_count": 114,
   "metadata": {
    "execution": {
     "iopub.execute_input": "2021-07-17T04:24:12.924659Z",
     "iopub.status.busy": "2021-07-17T04:24:12.924310Z",
     "iopub.status.idle": "2021-07-17T04:24:13.352511Z",
     "shell.execute_reply": "2021-07-17T04:24:13.351445Z",
     "shell.execute_reply.started": "2021-07-17T04:24:12.924617Z"
    },
    "id": "-EbzwvgO9Aic"
   },
   "outputs": [],
   "source": [
    "ratings_new = ratings[ratings.ISBN.isin(books.ISBN)]"
   ]
  },
  {
   "cell_type": "markdown",
   "metadata": {
    "id": "tY-55sWM9Aid"
   },
   "source": [
    "Also Ratings dataset should have ratings from users which exist in users dataset, unless new users are added to users dataset"
   ]
  },
  {
   "cell_type": "code",
   "execution_count": 116,
   "metadata": {
    "execution": {
     "iopub.execute_input": "2021-07-17T04:24:13.354385Z",
     "iopub.status.busy": "2021-07-17T04:24:13.353984Z",
     "iopub.status.idle": "2021-07-17T04:24:13.430125Z",
     "shell.execute_reply": "2021-07-17T04:24:13.428971Z",
     "shell.execute_reply.started": "2021-07-17T04:24:13.354336Z"
    },
    "id": "MFYT7eNX9Aid"
   },
   "outputs": [],
   "source": [
    "ratings_new = ratings_new[ratings_new[\"User-ID\"].isin(users[\"User-ID\"])]\n",
    "#Note: All users who rated are already inside users dataset"
   ]
  },
  {
   "cell_type": "markdown",
   "metadata": {
    "id": "jEvOXP-29Aid"
   },
   "source": [
    "Dataset [Sparsity](https://campus.datacamp.com/courses/recommendation-engines-in-pyspark/recommending-movies?ex=3) Calculation"
   ]
  },
  {
   "cell_type": "code",
   "execution_count": 117,
   "metadata": {
    "execution": {
     "iopub.execute_input": "2021-07-17T04:24:13.432134Z",
     "iopub.status.busy": "2021-07-17T04:24:13.431595Z",
     "iopub.status.idle": "2021-07-17T04:24:13.437332Z",
     "shell.execute_reply": "2021-07-17T04:24:13.436470Z",
     "shell.execute_reply.started": "2021-07-17T04:24:13.432094Z"
    },
    "id": "meHfXEIE9Aid",
    "outputId": "2a6d01e0-47a1-408d-a297-6981e7b200f6"
   },
   "outputs": [
    {
     "name": "stdout",
     "output_type": "stream",
     "text": [
      "No. of users = 278858, No. of Books = 271360\n",
      "The Following Dataset has 99.99863734155898 % Sparsity\n"
     ]
    }
   ],
   "source": [
    "sparsity = 1 - (len(ratings_new)/(n_users*n_books))\n",
    "print(\"No. of users = \" + str(n_users) + \", No. of Books = \" + str(n_books) \n",
    "      + \"\\nThe Following Dataset has \" + str(sparsity*100) + \" % Sparsity\")"
   ]
  },
  {
   "cell_type": "markdown",
   "metadata": {
    "id": "dbWSFvHS9Aie"
   },
   "source": [
    "Making two new ratings dataframes where ratings which are other than 0 are present and vice a versa"
   ]
  },
  {
   "cell_type": "code",
   "execution_count": 120,
   "metadata": {
    "execution": {
     "iopub.execute_input": "2021-07-17T04:24:13.438805Z",
     "iopub.status.busy": "2021-07-17T04:24:13.438382Z",
     "iopub.status.idle": "2021-07-17T04:24:13.510420Z",
     "shell.execute_reply": "2021-07-17T04:24:13.509612Z",
     "shell.execute_reply.started": "2021-07-17T04:24:13.438773Z"
    },
    "id": "S1c1fmj59Aie",
    "outputId": "41c73a4b-b694-4d12-f5f6-eee9353f9d31"
   },
   "outputs": [
    {
     "name": "stdout",
     "output_type": "stream",
     "text": [
      "Explicit Ratings data shape = (383842, 3)\n",
      "Implicit Ratings data shape = (647294, 3)\n"
     ]
    }
   ],
   "source": [
    "rating_explicit = ratings_new.loc[ratings_new[\"Book-Rating\"] != 0, :]\n",
    "rating_implicit = ratings_new.loc[ratings_new[\"Book-Rating\"] == 0, :]\n",
    "print(\"Explicit Ratings data shape = \" + str(rating_explicit.shape) + \"\\nImplicit Ratings data shape = \" + str(rating_implicit.shape))"
   ]
  },
  {
   "cell_type": "markdown",
   "metadata": {
    "id": "WHSy0Oa99Aie"
   },
   "source": [
    "### Visualising Explicit Rating Counts"
   ]
  },
  {
   "cell_type": "markdown",
   "metadata": {
    "id": "fpSQ8HR89Aif"
   },
   "source": [
    "Using [Seaborn](https://towardsdatascience.com/seaborn-python-8563c3d0ad41) Library for ploting a [countplot](https://www.geeksforgeeks.org/countplot-using-seaborn-in-python/)"
   ]
  },
  {
   "cell_type": "code",
   "execution_count": 121,
   "metadata": {
    "execution": {
     "iopub.execute_input": "2021-07-17T04:24:13.511830Z",
     "iopub.status.busy": "2021-07-17T04:24:13.511404Z",
     "iopub.status.idle": "2021-07-17T04:24:13.784093Z",
     "shell.execute_reply": "2021-07-17T04:24:13.783300Z",
     "shell.execute_reply.started": "2021-07-17T04:24:13.511799Z"
    },
    "id": "Zm8oEqyC9Aif",
    "outputId": "3ceb1468-d276-4295-e563-d44a33121ae8"
   },
   "outputs": [
    {
     "data": {
      "image/png": "[encoded data removed]",
      "text/plain": [
       "<Figure size 648x360 with 1 Axes>"
      ]
     },
     "metadata": {},
     "output_type": "display_data"
    }
   ],
   "source": [
    "plt.figure(figsize=(9, 5))\n",
    "plt.title('Explicit Rating Counts')\n",
    "sns.countplot(x = 'Book-Rating', data = rating_explicit);"
   ]
  },
  {
   "cell_type": "markdown",
   "metadata": {
    "id": "NVkbdXh_9Aif"
   },
   "source": [
    "### Cleaning Title text"
   ]
  },
  {
   "cell_type": "markdown",
   "metadata": {
    "id": "pzcqx2M29Aig"
   },
   "source": [
    "Function for cleaning title text using [Regex](https://en.wikipedia.org/wiki/Regular_expression) Library"
   ]
  },
  {
   "cell_type": "code",
   "execution_count": 122,
   "metadata": {
    "execution": {
     "iopub.execute_input": "2021-07-17T04:24:13.785650Z",
     "iopub.status.busy": "2021-07-17T04:24:13.785285Z",
     "iopub.status.idle": "2021-07-17T04:24:13.791353Z",
     "shell.execute_reply": "2021-07-17T04:24:13.790346Z",
     "shell.execute_reply.started": "2021-07-17T04:24:13.785616Z"
    },
    "id": "2Hq5w7yN9Aig"
   },
   "outputs": [],
   "source": [
    "def clean_text(text):\n",
    "    #removal of url\n",
    "    text = re.sub(r'https?://\\S+|www\\.\\S+|http?://\\S+',' ',text) \n",
    "    \n",
    "    #removal of html tags\n",
    "    text = re.sub(r'<.*?>',' ',text) \n",
    "    \n",
    "    text = re.sub(\"[\"\n",
    "                           u\"\\U0001F600-\\U0001F64F\"  # removal of emoticons\n",
    "                           u\"\\U0001F300-\\U0001F5FF\"  # symbols & pictographs\n",
    "                           u\"\\U0001F680-\\U0001F6FF\"  # transport & map symbols\n",
    "                           u\"\\U0001F1E0-\\U0001F1FF\"  # flags (iOS)\n",
    "                           u\"\\U00002702-\\U000027B0\"\n",
    "                           u\"\\U000024C2-\\U0001F251\"\n",
    "                           \"]+\",' ',text)\n",
    "    \n",
    "    \n",
    "    #remove newline char\n",
    "    text = re.sub('\\n', '', text)\n",
    "    \n",
    "    return text"
   ]
  },
  {
   "cell_type": "markdown",
   "metadata": {
    "id": "ubKDOuuN9Aig"
   },
   "source": [
    "Applying clean_text() function on bookTitle column"
   ]
  },
  {
   "cell_type": "code",
   "execution_count": 124,
   "metadata": {
    "execution": {
     "iopub.execute_input": "2021-07-17T04:24:13.792923Z",
     "iopub.status.busy": "2021-07-17T04:24:13.792632Z",
     "iopub.status.idle": "2021-07-17T04:24:15.254257Z",
     "shell.execute_reply": "2021-07-17T04:24:15.253189Z",
     "shell.execute_reply.started": "2021-07-17T04:24:13.792891Z"
    },
    "id": "Hb8yJnMR9Aig"
   },
   "outputs": [],
   "source": [
    "books.bookTitle = books[\"Book-Title\"].apply(lambda x:clean_text(x))"
   ]
  },
  {
   "cell_type": "markdown",
   "metadata": {
    "id": "s-TbHn8L9Aih"
   },
   "source": [
    "Merging Books and Ratings data using [pd.merge()](https://www.geeksforgeeks.org/python-pandas-merging-joining-and-concatenating/)"
   ]
  },
  {
   "cell_type": "code",
   "execution_count": 125,
   "metadata": {
    "execution": {
     "iopub.execute_input": "2021-07-17T04:24:15.255919Z",
     "iopub.status.busy": "2021-07-17T04:24:15.255593Z",
     "iopub.status.idle": "2021-07-17T04:24:17.407304Z",
     "shell.execute_reply": "2021-07-17T04:24:17.406283Z",
     "shell.execute_reply.started": "2021-07-17T04:24:15.255887Z"
    },
    "id": "Y0KNs9Ho9Aih",
    "outputId": "11a1c689-9574-43f9-f320-40937b49d4c9"
   },
   "outputs": [
    {
     "data": {
      "text/html": [
       "<div>\n",
       "<style scoped>\n",
       "    .dataframe tbody tr th:only-of-type {\n",
       "        vertical-align: middle;\n",
       "    }\n",
       "\n",
       "    .dataframe tbody tr th {\n",
       "        vertical-align: top;\n",
       "    }\n",
       "\n",
       "    .dataframe thead th {\n",
       "        text-align: right;\n",
       "    }\n",
       "</style>\n",
       "<table border=\"1\" class=\"dataframe\">\n",
       "  <thead>\n",
       "    <tr style=\"text-align: right;\">\n",
       "      <th></th>\n",
       "      <th>ISBN</th>\n",
       "      <th>Book-Title</th>\n",
       "      <th>Book-Author</th>\n",
       "      <th>Year-Of-Publication</th>\n",
       "      <th>Publisher</th>\n",
       "      <th>Image-URL-S</th>\n",
       "      <th>Image-URL-M</th>\n",
       "      <th>Image-URL-L</th>\n",
       "      <th>publisher</th>\n",
       "      <th>bookAuthor</th>\n",
       "      <th>User-ID</th>\n",
       "      <th>Book-Rating</th>\n",
       "    </tr>\n",
       "  </thead>\n",
       "  <tbody>\n",
       "    <tr>\n",
       "      <th>1013651</th>\n",
       "      <td>0000913154</td>\n",
       "      <td>The Way Things Work: An Illustrated Encycloped...</td>\n",
       "      <td>C. van Amerongen (translator)</td>\n",
       "      <td>1967</td>\n",
       "      <td>Simon &amp;amp; Schuster</td>\n",
       "      <td>http://images.amazon.com/images/P/0000913154.0...</td>\n",
       "      <td>http://images.amazon.com/images/P/0000913154.0...</td>\n",
       "      <td>http://images.amazon.com/images/P/0000913154.0...</td>\n",
       "      <td>NaN</td>\n",
       "      <td>NaN</td>\n",
       "      <td>171118</td>\n",
       "      <td>8</td>\n",
       "    </tr>\n",
       "    <tr>\n",
       "      <th>968138</th>\n",
       "      <td>0001010565</td>\n",
       "      <td>Mog's Christmas</td>\n",
       "      <td>Judith Kerr</td>\n",
       "      <td>1992</td>\n",
       "      <td>Collins</td>\n",
       "      <td>http://images.amazon.com/images/P/0001010565.0...</td>\n",
       "      <td>http://images.amazon.com/images/P/0001010565.0...</td>\n",
       "      <td>http://images.amazon.com/images/P/0001010565.0...</td>\n",
       "      <td>NaN</td>\n",
       "      <td>NaN</td>\n",
       "      <td>86123</td>\n",
       "      <td>0</td>\n",
       "    </tr>\n",
       "    <tr>\n",
       "      <th>968139</th>\n",
       "      <td>0001010565</td>\n",
       "      <td>Mog's Christmas</td>\n",
       "      <td>Judith Kerr</td>\n",
       "      <td>1992</td>\n",
       "      <td>Collins</td>\n",
       "      <td>http://images.amazon.com/images/P/0001010565.0...</td>\n",
       "      <td>http://images.amazon.com/images/P/0001010565.0...</td>\n",
       "      <td>http://images.amazon.com/images/P/0001010565.0...</td>\n",
       "      <td>NaN</td>\n",
       "      <td>NaN</td>\n",
       "      <td>209516</td>\n",
       "      <td>0</td>\n",
       "    </tr>\n",
       "    <tr>\n",
       "      <th>542150</th>\n",
       "      <td>0001046438</td>\n",
       "      <td>Liar</td>\n",
       "      <td>Stephen Fry</td>\n",
       "      <td>0</td>\n",
       "      <td>Harpercollins Uk</td>\n",
       "      <td>http://images.amazon.com/images/P/0001046438.0...</td>\n",
       "      <td>http://images.amazon.com/images/P/0001046438.0...</td>\n",
       "      <td>http://images.amazon.com/images/P/0001046438.0...</td>\n",
       "      <td>NaN</td>\n",
       "      <td>NaN</td>\n",
       "      <td>23902</td>\n",
       "      <td>9</td>\n",
       "    </tr>\n",
       "    <tr>\n",
       "      <th>788100</th>\n",
       "      <td>0001046713</td>\n",
       "      <td>Twopence to Cross the Mersey</td>\n",
       "      <td>Helen Forrester</td>\n",
       "      <td>1992</td>\n",
       "      <td>HarperCollins Publishers</td>\n",
       "      <td>http://images.amazon.com/images/P/0001046713.0...</td>\n",
       "      <td>http://images.amazon.com/images/P/0001046713.0...</td>\n",
       "      <td>http://images.amazon.com/images/P/0001046713.0...</td>\n",
       "      <td>NaN</td>\n",
       "      <td>NaN</td>\n",
       "      <td>196149</td>\n",
       "      <td>0</td>\n",
       "    </tr>\n",
       "  </tbody>\n",
       "</table>\n",
       "</div>"
      ],
      "text/plain": [
       "               ISBN                                         Book-Title  \\\n",
       "1013651  0000913154  The Way Things Work: An Illustrated Encycloped...   \n",
       "968138   0001010565                                    Mog's Christmas   \n",
       "968139   0001010565                                    Mog's Christmas   \n",
       "542150   0001046438                                               Liar   \n",
       "788100   0001046713                       Twopence to Cross the Mersey   \n",
       "\n",
       "                           Book-Author Year-Of-Publication  \\\n",
       "1013651  C. van Amerongen (translator)                1967   \n",
       "968138                     Judith Kerr                1992   \n",
       "968139                     Judith Kerr                1992   \n",
       "542150                     Stephen Fry                   0   \n",
       "788100                 Helen Forrester                1992   \n",
       "\n",
       "                        Publisher  \\\n",
       "1013651      Simon &amp; Schuster   \n",
       "968138                    Collins   \n",
       "968139                    Collins   \n",
       "542150           Harpercollins Uk   \n",
       "788100   HarperCollins Publishers   \n",
       "\n",
       "                                               Image-URL-S  \\\n",
       "1013651  http://images.amazon.com/images/P/0000913154.0...   \n",
       "968138   http://images.amazon.com/images/P/0001010565.0...   \n",
       "968139   http://images.amazon.com/images/P/0001010565.0...   \n",
       "542150   http://images.amazon.com/images/P/0001046438.0...   \n",
       "788100   http://images.amazon.com/images/P/0001046713.0...   \n",
       "\n",
       "                                               Image-URL-M  \\\n",
       "1013651  http://images.amazon.com/images/P/0000913154.0...   \n",
       "968138   http://images.amazon.com/images/P/0001010565.0...   \n",
       "968139   http://images.amazon.com/images/P/0001010565.0...   \n",
       "542150   http://images.amazon.com/images/P/0001046438.0...   \n",
       "788100   http://images.amazon.com/images/P/0001046713.0...   \n",
       "\n",
       "                                               Image-URL-L publisher  \\\n",
       "1013651  http://images.amazon.com/images/P/0000913154.0...       NaN   \n",
       "968138   http://images.amazon.com/images/P/0001010565.0...       NaN   \n",
       "968139   http://images.amazon.com/images/P/0001010565.0...       NaN   \n",
       "542150   http://images.amazon.com/images/P/0001046438.0...       NaN   \n",
       "788100   http://images.amazon.com/images/P/0001046713.0...       NaN   \n",
       "\n",
       "        bookAuthor  User-ID  Book-Rating  \n",
       "1013651        NaN   171118            8  \n",
       "968138         NaN    86123            0  \n",
       "968139         NaN   209516            0  \n",
       "542150         NaN    23902            9  \n",
       "788100         NaN   196149            0  "
      ]
     },
     "execution_count": 125,
     "metadata": {},
     "output_type": "execute_result"
    }
   ],
   "source": [
    "merged_data = pd.merge(books, ratings_new, on='ISBN')\n",
    "merged_data =  merged_data.sort_values('ISBN', ascending=True)\n",
    "merged_data.head()"
   ]
  },
  {
   "cell_type": "markdown",
   "metadata": {
    "id": "GvOiSJRd9Aih"
   },
   "source": [
    "# 3. Data Exploration"
   ]
  },
  {
   "cell_type": "markdown",
   "metadata": {
    "id": "teosiLtE9Aii"
   },
   "source": [
    "### Visualising top 30 most read books"
   ]
  },
  {
   "cell_type": "markdown",
   "metadata": {
    "id": "OFx2nQQs9Aii"
   },
   "source": [
    "Using [Series.value_counts()](https://pandas.pydata.org/docs/reference/api/pandas.Series.value_counts.html) and [sns.barplot](https://seaborn.pydata.org/generated/seaborn.barplot.html) for creating data and visualisation respectively"
   ]
  },
  {
   "cell_type": "code",
   "execution_count": 126,
   "metadata": {
    "execution": {
     "iopub.execute_input": "2021-07-17T04:24:17.409004Z",
     "iopub.status.busy": "2021-07-17T04:24:17.408693Z",
     "iopub.status.idle": "2021-07-17T04:24:18.402775Z",
     "shell.execute_reply": "2021-07-17T04:24:18.401910Z",
     "shell.execute_reply.started": "2021-07-17T04:24:17.408968Z"
    },
    "id": "l-PjcWIG9Aii",
    "outputId": "578d9d0a-9fcd-4da6-fd4b-47967d173a99"
   },
   "outputs": [
    {
     "data": {
      "image/png": "[encoded data removed]",
      "text/plain": [
       "<Figure size 720x720 with 1 Axes>"
      ]
     },
     "metadata": {},
     "output_type": "display_data"
    }
   ],
   "source": [
    "most_read = merged_data[\"Book-Title\"].value_counts().reset_index()\n",
    "most_read.columns = ['Book-Title','count']\n",
    "\n",
    "plt.figure(figsize = (10,10))\n",
    "plt.title(\"Most Read Books\")\n",
    "sns.barplot(x = 'count', y = 'Book-Title', data = most_read.head(30));"
   ]
  },
  {
   "cell_type": "markdown",
   "metadata": {
    "id": "nPNdcYIO9Aij"
   },
   "source": [
    "### Top rated books(average rating according to number of users)"
   ]
  },
  {
   "cell_type": "markdown",
   "metadata": {
    "id": "8wOhAa1K9Aij"
   },
   "source": [
    "We may observe many books with average rating equal to 10 and 0 as many of the books are rated only once, hence this can't show us a good visualisation"
   ]
  },
  {
   "cell_type": "code",
   "execution_count": 127,
   "metadata": {
    "execution": {
     "iopub.execute_input": "2021-07-17T04:24:18.404172Z",
     "iopub.status.busy": "2021-07-17T04:24:18.403769Z",
     "iopub.status.idle": "2021-07-17T04:24:19.287068Z",
     "shell.execute_reply": "2021-07-17T04:24:19.286309Z",
     "shell.execute_reply.started": "2021-07-17T04:24:18.404142Z"
    },
    "id": "woG-9ElK9Aij",
    "outputId": "fa69f2ba-e959-4a89-e845-37a26c1b3c36"
   },
   "outputs": [
    {
     "data": {
      "text/html": [
       "<div>\n",
       "<style scoped>\n",
       "    .dataframe tbody tr th:only-of-type {\n",
       "        vertical-align: middle;\n",
       "    }\n",
       "\n",
       "    .dataframe tbody tr th {\n",
       "        vertical-align: top;\n",
       "    }\n",
       "\n",
       "    .dataframe thead th {\n",
       "        text-align: right;\n",
       "    }\n",
       "</style>\n",
       "<table border=\"1\" class=\"dataframe\">\n",
       "  <thead>\n",
       "    <tr style=\"text-align: right;\">\n",
       "      <th></th>\n",
       "      <th>Book-Title</th>\n",
       "      <th>Book-Rating</th>\n",
       "    </tr>\n",
       "  </thead>\n",
       "  <tbody>\n",
       "    <tr>\n",
       "      <th>0</th>\n",
       "      <td>Film Is: The International Free Cinema</td>\n",
       "      <td>10.0</td>\n",
       "    </tr>\n",
       "    <tr>\n",
       "      <th>1</th>\n",
       "      <td>More Secrets of Happy Children: Embrace Your P...</td>\n",
       "      <td>10.0</td>\n",
       "    </tr>\n",
       "    <tr>\n",
       "      <th>2</th>\n",
       "      <td>Jo's Boys : From the Original Publisher</td>\n",
       "      <td>10.0</td>\n",
       "    </tr>\n",
       "    <tr>\n",
       "      <th>3</th>\n",
       "      <td>The Vanished Priestess : An Annie Szabo Mystery</td>\n",
       "      <td>10.0</td>\n",
       "    </tr>\n",
       "    <tr>\n",
       "      <th>4</th>\n",
       "      <td>Game and Hunting</td>\n",
       "      <td>10.0</td>\n",
       "    </tr>\n",
       "  </tbody>\n",
       "</table>\n",
       "</div>"
      ],
      "text/plain": [
       "                                          Book-Title  Book-Rating\n",
       "0             Film Is: The International Free Cinema         10.0\n",
       "1  More Secrets of Happy Children: Embrace Your P...         10.0\n",
       "2            Jo's Boys : From the Original Publisher         10.0\n",
       "3    The Vanished Priestess : An Annie Szabo Mystery         10.0\n",
       "4                                   Game and Hunting         10.0"
      ]
     },
     "execution_count": 127,
     "metadata": {},
     "output_type": "execute_result"
    }
   ],
   "source": [
    "top_rated = merged_data[['Book-Title','Book-Rating']]\n",
    "top_rated = top_rated.groupby('Book-Title', as_index=False)['Book-Rating'].mean()\n",
    "top_rated = top_rated.sort_values('Book-Rating',ascending=False).reset_index()\n",
    "top_rated = top_rated[['Book-Title','Book-Rating']]\n",
    "\n",
    "top_rated.head()"
   ]
  },
  {
   "cell_type": "code",
   "execution_count": 128,
   "metadata": {
    "execution": {
     "iopub.execute_input": "2021-07-17T04:24:19.288454Z",
     "iopub.status.busy": "2021-07-17T04:24:19.288046Z",
     "iopub.status.idle": "2021-07-17T04:24:19.297211Z",
     "shell.execute_reply": "2021-07-17T04:24:19.296465Z",
     "shell.execute_reply.started": "2021-07-17T04:24:19.288415Z"
    },
    "id": "e8YHE1zQ9Aik",
    "outputId": "63653c43-9551-46ff-9591-727271c789f2"
   },
   "outputs": [
    {
     "data": {
      "text/html": [
       "<div>\n",
       "<style scoped>\n",
       "    .dataframe tbody tr th:only-of-type {\n",
       "        vertical-align: middle;\n",
       "    }\n",
       "\n",
       "    .dataframe tbody tr th {\n",
       "        vertical-align: top;\n",
       "    }\n",
       "\n",
       "    .dataframe thead th {\n",
       "        text-align: right;\n",
       "    }\n",
       "</style>\n",
       "<table border=\"1\" class=\"dataframe\">\n",
       "  <thead>\n",
       "    <tr style=\"text-align: right;\">\n",
       "      <th></th>\n",
       "      <th>Book-Title</th>\n",
       "      <th>Book-Rating</th>\n",
       "    </tr>\n",
       "  </thead>\n",
       "  <tbody>\n",
       "    <tr>\n",
       "      <th>241066</th>\n",
       "      <td>Invaders of the Planet Earth (Choose Your Own ...</td>\n",
       "      <td>0.0</td>\n",
       "    </tr>\n",
       "    <tr>\n",
       "      <th>241067</th>\n",
       "      <td>Sammy Discovers the Alphabet (Learn-With-Sammy)</td>\n",
       "      <td>0.0</td>\n",
       "    </tr>\n",
       "    <tr>\n",
       "      <th>241068</th>\n",
       "      <td>Sammy Carducci's Guide to Women</td>\n",
       "      <td>0.0</td>\n",
       "    </tr>\n",
       "    <tr>\n",
       "      <th>241069</th>\n",
       "      <td>Sammle mir Kiesel am FluÃ?Â?. Mehr als eine Li...</td>\n",
       "      <td>0.0</td>\n",
       "    </tr>\n",
       "    <tr>\n",
       "      <th>241070</th>\n",
       "      <td>TRAVELLING MAN</td>\n",
       "      <td>0.0</td>\n",
       "    </tr>\n",
       "  </tbody>\n",
       "</table>\n",
       "</div>"
      ],
      "text/plain": [
       "                                               Book-Title  Book-Rating\n",
       "241066  Invaders of the Planet Earth (Choose Your Own ...          0.0\n",
       "241067    Sammy Discovers the Alphabet (Learn-With-Sammy)          0.0\n",
       "241068                    Sammy Carducci's Guide to Women          0.0\n",
       "241069  Sammle mir Kiesel am FluÃ?Â?. Mehr als eine Li...          0.0\n",
       "241070                                     TRAVELLING MAN          0.0"
      ]
     },
     "execution_count": 128,
     "metadata": {},
     "output_type": "execute_result"
    }
   ],
   "source": [
    "top_rated.tail()"
   ]
  },
  {
   "cell_type": "markdown",
   "metadata": {
    "id": "0kmJ5cab9Ail"
   },
   "source": [
    "### Visualising top 30 most read books with there average ratings"
   ]
  },
  {
   "cell_type": "markdown",
   "metadata": {
    "id": "qL4kKIr89Ail"
   },
   "source": [
    "Using [DataFrame.groupby()](https://pandas.pydata.org/pandas-docs/stable/reference/api/pandas.DataFrame.groupby.html) and [DataFrame.sort_values()](https://pandas.pydata.org/pandas-docs/stable/reference/api/pandas.DataFrame.sort_values.html) for ploting a barplot"
   ]
  },
  {
   "cell_type": "code",
   "execution_count": 131,
   "metadata": {
    "execution": {
     "iopub.execute_input": "2021-07-17T04:24:19.298857Z",
     "iopub.status.busy": "2021-07-17T04:24:19.298482Z",
     "iopub.status.idle": "2021-07-17T04:24:21.235817Z",
     "shell.execute_reply": "2021-07-17T04:24:21.234687Z",
     "shell.execute_reply.started": "2021-07-17T04:24:19.298816Z"
    },
    "id": "zVEO2oU89Ail",
    "outputId": "c6440d9e-cf0e-47d9-fb2b-aeec61db5fc5"
   },
   "outputs": [
    {
     "data": {
      "image/png": "[encoded data removed]",
      "text/plain": [
       "<Figure size 864x720 with 1 Axes>"
      ]
     },
     "metadata": {},
     "output_type": "display_data"
    }
   ],
   "source": [
    "avg_data = merged_data.groupby('Book-Title', as_index=False)['Book-Rating'].mean()\n",
    "temp = merged_data[\"Book-Title\"].value_counts().reset_index()\n",
    "temp.columns = ['Book-Title','count']\n",
    "most_rated_by_reads = pd.merge(avg_data,temp,on='Book-Title')\n",
    "\n",
    "most_rated_by_reads = most_rated_by_reads.sort_values('count',ascending=False)\n",
    "\n",
    "plt.figure(figsize=(12,10))\n",
    "plt.title(\"Average Ratings of Most Read books\")\n",
    "sns.barplot(x = 'Book-Rating', y = 'Book-Title', data = most_rated_by_reads.head(30));"
   ]
  },
  {
   "cell_type": "markdown",
   "metadata": {
    "id": "mmjD7soE9Aim"
   },
   "source": [
    "### Visualising Count of Books with a specific length"
   ]
  },
  {
   "cell_type": "markdown",
   "metadata": {
    "id": "6TNv8A2r9Aim"
   },
   "source": [
    "Creating title_length data for every title in bookTitle column and ploting a histplot"
   ]
  },
  {
   "cell_type": "code",
   "execution_count": 132,
   "metadata": {
    "execution": {
     "iopub.execute_input": "2021-07-17T04:24:21.237397Z",
     "iopub.status.busy": "2021-07-17T04:24:21.237057Z",
     "iopub.status.idle": "2021-07-17T04:24:22.474048Z",
     "shell.execute_reply": "2021-07-17T04:24:22.473088Z",
     "shell.execute_reply.started": "2021-07-17T04:24:21.237348Z"
    },
    "id": "XTzI7pmx9Aim",
    "outputId": "dcfbcfd9-ed43-419b-b45f-b87f8301c7b0"
   },
   "outputs": [
    {
     "data": {
      "image/png": "[encoded data removed]",
      "text/plain": [
       "<Figure size 576x432 with 1 Axes>"
      ]
     },
     "metadata": {},
     "output_type": "display_data"
    }
   ],
   "source": [
    "title_length = books[\"Book-Title\"].str.split().map(lambda x: len(x))\n",
    "plt.figure(figsize=(8,6))\n",
    "plt.title('Number of books with a specific title length')\n",
    "sns.histplot(title_length, bins=25, color = 'lightgreen', linewidth = 2, edgecolor = 'black');"
   ]
  },
  {
   "cell_type": "markdown",
   "metadata": {
    "id": "_6DN8aW49Ain"
   },
   "source": [
    "### Visualising top 30 years with most book being published"
   ]
  },
  {
   "cell_type": "markdown",
   "metadata": {
    "id": "-GzZ7Ibf9Ain"
   },
   "source": [
    "We count the number of times a book is published in a particular year and plot a barplot"
   ]
  },
  {
   "cell_type": "code",
   "execution_count": 134,
   "metadata": {
    "execution": {
     "iopub.execute_input": "2021-07-17T04:24:22.475720Z",
     "iopub.status.busy": "2021-07-17T04:24:22.475434Z",
     "iopub.status.idle": "2021-07-17T04:24:22.935555Z",
     "shell.execute_reply": "2021-07-17T04:24:22.934615Z",
     "shell.execute_reply.started": "2021-07-17T04:24:22.475691Z"
    },
    "id": "oaeFWeeZ9Ain",
    "outputId": "6a35a9f4-62af-4aab-a725-5e60c74e64ba"
   },
   "outputs": [
    {
     "data": {
      "image/png": "[encoded data removed]",
      "text/plain": [
       "<Figure size 864x720 with 1 Axes>"
      ]
     },
     "metadata": {},
     "output_type": "display_data"
    }
   ],
   "source": [
    "yearOP = books['Year-Of-Publication'].value_counts().reset_index()\n",
    "\n",
    "yearOP.columns = ['value', 'count']\n",
    "\n",
    "yearOP['year'] = yearOP['value'].astype(str) + ' year'\n",
    "\n",
    "yearOP = yearOP.sort_values('count',ascending=False)\n",
    "\n",
    "plt.figure(figsize=(12,10))\n",
    "plt.title('Top 30 years of publishing')\n",
    "sns.barplot(data = yearOP.head(30), x='count', y=\"year\");"
   ]
  },
  {
   "cell_type": "markdown",
   "metadata": {
    "id": "u5VI8hb09Aio"
   },
   "source": [
    "### Visualising top 30 authors with most books"
   ]
  },
  {
   "cell_type": "markdown",
   "metadata": {
    "id": "_ipo0dn_9Aio"
   },
   "source": [
    "We count the number of times a book written by an author and plot a barplot for the top 30 authors"
   ]
  },
  {
   "cell_type": "code",
   "execution_count": 136,
   "metadata": {
    "execution": {
     "iopub.execute_input": "2021-07-17T04:24:22.937175Z",
     "iopub.status.busy": "2021-07-17T04:24:22.936885Z",
     "iopub.status.idle": "2021-07-17T04:24:23.564310Z",
     "shell.execute_reply": "2021-07-17T04:24:23.563344Z",
     "shell.execute_reply.started": "2021-07-17T04:24:22.937147Z"
    },
    "id": "TQqc-E_N9Aio",
    "outputId": "af8d76aa-c3a9-4cbc-edcb-99c366c652bb"
   },
   "outputs": [
    {
     "data": {
      "image/png": "[encoded data removed]",
      "text/plain": [
       "<Figure size 864x720 with 1 Axes>"
      ]
     },
     "metadata": {},
     "output_type": "display_data"
    }
   ],
   "source": [
    "top_author = books['Book-Author'].value_counts().reset_index()\n",
    "top_author.columns = ['Author', 'count']\n",
    "top_author['Author'] = top_author['Author']\n",
    "top_author = top_author.sort_values('count',ascending=False)\n",
    "\n",
    "plt.figure(figsize=(12,10))\n",
    "plt.title('Top 30 Authors according to most books')\n",
    "sns.barplot(data = top_author.head(30), x = 'count', y = 'Author');"
   ]
  },
  {
   "cell_type": "markdown",
   "metadata": {
    "id": "r-jrHbH99Aip"
   },
   "source": [
    "### Visualising top 30 publishers with most books"
   ]
  },
  {
   "cell_type": "markdown",
   "metadata": {
    "id": "qTRXXnlY9Aip"
   },
   "source": [
    "We count the number of books published by a publisher and plot top 30 of them"
   ]
  },
  {
   "cell_type": "code",
   "execution_count": 137,
   "metadata": {
    "execution": {
     "iopub.execute_input": "2021-07-17T04:24:23.565666Z",
     "iopub.status.busy": "2021-07-17T04:24:23.565375Z",
     "iopub.status.idle": "2021-07-17T04:24:24.090641Z",
     "shell.execute_reply": "2021-07-17T04:24:24.089603Z",
     "shell.execute_reply.started": "2021-07-17T04:24:23.565636Z"
    },
    "id": "c8mAyF229Aip",
    "outputId": "fb736f7b-ed01-485f-a537-f07b0c24ceb8"
   },
   "outputs": [
    {
     "data": {
      "image/png": "[encoded data removed]",
      "text/plain": [
       "<Figure size 864x720 with 1 Axes>"
      ]
     },
     "metadata": {},
     "output_type": "display_data"
    }
   ],
   "source": [
    "top_publisher = books['Publisher'].value_counts().reset_index()\n",
    "top_publisher.columns = ['Publisher', 'count']\n",
    "top_publisher['Publisher'] = top_publisher['Publisher']\n",
    "top_publisher = top_publisher.sort_values('count',ascending=False)\n",
    "\n",
    "plt.figure(figsize=(12,10))\n",
    "plt.title('Top 30 Publishers according to most books')\n",
    "sns.barplot(data = top_publisher.head(30), x = 'count', y = 'Publisher');"
   ]
  },
  {
   "cell_type": "markdown",
   "metadata": {
    "id": "mtiouA909Aiq"
   },
   "source": [
    "### Visualising the age distribution of the users"
   ]
  },
  {
   "cell_type": "code",
   "execution_count": 138,
   "metadata": {
    "execution": {
     "iopub.execute_input": "2021-07-17T04:24:24.092613Z",
     "iopub.status.busy": "2021-07-17T04:24:24.092032Z",
     "iopub.status.idle": "2021-07-17T04:24:24.544872Z",
     "shell.execute_reply": "2021-07-17T04:24:24.543846Z",
     "shell.execute_reply.started": "2021-07-17T04:24:24.092570Z"
    },
    "id": "mdYtVDPf9Aiq",
    "outputId": "f26c0971-32a5-46ad-b9aa-f368ae45c5ef"
   },
   "outputs": [
    {
     "data": {
      "image/png": "[encoded data removed]",
      "text/plain": [
       "<Figure size 720x432 with 1 Axes>"
      ]
     },
     "metadata": {},
     "output_type": "display_data"
    }
   ],
   "source": [
    "user_age = users[\"Age\"]\n",
    "plt.figure(figsize=(10,6), tight_layout=True)\n",
    "plt.title('Number of users according to user age')\n",
    "sns.histplot(user_age, bins=25, linewidth = 2, color = 'cyan', edgecolor = 'black');"
   ]
  },
  {
   "cell_type": "markdown",
   "metadata": {
    "id": "X-PSXfMX9Aiq"
   },
   "source": [
    "### Visualising most frequent words in Author, Title and Publisher string"
   ]
  },
  {
   "cell_type": "markdown",
   "metadata": {
    "id": "VjWfuUrt9Air"
   },
   "source": [
    "Creating string variables for bookAuthor, bookTitle and publisher, also creating a function to plot [WordCloud()](https://www.geeksforgeeks.org/generating-word-cloud-python/) "
   ]
  },
  {
   "cell_type": "code",
   "execution_count": 141,
   "metadata": {
    "execution": {
     "iopub.execute_input": "2021-07-17T04:24:24.546543Z",
     "iopub.status.busy": "2021-07-17T04:24:24.546220Z",
     "iopub.status.idle": "2021-07-17T04:24:24.677340Z",
     "shell.execute_reply": "2021-07-17T04:24:24.676323Z",
     "shell.execute_reply.started": "2021-07-17T04:24:24.546511Z"
    },
    "id": "j_8JpFLQ9Air"
   },
   "outputs": [],
   "source": [
    "author_string = \" \".join(books['Book-Author'].astype(str))\n",
    "title_string = \" \".join(books['Book-Title'].astype(str))\n",
    "publisher_string = \" \".join(books['Publisher'].astype(str))\n",
    "stop_words = set(STOPWORDS)\n",
    "\n",
    "def wordcloud(string,title =\"unknown\"):\n",
    "    wc = WordCloud(width=800,height=500,mask=None,random_state=21,\n",
    "                   stopwords=stop_words).generate(string)\n",
    "    fig=plt.figure(figsize=(16,8))\n",
    "    plt.title(title)\n",
    "    plt.axis('off')\n",
    "    plt.imshow(wc)"
   ]
  },
  {
   "cell_type": "markdown",
   "metadata": {
    "id": "zvX-v0Em9Air"
   },
   "source": [
    "Displaying most frequent words in author names"
   ]
  },
  {
   "cell_type": "code",
   "execution_count": 142,
   "metadata": {
    "execution": {
     "iopub.execute_input": "2021-07-17T04:24:24.678865Z",
     "iopub.status.busy": "2021-07-17T04:24:24.678565Z",
     "iopub.status.idle": "2021-07-17T04:24:30.235899Z",
     "shell.execute_reply": "2021-07-17T04:24:30.234781Z",
     "shell.execute_reply.started": "2021-07-17T04:24:24.678834Z"
    },
    "id": "oU_8VDR69Ais",
    "outputId": "0b4352b0-9bc6-45b6-cb95-33fd69dd74ec"
   },
   "outputs": [
    {
     "ename": "ValueError",
     "evalue": "Only supported for TrueType fonts",
     "output_type": "error",
     "traceback": [
      "\u001b[0;31m---------------------------------------------------------------------------\u001b[0m",
      "\u001b[0;31mValueError\u001b[0m                                Traceback (most recent call last)",
      "\u001b[0;32m/tmp/ipykernel_5041/2016911911.py\u001b[0m in \u001b[0;36m<module>\u001b[0;34m\u001b[0m\n\u001b[0;32m----> 1\u001b[0;31m \u001b[0mwordcloud\u001b[0m\u001b[0;34m(\u001b[0m\u001b[0mauthor_string\u001b[0m\u001b[0;34m,\u001b[0m\u001b[0;34m'Author Name words'\u001b[0m\u001b[0;34m)\u001b[0m\u001b[0;34m\u001b[0m\u001b[0;34m\u001b[0m\u001b[0m\n\u001b[0m",
      "\u001b[0;32m/tmp/ipykernel_5041/3175641964.py\u001b[0m in \u001b[0;36mwordcloud\u001b[0;34m(string, title)\u001b[0m\n\u001b[1;32m      6\u001b[0m \u001b[0;32mdef\u001b[0m \u001b[0mwordcloud\u001b[0m\u001b[0;34m(\u001b[0m\u001b[0mstring\u001b[0m\u001b[0;34m,\u001b[0m\u001b[0mtitle\u001b[0m \u001b[0;34m=\u001b[0m\u001b[0;34m\"unknown\"\u001b[0m\u001b[0;34m)\u001b[0m\u001b[0;34m:\u001b[0m\u001b[0;34m\u001b[0m\u001b[0;34m\u001b[0m\u001b[0m\n\u001b[1;32m      7\u001b[0m     wc = WordCloud(width=800,height=500,mask=None,random_state=21,\n\u001b[0;32m----> 8\u001b[0;31m                    stopwords=stop_words).generate(string)\n\u001b[0m\u001b[1;32m      9\u001b[0m     \u001b[0mfig\u001b[0m\u001b[0;34m=\u001b[0m\u001b[0mplt\u001b[0m\u001b[0;34m.\u001b[0m\u001b[0mfigure\u001b[0m\u001b[0;34m(\u001b[0m\u001b[0mfigsize\u001b[0m\u001b[0;34m=\u001b[0m\u001b[0;34m(\u001b[0m\u001b[0;36m16\u001b[0m\u001b[0;34m,\u001b[0m\u001b[0;36m8\u001b[0m\u001b[0;34m)\u001b[0m\u001b[0;34m)\u001b[0m\u001b[0;34m\u001b[0m\u001b[0;34m\u001b[0m\u001b[0m\n\u001b[1;32m     10\u001b[0m     \u001b[0mplt\u001b[0m\u001b[0;34m.\u001b[0m\u001b[0mtitle\u001b[0m\u001b[0;34m(\u001b[0m\u001b[0mtitle\u001b[0m\u001b[0;34m)\u001b[0m\u001b[0;34m\u001b[0m\u001b[0;34m\u001b[0m\u001b[0m\n",
      "\u001b[0;32m~/.local/lib/python3.10/site-packages/wordcloud/wordcloud.py\u001b[0m in \u001b[0;36mgenerate\u001b[0;34m(self, text)\u001b[0m\n\u001b[1;32m    637\u001b[0m         \u001b[0mself\u001b[0m\u001b[0;34m\u001b[0m\u001b[0;34m\u001b[0m\u001b[0m\n\u001b[1;32m    638\u001b[0m         \"\"\"\n\u001b[0;32m--> 639\u001b[0;31m         \u001b[0;32mreturn\u001b[0m \u001b[0mself\u001b[0m\u001b[0;34m.\u001b[0m\u001b[0mgenerate_from_text\u001b[0m\u001b[0;34m(\u001b[0m\u001b[0mtext\u001b[0m\u001b[0;34m)\u001b[0m\u001b[0;34m\u001b[0m\u001b[0;34m\u001b[0m\u001b[0m\n\u001b[0m\u001b[1;32m    640\u001b[0m \u001b[0;34m\u001b[0m\u001b[0m\n\u001b[1;32m    641\u001b[0m     \u001b[0;32mdef\u001b[0m \u001b[0m_check_generated\u001b[0m\u001b[0;34m(\u001b[0m\u001b[0mself\u001b[0m\u001b[0;34m)\u001b[0m\u001b[0;34m:\u001b[0m\u001b[0;34m\u001b[0m\u001b[0;34m\u001b[0m\u001b[0m\n",
      "\u001b[0;32m~/.local/lib/python3.10/site-packages/wordcloud/wordcloud.py\u001b[0m in \u001b[0;36mgenerate_from_text\u001b[0;34m(self, text)\u001b[0m\n\u001b[1;32m    619\u001b[0m         \"\"\"\n\u001b[1;32m    620\u001b[0m         \u001b[0mwords\u001b[0m \u001b[0;34m=\u001b[0m \u001b[0mself\u001b[0m\u001b[0;34m.\u001b[0m\u001b[0mprocess_text\u001b[0m\u001b[0;34m(\u001b[0m\u001b[0mtext\u001b[0m\u001b[0;34m)\u001b[0m\u001b[0;34m\u001b[0m\u001b[0;34m\u001b[0m\u001b[0m\n\u001b[0;32m--> 621\u001b[0;31m         \u001b[0mself\u001b[0m\u001b[0;34m.\u001b[0m\u001b[0mgenerate_from_frequencies\u001b[0m\u001b[0;34m(\u001b[0m\u001b[0mwords\u001b[0m\u001b[0;34m)\u001b[0m\u001b[0;34m\u001b[0m\u001b[0;34m\u001b[0m\u001b[0m\n\u001b[0m\u001b[1;32m    622\u001b[0m         \u001b[0;32mreturn\u001b[0m \u001b[0mself\u001b[0m\u001b[0;34m\u001b[0m\u001b[0;34m\u001b[0m\u001b[0m\n\u001b[1;32m    623\u001b[0m \u001b[0;34m\u001b[0m\u001b[0m\n",
      "\u001b[0;32m~/.local/lib/python3.10/site-packages/wordcloud/wordcloud.py\u001b[0m in \u001b[0;36mgenerate_from_frequencies\u001b[0;34m(self, frequencies, max_font_size)\u001b[0m\n\u001b[1;32m    451\u001b[0m                 \u001b[0mfont_size\u001b[0m \u001b[0;34m=\u001b[0m \u001b[0mself\u001b[0m\u001b[0;34m.\u001b[0m\u001b[0mheight\u001b[0m\u001b[0;34m\u001b[0m\u001b[0;34m\u001b[0m\u001b[0m\n\u001b[1;32m    452\u001b[0m             \u001b[0;32melse\u001b[0m\u001b[0;34m:\u001b[0m\u001b[0;34m\u001b[0m\u001b[0;34m\u001b[0m\u001b[0m\n\u001b[0;32m--> 453\u001b[0;31m                 self.generate_from_frequencies(dict(frequencies[:2]),\n\u001b[0m\u001b[1;32m    454\u001b[0m                                                max_font_size=self.height)\n\u001b[1;32m    455\u001b[0m                 \u001b[0;31m# find font sizes\u001b[0m\u001b[0;34m\u001b[0m\u001b[0;34m\u001b[0m\u001b[0m\n",
      "\u001b[0;32m~/.local/lib/python3.10/site-packages/wordcloud/wordcloud.py\u001b[0m in \u001b[0;36mgenerate_from_frequencies\u001b[0;34m(self, frequencies, max_font_size)\u001b[0m\n\u001b[1;32m    506\u001b[0m                     font, orientation=orientation)\n\u001b[1;32m    507\u001b[0m                 \u001b[0;31m# get size of resulting text\u001b[0m\u001b[0;34m\u001b[0m\u001b[0;34m\u001b[0m\u001b[0m\n\u001b[0;32m--> 508\u001b[0;31m                 \u001b[0mbox_size\u001b[0m \u001b[0;34m=\u001b[0m \u001b[0mdraw\u001b[0m\u001b[0;34m.\u001b[0m\u001b[0mtextbbox\u001b[0m\u001b[0;34m(\u001b[0m\u001b[0;34m(\u001b[0m\u001b[0;36m0\u001b[0m\u001b[0;34m,\u001b[0m \u001b[0;36m0\u001b[0m\u001b[0;34m)\u001b[0m\u001b[0;34m,\u001b[0m \u001b[0mword\u001b[0m\u001b[0;34m,\u001b[0m \u001b[0mfont\u001b[0m\u001b[0;34m=\u001b[0m\u001b[0mtransposed_font\u001b[0m\u001b[0;34m,\u001b[0m \u001b[0manchor\u001b[0m\u001b[0;34m=\u001b[0m\u001b[0;34m\"lt\"\u001b[0m\u001b[0;34m)\u001b[0m\u001b[0;34m\u001b[0m\u001b[0;34m\u001b[0m\u001b[0m\n\u001b[0m\u001b[1;32m    509\u001b[0m                 \u001b[0;31m# find possible places using integral image:\u001b[0m\u001b[0;34m\u001b[0m\u001b[0;34m\u001b[0m\u001b[0m\n\u001b[1;32m    510\u001b[0m                 result = occupancy.sample_position(box_size[3] + self.margin,\n",
      "\u001b[0;32m/usr/lib/python3/dist-packages/PIL/ImageDraw.py\u001b[0m in \u001b[0;36mtextbbox\u001b[0;34m(self, xy, text, font, anchor, spacing, align, direction, features, language, stroke_width, embedded_color)\u001b[0m\n\u001b[1;32m    669\u001b[0m             \u001b[0mfont\u001b[0m \u001b[0;34m=\u001b[0m \u001b[0mself\u001b[0m\u001b[0;34m.\u001b[0m\u001b[0mgetfont\u001b[0m\u001b[0;34m(\u001b[0m\u001b[0;34m)\u001b[0m\u001b[0;34m\u001b[0m\u001b[0;34m\u001b[0m\u001b[0m\n\u001b[1;32m    670\u001b[0m         \u001b[0;32mif\u001b[0m \u001b[0;32mnot\u001b[0m \u001b[0misinstance\u001b[0m\u001b[0;34m(\u001b[0m\u001b[0mfont\u001b[0m\u001b[0;34m,\u001b[0m \u001b[0mImageFont\u001b[0m\u001b[0;34m.\u001b[0m\u001b[0mFreeTypeFont\u001b[0m\u001b[0;34m)\u001b[0m\u001b[0;34m:\u001b[0m\u001b[0;34m\u001b[0m\u001b[0;34m\u001b[0m\u001b[0m\n\u001b[0;32m--> 671\u001b[0;31m             \u001b[0;32mraise\u001b[0m \u001b[0mValueError\u001b[0m\u001b[0;34m(\u001b[0m\u001b[0;34m\"Only supported for TrueType fonts\"\u001b[0m\u001b[0;34m)\u001b[0m\u001b[0;34m\u001b[0m\u001b[0;34m\u001b[0m\u001b[0m\n\u001b[0m\u001b[1;32m    672\u001b[0m         \u001b[0mmode\u001b[0m \u001b[0;34m=\u001b[0m \u001b[0;34m\"RGBA\"\u001b[0m \u001b[0;32mif\u001b[0m \u001b[0membedded_color\u001b[0m \u001b[0;32melse\u001b[0m \u001b[0mself\u001b[0m\u001b[0;34m.\u001b[0m\u001b[0mfontmode\u001b[0m\u001b[0;34m\u001b[0m\u001b[0;34m\u001b[0m\u001b[0m\n\u001b[1;32m    673\u001b[0m         bbox = font.getbbox(\n",
      "\u001b[0;31mValueError\u001b[0m: Only supported for TrueType fonts"
     ]
    }
   ],
   "source": [
    "wordcloud(author_string,'Author Name words')"
   ]
  },
  {
   "cell_type": "markdown",
   "metadata": {
    "id": "5wlU41Ib9Ais"
   },
   "source": [
    "Displaying most frequent words in title text"
   ]
  },
  {
   "cell_type": "code",
   "execution_count": 143,
   "metadata": {
    "execution": {
     "iopub.execute_input": "2021-07-17T04:24:30.238331Z",
     "iopub.status.busy": "2021-07-17T04:24:30.237995Z",
     "iopub.status.idle": "2021-07-17T04:24:39.453483Z",
     "shell.execute_reply": "2021-07-17T04:24:39.452478Z",
     "shell.execute_reply.started": "2021-07-17T04:24:30.238293Z"
    },
    "id": "MzoyiBD99Ais",
    "outputId": "6edbc0d3-3ce7-42b7-bd7e-7fb970a0e25b"
   },
   "outputs": [
    {
     "ename": "ValueError",
     "evalue": "Only supported for TrueType fonts",
     "output_type": "error",
     "traceback": [
      "\u001b[0;31m---------------------------------------------------------------------------\u001b[0m",
      "\u001b[0;31mValueError\u001b[0m                                Traceback (most recent call last)",
      "\u001b[0;32m/tmp/ipykernel_5041/3703308383.py\u001b[0m in \u001b[0;36m<module>\u001b[0;34m\u001b[0m\n\u001b[0;32m----> 1\u001b[0;31m \u001b[0mwordcloud\u001b[0m\u001b[0;34m(\u001b[0m\u001b[0mtitle_string\u001b[0m\u001b[0;34m,\u001b[0m\u001b[0;34m'Title text words'\u001b[0m\u001b[0;34m)\u001b[0m\u001b[0;34m\u001b[0m\u001b[0;34m\u001b[0m\u001b[0m\n\u001b[0m",
      "\u001b[0;32m/tmp/ipykernel_5041/3175641964.py\u001b[0m in \u001b[0;36mwordcloud\u001b[0;34m(string, title)\u001b[0m\n\u001b[1;32m      6\u001b[0m \u001b[0;32mdef\u001b[0m \u001b[0mwordcloud\u001b[0m\u001b[0;34m(\u001b[0m\u001b[0mstring\u001b[0m\u001b[0;34m,\u001b[0m\u001b[0mtitle\u001b[0m \u001b[0;34m=\u001b[0m\u001b[0;34m\"unknown\"\u001b[0m\u001b[0;34m)\u001b[0m\u001b[0;34m:\u001b[0m\u001b[0;34m\u001b[0m\u001b[0;34m\u001b[0m\u001b[0m\n\u001b[1;32m      7\u001b[0m     wc = WordCloud(width=800,height=500,mask=None,random_state=21,\n\u001b[0;32m----> 8\u001b[0;31m                    stopwords=stop_words).generate(string)\n\u001b[0m\u001b[1;32m      9\u001b[0m     \u001b[0mfig\u001b[0m\u001b[0;34m=\u001b[0m\u001b[0mplt\u001b[0m\u001b[0;34m.\u001b[0m\u001b[0mfigure\u001b[0m\u001b[0;34m(\u001b[0m\u001b[0mfigsize\u001b[0m\u001b[0;34m=\u001b[0m\u001b[0;34m(\u001b[0m\u001b[0;36m16\u001b[0m\u001b[0;34m,\u001b[0m\u001b[0;36m8\u001b[0m\u001b[0;34m)\u001b[0m\u001b[0;34m)\u001b[0m\u001b[0;34m\u001b[0m\u001b[0;34m\u001b[0m\u001b[0m\n\u001b[1;32m     10\u001b[0m     \u001b[0mplt\u001b[0m\u001b[0;34m.\u001b[0m\u001b[0mtitle\u001b[0m\u001b[0;34m(\u001b[0m\u001b[0mtitle\u001b[0m\u001b[0;34m)\u001b[0m\u001b[0;34m\u001b[0m\u001b[0;34m\u001b[0m\u001b[0m\n",
      "\u001b[0;32m~/.local/lib/python3.10/site-packages/wordcloud/wordcloud.py\u001b[0m in \u001b[0;36mgenerate\u001b[0;34m(self, text)\u001b[0m\n\u001b[1;32m    637\u001b[0m         \u001b[0mself\u001b[0m\u001b[0;34m\u001b[0m\u001b[0;34m\u001b[0m\u001b[0m\n\u001b[1;32m    638\u001b[0m         \"\"\"\n\u001b[0;32m--> 639\u001b[0;31m         \u001b[0;32mreturn\u001b[0m \u001b[0mself\u001b[0m\u001b[0;34m.\u001b[0m\u001b[0mgenerate_from_text\u001b[0m\u001b[0;34m(\u001b[0m\u001b[0mtext\u001b[0m\u001b[0;34m)\u001b[0m\u001b[0;34m\u001b[0m\u001b[0;34m\u001b[0m\u001b[0m\n\u001b[0m\u001b[1;32m    640\u001b[0m \u001b[0;34m\u001b[0m\u001b[0m\n\u001b[1;32m    641\u001b[0m     \u001b[0;32mdef\u001b[0m \u001b[0m_check_generated\u001b[0m\u001b[0;34m(\u001b[0m\u001b[0mself\u001b[0m\u001b[0;34m)\u001b[0m\u001b[0;34m:\u001b[0m\u001b[0;34m\u001b[0m\u001b[0;34m\u001b[0m\u001b[0m\n",
      "\u001b[0;32m~/.local/lib/python3.10/site-packages/wordcloud/wordcloud.py\u001b[0m in \u001b[0;36mgenerate_from_text\u001b[0;34m(self, text)\u001b[0m\n\u001b[1;32m    619\u001b[0m         \"\"\"\n\u001b[1;32m    620\u001b[0m         \u001b[0mwords\u001b[0m \u001b[0;34m=\u001b[0m \u001b[0mself\u001b[0m\u001b[0;34m.\u001b[0m\u001b[0mprocess_text\u001b[0m\u001b[0;34m(\u001b[0m\u001b[0mtext\u001b[0m\u001b[0;34m)\u001b[0m\u001b[0;34m\u001b[0m\u001b[0;34m\u001b[0m\u001b[0m\n\u001b[0;32m--> 621\u001b[0;31m         \u001b[0mself\u001b[0m\u001b[0;34m.\u001b[0m\u001b[0mgenerate_from_frequencies\u001b[0m\u001b[0;34m(\u001b[0m\u001b[0mwords\u001b[0m\u001b[0;34m)\u001b[0m\u001b[0;34m\u001b[0m\u001b[0;34m\u001b[0m\u001b[0m\n\u001b[0m\u001b[1;32m    622\u001b[0m         \u001b[0;32mreturn\u001b[0m \u001b[0mself\u001b[0m\u001b[0;34m\u001b[0m\u001b[0;34m\u001b[0m\u001b[0m\n\u001b[1;32m    623\u001b[0m \u001b[0;34m\u001b[0m\u001b[0m\n",
      "\u001b[0;32m~/.local/lib/python3.10/site-packages/wordcloud/wordcloud.py\u001b[0m in \u001b[0;36mgenerate_from_frequencies\u001b[0;34m(self, frequencies, max_font_size)\u001b[0m\n\u001b[1;32m    451\u001b[0m                 \u001b[0mfont_size\u001b[0m \u001b[0;34m=\u001b[0m \u001b[0mself\u001b[0m\u001b[0;34m.\u001b[0m\u001b[0mheight\u001b[0m\u001b[0;34m\u001b[0m\u001b[0;34m\u001b[0m\u001b[0m\n\u001b[1;32m    452\u001b[0m             \u001b[0;32melse\u001b[0m\u001b[0;34m:\u001b[0m\u001b[0;34m\u001b[0m\u001b[0;34m\u001b[0m\u001b[0m\n\u001b[0;32m--> 453\u001b[0;31m                 self.generate_from_frequencies(dict(frequencies[:2]),\n\u001b[0m\u001b[1;32m    454\u001b[0m                                                max_font_size=self.height)\n\u001b[1;32m    455\u001b[0m                 \u001b[0;31m# find font sizes\u001b[0m\u001b[0;34m\u001b[0m\u001b[0;34m\u001b[0m\u001b[0m\n",
      "\u001b[0;32m~/.local/lib/python3.10/site-packages/wordcloud/wordcloud.py\u001b[0m in \u001b[0;36mgenerate_from_frequencies\u001b[0;34m(self, frequencies, max_font_size)\u001b[0m\n\u001b[1;32m    506\u001b[0m                     font, orientation=orientation)\n\u001b[1;32m    507\u001b[0m                 \u001b[0;31m# get size of resulting text\u001b[0m\u001b[0;34m\u001b[0m\u001b[0;34m\u001b[0m\u001b[0m\n\u001b[0;32m--> 508\u001b[0;31m                 \u001b[0mbox_size\u001b[0m \u001b[0;34m=\u001b[0m \u001b[0mdraw\u001b[0m\u001b[0;34m.\u001b[0m\u001b[0mtextbbox\u001b[0m\u001b[0;34m(\u001b[0m\u001b[0;34m(\u001b[0m\u001b[0;36m0\u001b[0m\u001b[0;34m,\u001b[0m \u001b[0;36m0\u001b[0m\u001b[0;34m)\u001b[0m\u001b[0;34m,\u001b[0m \u001b[0mword\u001b[0m\u001b[0;34m,\u001b[0m \u001b[0mfont\u001b[0m\u001b[0;34m=\u001b[0m\u001b[0mtransposed_font\u001b[0m\u001b[0;34m,\u001b[0m \u001b[0manchor\u001b[0m\u001b[0;34m=\u001b[0m\u001b[0;34m\"lt\"\u001b[0m\u001b[0;34m)\u001b[0m\u001b[0;34m\u001b[0m\u001b[0;34m\u001b[0m\u001b[0m\n\u001b[0m\u001b[1;32m    509\u001b[0m                 \u001b[0;31m# find possible places using integral image:\u001b[0m\u001b[0;34m\u001b[0m\u001b[0;34m\u001b[0m\u001b[0m\n\u001b[1;32m    510\u001b[0m                 result = occupancy.sample_position(box_size[3] + self.margin,\n",
      "\u001b[0;32m/usr/lib/python3/dist-packages/PIL/ImageDraw.py\u001b[0m in \u001b[0;36mtextbbox\u001b[0;34m(self, xy, text, font, anchor, spacing, align, direction, features, language, stroke_width, embedded_color)\u001b[0m\n\u001b[1;32m    669\u001b[0m             \u001b[0mfont\u001b[0m \u001b[0;34m=\u001b[0m \u001b[0mself\u001b[0m\u001b[0;34m.\u001b[0m\u001b[0mgetfont\u001b[0m\u001b[0;34m(\u001b[0m\u001b[0;34m)\u001b[0m\u001b[0;34m\u001b[0m\u001b[0;34m\u001b[0m\u001b[0m\n\u001b[1;32m    670\u001b[0m         \u001b[0;32mif\u001b[0m \u001b[0;32mnot\u001b[0m \u001b[0misinstance\u001b[0m\u001b[0;34m(\u001b[0m\u001b[0mfont\u001b[0m\u001b[0;34m,\u001b[0m \u001b[0mImageFont\u001b[0m\u001b[0;34m.\u001b[0m\u001b[0mFreeTypeFont\u001b[0m\u001b[0;34m)\u001b[0m\u001b[0;34m:\u001b[0m\u001b[0;34m\u001b[0m\u001b[0;34m\u001b[0m\u001b[0m\n\u001b[0;32m--> 671\u001b[0;31m             \u001b[0;32mraise\u001b[0m \u001b[0mValueError\u001b[0m\u001b[0;34m(\u001b[0m\u001b[0;34m\"Only supported for TrueType fonts\"\u001b[0m\u001b[0;34m)\u001b[0m\u001b[0;34m\u001b[0m\u001b[0;34m\u001b[0m\u001b[0m\n\u001b[0m\u001b[1;32m    672\u001b[0m         \u001b[0mmode\u001b[0m \u001b[0;34m=\u001b[0m \u001b[0;34m\"RGBA\"\u001b[0m \u001b[0;32mif\u001b[0m \u001b[0membedded_color\u001b[0m \u001b[0;32melse\u001b[0m \u001b[0mself\u001b[0m\u001b[0;34m.\u001b[0m\u001b[0mfontmode\u001b[0m\u001b[0;34m\u001b[0m\u001b[0;34m\u001b[0m\u001b[0m\n\u001b[1;32m    673\u001b[0m         bbox = font.getbbox(\n",
      "\u001b[0;31mValueError\u001b[0m: Only supported for TrueType fonts"
     ]
    }
   ],
   "source": [
    "wordcloud(title_string,'Title text words')"
   ]
  },
  {
   "cell_type": "markdown",
   "metadata": {
    "id": "pFeFwJza9Ait"
   },
   "source": [
    "Displaying most frequent words in publisher names"
   ]
  },
  {
   "cell_type": "code",
   "execution_count": 144,
   "metadata": {
    "execution": {
     "iopub.execute_input": "2021-07-17T04:24:39.455103Z",
     "iopub.status.busy": "2021-07-17T04:24:39.454784Z",
     "iopub.status.idle": "2021-07-17T04:24:43.171878Z",
     "shell.execute_reply": "2021-07-17T04:24:43.171158Z",
     "shell.execute_reply.started": "2021-07-17T04:24:39.455061Z"
    },
    "id": "7YJfSbT29Ait",
    "outputId": "a0f2d2c5-e070-4810-d38a-2cd82e25293e"
   },
   "outputs": [
    {
     "ename": "ValueError",
     "evalue": "Only supported for TrueType fonts",
     "output_type": "error",
     "traceback": [
      "\u001b[0;31m---------------------------------------------------------------------------\u001b[0m",
      "\u001b[0;31mValueError\u001b[0m                                Traceback (most recent call last)",
      "\u001b[0;32m/tmp/ipykernel_5041/1163610718.py\u001b[0m in \u001b[0;36m<module>\u001b[0;34m\u001b[0m\n\u001b[0;32m----> 1\u001b[0;31m \u001b[0mwordcloud\u001b[0m\u001b[0;34m(\u001b[0m\u001b[0mpublisher_string\u001b[0m\u001b[0;34m,\u001b[0m\u001b[0;34m'Publisher Name words'\u001b[0m\u001b[0;34m)\u001b[0m\u001b[0;34m\u001b[0m\u001b[0;34m\u001b[0m\u001b[0m\n\u001b[0m",
      "\u001b[0;32m/tmp/ipykernel_5041/3175641964.py\u001b[0m in \u001b[0;36mwordcloud\u001b[0;34m(string, title)\u001b[0m\n\u001b[1;32m      6\u001b[0m \u001b[0;32mdef\u001b[0m \u001b[0mwordcloud\u001b[0m\u001b[0;34m(\u001b[0m\u001b[0mstring\u001b[0m\u001b[0;34m,\u001b[0m\u001b[0mtitle\u001b[0m \u001b[0;34m=\u001b[0m\u001b[0;34m\"unknown\"\u001b[0m\u001b[0;34m)\u001b[0m\u001b[0;34m:\u001b[0m\u001b[0;34m\u001b[0m\u001b[0;34m\u001b[0m\u001b[0m\n\u001b[1;32m      7\u001b[0m     wc = WordCloud(width=800,height=500,mask=None,random_state=21,\n\u001b[0;32m----> 8\u001b[0;31m                    stopwords=stop_words).generate(string)\n\u001b[0m\u001b[1;32m      9\u001b[0m     \u001b[0mfig\u001b[0m\u001b[0;34m=\u001b[0m\u001b[0mplt\u001b[0m\u001b[0;34m.\u001b[0m\u001b[0mfigure\u001b[0m\u001b[0;34m(\u001b[0m\u001b[0mfigsize\u001b[0m\u001b[0;34m=\u001b[0m\u001b[0;34m(\u001b[0m\u001b[0;36m16\u001b[0m\u001b[0;34m,\u001b[0m\u001b[0;36m8\u001b[0m\u001b[0;34m)\u001b[0m\u001b[0;34m)\u001b[0m\u001b[0;34m\u001b[0m\u001b[0;34m\u001b[0m\u001b[0m\n\u001b[1;32m     10\u001b[0m     \u001b[0mplt\u001b[0m\u001b[0;34m.\u001b[0m\u001b[0mtitle\u001b[0m\u001b[0;34m(\u001b[0m\u001b[0mtitle\u001b[0m\u001b[0;34m)\u001b[0m\u001b[0;34m\u001b[0m\u001b[0;34m\u001b[0m\u001b[0m\n",
      "\u001b[0;32m~/.local/lib/python3.10/site-packages/wordcloud/wordcloud.py\u001b[0m in \u001b[0;36mgenerate\u001b[0;34m(self, text)\u001b[0m\n\u001b[1;32m    637\u001b[0m         \u001b[0mself\u001b[0m\u001b[0;34m\u001b[0m\u001b[0;34m\u001b[0m\u001b[0m\n\u001b[1;32m    638\u001b[0m         \"\"\"\n\u001b[0;32m--> 639\u001b[0;31m         \u001b[0;32mreturn\u001b[0m \u001b[0mself\u001b[0m\u001b[0;34m.\u001b[0m\u001b[0mgenerate_from_text\u001b[0m\u001b[0;34m(\u001b[0m\u001b[0mtext\u001b[0m\u001b[0;34m)\u001b[0m\u001b[0;34m\u001b[0m\u001b[0;34m\u001b[0m\u001b[0m\n\u001b[0m\u001b[1;32m    640\u001b[0m \u001b[0;34m\u001b[0m\u001b[0m\n\u001b[1;32m    641\u001b[0m     \u001b[0;32mdef\u001b[0m \u001b[0m_check_generated\u001b[0m\u001b[0;34m(\u001b[0m\u001b[0mself\u001b[0m\u001b[0;34m)\u001b[0m\u001b[0;34m:\u001b[0m\u001b[0;34m\u001b[0m\u001b[0;34m\u001b[0m\u001b[0m\n",
      "\u001b[0;32m~/.local/lib/python3.10/site-packages/wordcloud/wordcloud.py\u001b[0m in \u001b[0;36mgenerate_from_text\u001b[0;34m(self, text)\u001b[0m\n\u001b[1;32m    619\u001b[0m         \"\"\"\n\u001b[1;32m    620\u001b[0m         \u001b[0mwords\u001b[0m \u001b[0;34m=\u001b[0m \u001b[0mself\u001b[0m\u001b[0;34m.\u001b[0m\u001b[0mprocess_text\u001b[0m\u001b[0;34m(\u001b[0m\u001b[0mtext\u001b[0m\u001b[0;34m)\u001b[0m\u001b[0;34m\u001b[0m\u001b[0;34m\u001b[0m\u001b[0m\n\u001b[0;32m--> 621\u001b[0;31m         \u001b[0mself\u001b[0m\u001b[0;34m.\u001b[0m\u001b[0mgenerate_from_frequencies\u001b[0m\u001b[0;34m(\u001b[0m\u001b[0mwords\u001b[0m\u001b[0;34m)\u001b[0m\u001b[0;34m\u001b[0m\u001b[0;34m\u001b[0m\u001b[0m\n\u001b[0m\u001b[1;32m    622\u001b[0m         \u001b[0;32mreturn\u001b[0m \u001b[0mself\u001b[0m\u001b[0;34m\u001b[0m\u001b[0;34m\u001b[0m\u001b[0m\n\u001b[1;32m    623\u001b[0m \u001b[0;34m\u001b[0m\u001b[0m\n",
      "\u001b[0;32m~/.local/lib/python3.10/site-packages/wordcloud/wordcloud.py\u001b[0m in \u001b[0;36mgenerate_from_frequencies\u001b[0;34m(self, frequencies, max_font_size)\u001b[0m\n\u001b[1;32m    451\u001b[0m                 \u001b[0mfont_size\u001b[0m \u001b[0;34m=\u001b[0m \u001b[0mself\u001b[0m\u001b[0;34m.\u001b[0m\u001b[0mheight\u001b[0m\u001b[0;34m\u001b[0m\u001b[0;34m\u001b[0m\u001b[0m\n\u001b[1;32m    452\u001b[0m             \u001b[0;32melse\u001b[0m\u001b[0;34m:\u001b[0m\u001b[0;34m\u001b[0m\u001b[0;34m\u001b[0m\u001b[0m\n\u001b[0;32m--> 453\u001b[0;31m                 self.generate_from_frequencies(dict(frequencies[:2]),\n\u001b[0m\u001b[1;32m    454\u001b[0m                                                max_font_size=self.height)\n\u001b[1;32m    455\u001b[0m                 \u001b[0;31m# find font sizes\u001b[0m\u001b[0;34m\u001b[0m\u001b[0;34m\u001b[0m\u001b[0m\n",
      "\u001b[0;32m~/.local/lib/python3.10/site-packages/wordcloud/wordcloud.py\u001b[0m in \u001b[0;36mgenerate_from_frequencies\u001b[0;34m(self, frequencies, max_font_size)\u001b[0m\n\u001b[1;32m    506\u001b[0m                     font, orientation=orientation)\n\u001b[1;32m    507\u001b[0m                 \u001b[0;31m# get size of resulting text\u001b[0m\u001b[0;34m\u001b[0m\u001b[0;34m\u001b[0m\u001b[0m\n\u001b[0;32m--> 508\u001b[0;31m                 \u001b[0mbox_size\u001b[0m \u001b[0;34m=\u001b[0m \u001b[0mdraw\u001b[0m\u001b[0;34m.\u001b[0m\u001b[0mtextbbox\u001b[0m\u001b[0;34m(\u001b[0m\u001b[0;34m(\u001b[0m\u001b[0;36m0\u001b[0m\u001b[0;34m,\u001b[0m \u001b[0;36m0\u001b[0m\u001b[0;34m)\u001b[0m\u001b[0;34m,\u001b[0m \u001b[0mword\u001b[0m\u001b[0;34m,\u001b[0m \u001b[0mfont\u001b[0m\u001b[0;34m=\u001b[0m\u001b[0mtransposed_font\u001b[0m\u001b[0;34m,\u001b[0m \u001b[0manchor\u001b[0m\u001b[0;34m=\u001b[0m\u001b[0;34m\"lt\"\u001b[0m\u001b[0;34m)\u001b[0m\u001b[0;34m\u001b[0m\u001b[0;34m\u001b[0m\u001b[0m\n\u001b[0m\u001b[1;32m    509\u001b[0m                 \u001b[0;31m# find possible places using integral image:\u001b[0m\u001b[0;34m\u001b[0m\u001b[0;34m\u001b[0m\u001b[0m\n\u001b[1;32m    510\u001b[0m                 result = occupancy.sample_position(box_size[3] + self.margin,\n",
      "\u001b[0;32m/usr/lib/python3/dist-packages/PIL/ImageDraw.py\u001b[0m in \u001b[0;36mtextbbox\u001b[0;34m(self, xy, text, font, anchor, spacing, align, direction, features, language, stroke_width, embedded_color)\u001b[0m\n\u001b[1;32m    669\u001b[0m             \u001b[0mfont\u001b[0m \u001b[0;34m=\u001b[0m \u001b[0mself\u001b[0m\u001b[0;34m.\u001b[0m\u001b[0mgetfont\u001b[0m\u001b[0;34m(\u001b[0m\u001b[0;34m)\u001b[0m\u001b[0;34m\u001b[0m\u001b[0;34m\u001b[0m\u001b[0m\n\u001b[1;32m    670\u001b[0m         \u001b[0;32mif\u001b[0m \u001b[0;32mnot\u001b[0m \u001b[0misinstance\u001b[0m\u001b[0;34m(\u001b[0m\u001b[0mfont\u001b[0m\u001b[0;34m,\u001b[0m \u001b[0mImageFont\u001b[0m\u001b[0;34m.\u001b[0m\u001b[0mFreeTypeFont\u001b[0m\u001b[0;34m)\u001b[0m\u001b[0;34m:\u001b[0m\u001b[0;34m\u001b[0m\u001b[0;34m\u001b[0m\u001b[0m\n\u001b[0;32m--> 671\u001b[0;31m             \u001b[0;32mraise\u001b[0m \u001b[0mValueError\u001b[0m\u001b[0;34m(\u001b[0m\u001b[0;34m\"Only supported for TrueType fonts\"\u001b[0m\u001b[0;34m)\u001b[0m\u001b[0;34m\u001b[0m\u001b[0;34m\u001b[0m\u001b[0m\n\u001b[0m\u001b[1;32m    672\u001b[0m         \u001b[0mmode\u001b[0m \u001b[0;34m=\u001b[0m \u001b[0;34m\"RGBA\"\u001b[0m \u001b[0;32mif\u001b[0m \u001b[0membedded_color\u001b[0m \u001b[0;32melse\u001b[0m \u001b[0mself\u001b[0m\u001b[0;34m.\u001b[0m\u001b[0mfontmode\u001b[0m\u001b[0;34m\u001b[0m\u001b[0;34m\u001b[0m\u001b[0m\n\u001b[1;32m    673\u001b[0m         bbox = font.getbbox(\n",
      "\u001b[0;31mValueError\u001b[0m: Only supported for TrueType fonts"
     ]
    }
   ],
   "source": [
    "wordcloud(publisher_string,'Publisher Name words')"
   ]
  },
  {
   "cell_type": "markdown",
   "metadata": {
    "id": "PWM3a8Pn9Ait"
   },
   "source": [
    "# 4. Popularity Based Recommendation"
   ]
  },
  {
   "cell_type": "markdown",
   "metadata": {
    "id": "LIcPdvgh9Aiu"
   },
   "source": [
    "Below we show top 10 recommendations based on popularity using sum of bookRating values to choose which is popular.    \n",
    "It is evident that books authored by [J.K. Rowling](https://www.jkrowling.com/) are one of the most popular"
   ]
  },
  {
   "cell_type": "code",
   "execution_count": 145,
   "metadata": {
    "execution": {
     "iopub.execute_input": "2021-07-17T04:24:43.173426Z",
     "iopub.status.busy": "2021-07-17T04:24:43.172958Z",
     "iopub.status.idle": "2021-07-17T04:24:43.657418Z",
     "shell.execute_reply": "2021-07-17T04:24:43.656353Z",
     "shell.execute_reply.started": "2021-07-17T04:24:43.173388Z"
    },
    "id": "wZZ2vrZo9Aiu",
    "outputId": "20a2666d-ffdb-4dff-b6dc-ad85b4852406"
   },
   "outputs": [
    {
     "name": "stdout",
     "output_type": "stream",
     "text": [
      "Following books are recommended\n"
     ]
    },
    {
     "data": {
      "text/html": [
       "<div>\n",
       "<style scoped>\n",
       "    .dataframe tbody tr th:only-of-type {\n",
       "        vertical-align: middle;\n",
       "    }\n",
       "\n",
       "    .dataframe tbody tr th {\n",
       "        vertical-align: top;\n",
       "    }\n",
       "\n",
       "    .dataframe thead th {\n",
       "        text-align: right;\n",
       "    }\n",
       "</style>\n",
       "<table border=\"1\" class=\"dataframe\">\n",
       "  <thead>\n",
       "    <tr style=\"text-align: right;\">\n",
       "      <th></th>\n",
       "      <th>index</th>\n",
       "      <th>Book-Rating</th>\n",
       "      <th>ISBN</th>\n",
       "      <th>Book-Title</th>\n",
       "      <th>Book-Author</th>\n",
       "      <th>Year-Of-Publication</th>\n",
       "      <th>Publisher</th>\n",
       "      <th>Image-URL-S</th>\n",
       "      <th>Image-URL-M</th>\n",
       "      <th>Image-URL-L</th>\n",
       "      <th>publisher</th>\n",
       "      <th>bookAuthor</th>\n",
       "    </tr>\n",
       "  </thead>\n",
       "  <tbody>\n",
       "    <tr>\n",
       "      <th>0</th>\n",
       "      <td>408</td>\n",
       "      <td>5787</td>\n",
       "      <td>0316666343</td>\n",
       "      <td>The Lovely Bones: A Novel</td>\n",
       "      <td>Alice Sebold</td>\n",
       "      <td>2002</td>\n",
       "      <td>Little, Brown</td>\n",
       "      <td>http://images.amazon.com/images/P/0316666343.0...</td>\n",
       "      <td>http://images.amazon.com/images/P/0316666343.0...</td>\n",
       "      <td>http://images.amazon.com/images/P/0316666343.0...</td>\n",
       "      <td>NaN</td>\n",
       "      <td>NaN</td>\n",
       "    </tr>\n",
       "    <tr>\n",
       "      <th>1</th>\n",
       "      <td>748</td>\n",
       "      <td>4108</td>\n",
       "      <td>0385504209</td>\n",
       "      <td>The Da Vinci Code</td>\n",
       "      <td>Dan Brown</td>\n",
       "      <td>2003</td>\n",
       "      <td>Doubleday</td>\n",
       "      <td>http://images.amazon.com/images/P/0385504209.0...</td>\n",
       "      <td>http://images.amazon.com/images/P/0385504209.0...</td>\n",
       "      <td>http://images.amazon.com/images/P/0385504209.0...</td>\n",
       "      <td>NaN</td>\n",
       "      <td>NaN</td>\n",
       "    </tr>\n",
       "    <tr>\n",
       "      <th>2</th>\n",
       "      <td>522</td>\n",
       "      <td>3134</td>\n",
       "      <td>0312195516</td>\n",
       "      <td>The Red Tent (Bestselling Backlist)</td>\n",
       "      <td>Anita Diamant</td>\n",
       "      <td>1998</td>\n",
       "      <td>Picador USA</td>\n",
       "      <td>http://images.amazon.com/images/P/0312195516.0...</td>\n",
       "      <td>http://images.amazon.com/images/P/0312195516.0...</td>\n",
       "      <td>http://images.amazon.com/images/P/0312195516.0...</td>\n",
       "      <td>NaN</td>\n",
       "      <td>NaN</td>\n",
       "    </tr>\n",
       "    <tr>\n",
       "      <th>3</th>\n",
       "      <td>2143</td>\n",
       "      <td>2798</td>\n",
       "      <td>059035342X</td>\n",
       "      <td>Harry Potter and the Sorcerer's Stone (Harry P...</td>\n",
       "      <td>J. K. Rowling</td>\n",
       "      <td>1999</td>\n",
       "      <td>Arthur A. Levine Books</td>\n",
       "      <td>http://images.amazon.com/images/P/059035342X.0...</td>\n",
       "      <td>http://images.amazon.com/images/P/059035342X.0...</td>\n",
       "      <td>http://images.amazon.com/images/P/059035342X.0...</td>\n",
       "      <td>NaN</td>\n",
       "      <td>NaN</td>\n",
       "    </tr>\n",
       "    <tr>\n",
       "      <th>4</th>\n",
       "      <td>356</td>\n",
       "      <td>2595</td>\n",
       "      <td>0142001740</td>\n",
       "      <td>The Secret Life of Bees</td>\n",
       "      <td>Sue Monk Kidd</td>\n",
       "      <td>2003</td>\n",
       "      <td>Penguin Books</td>\n",
       "      <td>http://images.amazon.com/images/P/0142001740.0...</td>\n",
       "      <td>http://images.amazon.com/images/P/0142001740.0...</td>\n",
       "      <td>http://images.amazon.com/images/P/0142001740.0...</td>\n",
       "      <td>NaN</td>\n",
       "      <td>NaN</td>\n",
       "    </tr>\n",
       "    <tr>\n",
       "      <th>5</th>\n",
       "      <td>26</td>\n",
       "      <td>2551</td>\n",
       "      <td>0971880107</td>\n",
       "      <td>Wild Animus</td>\n",
       "      <td>Rich Shapero</td>\n",
       "      <td>2004</td>\n",
       "      <td>Too Far</td>\n",
       "      <td>http://images.amazon.com/images/P/0971880107.0...</td>\n",
       "      <td>http://images.amazon.com/images/P/0971880107.0...</td>\n",
       "      <td>http://images.amazon.com/images/P/0971880107.0...</td>\n",
       "      <td>NaN</td>\n",
       "      <td>NaN</td>\n",
       "    </tr>\n",
       "    <tr>\n",
       "      <th>6</th>\n",
       "      <td>1105</td>\n",
       "      <td>2524</td>\n",
       "      <td>0060928336</td>\n",
       "      <td>Divine Secrets of the Ya-Ya Sisterhood: A Novel</td>\n",
       "      <td>Rebecca Wells</td>\n",
       "      <td>1997</td>\n",
       "      <td>Perennial</td>\n",
       "      <td>http://images.amazon.com/images/P/0060928336.0...</td>\n",
       "      <td>http://images.amazon.com/images/P/0060928336.0...</td>\n",
       "      <td>http://images.amazon.com/images/P/0060928336.0...</td>\n",
       "      <td>NaN</td>\n",
       "      <td>NaN</td>\n",
       "    </tr>\n",
       "    <tr>\n",
       "      <th>7</th>\n",
       "      <td>706</td>\n",
       "      <td>2402</td>\n",
       "      <td>0446672211</td>\n",
       "      <td>Where the Heart Is (Oprah's Book Club (Paperba...</td>\n",
       "      <td>Billie Letts</td>\n",
       "      <td>1998</td>\n",
       "      <td>Warner Books</td>\n",
       "      <td>http://images.amazon.com/images/P/0446672211.0...</td>\n",
       "      <td>http://images.amazon.com/images/P/0446672211.0...</td>\n",
       "      <td>http://images.amazon.com/images/P/0446672211.0...</td>\n",
       "      <td>NaN</td>\n",
       "      <td>NaN</td>\n",
       "    </tr>\n",
       "    <tr>\n",
       "      <th>8</th>\n",
       "      <td>231</td>\n",
       "      <td>2219</td>\n",
       "      <td>0452282152</td>\n",
       "      <td>Girl with a Pearl Earring</td>\n",
       "      <td>Tracy Chevalier</td>\n",
       "      <td>2001</td>\n",
       "      <td>Plume Books</td>\n",
       "      <td>http://images.amazon.com/images/P/0452282152.0...</td>\n",
       "      <td>http://images.amazon.com/images/P/0452282152.0...</td>\n",
       "      <td>http://images.amazon.com/images/P/0452282152.0...</td>\n",
       "      <td>NaN</td>\n",
       "      <td>NaN</td>\n",
       "    </tr>\n",
       "    <tr>\n",
       "      <th>9</th>\n",
       "      <td>118</td>\n",
       "      <td>2179</td>\n",
       "      <td>0671027360</td>\n",
       "      <td>Angels &amp;amp; Demons</td>\n",
       "      <td>Dan Brown</td>\n",
       "      <td>2001</td>\n",
       "      <td>Pocket Star</td>\n",
       "      <td>http://images.amazon.com/images/P/0671027360.0...</td>\n",
       "      <td>http://images.amazon.com/images/P/0671027360.0...</td>\n",
       "      <td>http://images.amazon.com/images/P/0671027360.0...</td>\n",
       "      <td>NaN</td>\n",
       "      <td>NaN</td>\n",
       "    </tr>\n",
       "  </tbody>\n",
       "</table>\n",
       "</div>"
      ],
      "text/plain": [
       "   index  Book-Rating        ISBN  \\\n",
       "0    408         5787  0316666343   \n",
       "1    748         4108  0385504209   \n",
       "2    522         3134  0312195516   \n",
       "3   2143         2798  059035342X   \n",
       "4    356         2595  0142001740   \n",
       "5     26         2551  0971880107   \n",
       "6   1105         2524  0060928336   \n",
       "7    706         2402  0446672211   \n",
       "8    231         2219  0452282152   \n",
       "9    118         2179  0671027360   \n",
       "\n",
       "                                          Book-Title      Book-Author  \\\n",
       "0                          The Lovely Bones: A Novel     Alice Sebold   \n",
       "1                                  The Da Vinci Code        Dan Brown   \n",
       "2                The Red Tent (Bestselling Backlist)    Anita Diamant   \n",
       "3  Harry Potter and the Sorcerer's Stone (Harry P...    J. K. Rowling   \n",
       "4                            The Secret Life of Bees    Sue Monk Kidd   \n",
       "5                                        Wild Animus     Rich Shapero   \n",
       "6    Divine Secrets of the Ya-Ya Sisterhood: A Novel    Rebecca Wells   \n",
       "7  Where the Heart Is (Oprah's Book Club (Paperba...     Billie Letts   \n",
       "8                          Girl with a Pearl Earring  Tracy Chevalier   \n",
       "9                                Angels &amp; Demons        Dan Brown   \n",
       "\n",
       "  Year-Of-Publication               Publisher  \\\n",
       "0                2002           Little, Brown   \n",
       "1                2003               Doubleday   \n",
       "2                1998             Picador USA   \n",
       "3                1999  Arthur A. Levine Books   \n",
       "4                2003           Penguin Books   \n",
       "5                2004                 Too Far   \n",
       "6                1997               Perennial   \n",
       "7                1998            Warner Books   \n",
       "8                2001             Plume Books   \n",
       "9                2001             Pocket Star   \n",
       "\n",
       "                                         Image-URL-S  \\\n",
       "0  http://images.amazon.com/images/P/0316666343.0...   \n",
       "1  http://images.amazon.com/images/P/0385504209.0...   \n",
       "2  http://images.amazon.com/images/P/0312195516.0...   \n",
       "3  http://images.amazon.com/images/P/059035342X.0...   \n",
       "4  http://images.amazon.com/images/P/0142001740.0...   \n",
       "5  http://images.amazon.com/images/P/0971880107.0...   \n",
       "6  http://images.amazon.com/images/P/0060928336.0...   \n",
       "7  http://images.amazon.com/images/P/0446672211.0...   \n",
       "8  http://images.amazon.com/images/P/0452282152.0...   \n",
       "9  http://images.amazon.com/images/P/0671027360.0...   \n",
       "\n",
       "                                         Image-URL-M  \\\n",
       "0  http://images.amazon.com/images/P/0316666343.0...   \n",
       "1  http://images.amazon.com/images/P/0385504209.0...   \n",
       "2  http://images.amazon.com/images/P/0312195516.0...   \n",
       "3  http://images.amazon.com/images/P/059035342X.0...   \n",
       "4  http://images.amazon.com/images/P/0142001740.0...   \n",
       "5  http://images.amazon.com/images/P/0971880107.0...   \n",
       "6  http://images.amazon.com/images/P/0060928336.0...   \n",
       "7  http://images.amazon.com/images/P/0446672211.0...   \n",
       "8  http://images.amazon.com/images/P/0452282152.0...   \n",
       "9  http://images.amazon.com/images/P/0671027360.0...   \n",
       "\n",
       "                                         Image-URL-L publisher bookAuthor  \n",
       "0  http://images.amazon.com/images/P/0316666343.0...       NaN        NaN  \n",
       "1  http://images.amazon.com/images/P/0385504209.0...       NaN        NaN  \n",
       "2  http://images.amazon.com/images/P/0312195516.0...       NaN        NaN  \n",
       "3  http://images.amazon.com/images/P/059035342X.0...       NaN        NaN  \n",
       "4  http://images.amazon.com/images/P/0142001740.0...       NaN        NaN  \n",
       "5  http://images.amazon.com/images/P/0971880107.0...       NaN        NaN  \n",
       "6  http://images.amazon.com/images/P/0060928336.0...       NaN        NaN  \n",
       "7  http://images.amazon.com/images/P/0446672211.0...       NaN        NaN  \n",
       "8  http://images.amazon.com/images/P/0452282152.0...       NaN        NaN  \n",
       "9  http://images.amazon.com/images/P/0671027360.0...       NaN        NaN  "
      ]
     },
     "execution_count": 145,
     "metadata": {},
     "output_type": "execute_result"
    }
   ],
   "source": [
    "ratings_count = pd.DataFrame(rating_explicit.groupby(['ISBN'])['Book-Rating'].sum())\n",
    "top_10 = ratings_count.sort_values('Book-Rating', ascending = False).head(10)\n",
    "print(\"Following books are recommended\")\n",
    "top_10.merge(books, left_index = True, right_on = 'ISBN').reset_index()"
   ]
  },
  {
   "cell_type": "markdown",
   "metadata": {
    "id": "3tkWM0ej9Aiw"
   },
   "source": [
    "# 5. Data Preprocessing"
   ]
  },
  {
   "cell_type": "markdown",
   "metadata": {
    "id": "wEGdlm459Aiw"
   },
   "source": [
    "Users with less than 100 ratings, and books with less than 100 ratings are excluded"
   ]
  },
  {
   "cell_type": "code",
   "execution_count": 146,
   "metadata": {
    "execution": {
     "iopub.execute_input": "2021-07-17T04:24:43.699911Z",
     "iopub.status.busy": "2021-07-17T04:24:43.699507Z",
     "iopub.status.idle": "2021-07-17T04:24:43.804568Z",
     "shell.execute_reply": "2021-07-17T04:24:43.803269Z",
     "shell.execute_reply.started": "2021-07-17T04:24:43.699870Z"
    },
    "id": "uLrpeRjw9Aiw"
   },
   "outputs": [],
   "source": [
    "counts1 = ratings_new['User-ID'].value_counts()\n",
    "ratings_data = ratings_new[ratings_new['User-ID'].isin(counts1[counts1 >= 100].index)]\n",
    "counts = ratings_data['Book-Rating'].value_counts()\n",
    "ratings_data = ratings_data[ratings_data['Book-Rating'].isin(counts[counts >= 100].index)]"
   ]
  },
  {
   "cell_type": "markdown",
   "metadata": {
    "id": "9oslen959Aiw"
   },
   "source": [
    "With the new ratings data we merge the Books data using pd.merge() and drop irrelavant columns"
   ]
  },
  {
   "cell_type": "code",
   "execution_count": 147,
   "metadata": {
    "execution": {
     "iopub.execute_input": "2021-07-17T04:24:43.806132Z",
     "iopub.status.busy": "2021-07-17T04:24:43.805833Z",
     "iopub.status.idle": "2021-07-17T04:24:44.468729Z",
     "shell.execute_reply": "2021-07-17T04:24:44.467658Z",
     "shell.execute_reply.started": "2021-07-17T04:24:43.806099Z"
    },
    "id": "U4Iq9Hzr9Aix"
   },
   "outputs": [],
   "source": [
    "merged_new = pd.merge(ratings_data,books,on='ISBN')\n",
    "columns = ['Year-Of-Publication', 'Publisher', 'Book-Author']\n",
    "merged_new = merged_new.drop(columns, axis=1)"
   ]
  },
  {
   "cell_type": "markdown",
   "metadata": {
    "id": "z2nyM2359Aix"
   },
   "source": [
    "Creating a DataFrame number_rating with count of number of times a book is being rated   \n",
    "[Using DataFrame.rename()](https://pandas.pydata.org/pandas-docs/stable/generated/pandas.DataFrame.rename.html) to rename columns"
   ]
  },
  {
   "cell_type": "code",
   "execution_count": 148,
   "metadata": {
    "execution": {
     "iopub.execute_input": "2021-07-17T04:24:44.470390Z",
     "iopub.status.busy": "2021-07-17T04:24:44.469994Z",
     "iopub.status.idle": "2021-07-17T04:24:44.976222Z",
     "shell.execute_reply": "2021-07-17T04:24:44.975374Z",
     "shell.execute_reply.started": "2021-07-17T04:24:44.470345Z"
    },
    "id": "uzkHbV_R9Aix",
    "outputId": "2c90cb69-bfc0-4eab-e794-34e46fbcf3ac"
   },
   "outputs": [
    {
     "data": {
      "text/html": [
       "<div>\n",
       "<style scoped>\n",
       "    .dataframe tbody tr th:only-of-type {\n",
       "        vertical-align: middle;\n",
       "    }\n",
       "\n",
       "    .dataframe tbody tr th {\n",
       "        vertical-align: top;\n",
       "    }\n",
       "\n",
       "    .dataframe thead th {\n",
       "        text-align: right;\n",
       "    }\n",
       "</style>\n",
       "<table border=\"1\" class=\"dataframe\">\n",
       "  <thead>\n",
       "    <tr style=\"text-align: right;\">\n",
       "      <th></th>\n",
       "      <th>Book-Title</th>\n",
       "      <th>number of rating</th>\n",
       "    </tr>\n",
       "  </thead>\n",
       "  <tbody>\n",
       "    <tr>\n",
       "      <th>0</th>\n",
       "      <td>A Light in the Storm: The Civil War Diary of ...</td>\n",
       "      <td>3</td>\n",
       "    </tr>\n",
       "    <tr>\n",
       "      <th>1</th>\n",
       "      <td>Always Have Popsicles</td>\n",
       "      <td>1</td>\n",
       "    </tr>\n",
       "    <tr>\n",
       "      <th>2</th>\n",
       "      <td>Apple Magic (The Collector's series)</td>\n",
       "      <td>1</td>\n",
       "    </tr>\n",
       "    <tr>\n",
       "      <th>3</th>\n",
       "      <td>Beyond IBM: Leadership Marketing and Finance ...</td>\n",
       "      <td>1</td>\n",
       "    </tr>\n",
       "    <tr>\n",
       "      <th>4</th>\n",
       "      <td>Clifford Visita El Hospital (Clifford El Gran...</td>\n",
       "      <td>1</td>\n",
       "    </tr>\n",
       "  </tbody>\n",
       "</table>\n",
       "</div>"
      ],
      "text/plain": [
       "                                          Book-Title  number of rating\n",
       "0   A Light in the Storm: The Civil War Diary of ...                 3\n",
       "1                              Always Have Popsicles                 1\n",
       "2               Apple Magic (The Collector's series)                 1\n",
       "3   Beyond IBM: Leadership Marketing and Finance ...                 1\n",
       "4   Clifford Visita El Hospital (Clifford El Gran...                 1"
      ]
     },
     "execution_count": 148,
     "metadata": {},
     "output_type": "execute_result"
    }
   ],
   "source": [
    "number_rating = merged_new.groupby('Book-Title')['Book-Rating'].count().reset_index()\n",
    "number_rating.rename(columns={'Book-Rating':'number of rating'},inplace=True)\n",
    "number_rating.head()"
   ]
  },
  {
   "cell_type": "markdown",
   "metadata": {
    "id": "ifFRuPO29Aiy"
   },
   "source": [
    "Creating final_ratings DataFrame for every bookTitle with bookRatings and number of ratings"
   ]
  },
  {
   "cell_type": "code",
   "execution_count": 149,
   "metadata": {
    "execution": {
     "iopub.execute_input": "2021-07-17T04:24:44.977604Z",
     "iopub.status.busy": "2021-07-17T04:24:44.977320Z",
     "iopub.status.idle": "2021-07-17T04:24:45.280800Z",
     "shell.execute_reply": "2021-07-17T04:24:45.279777Z",
     "shell.execute_reply.started": "2021-07-17T04:24:44.977577Z"
    },
    "id": "6L53ya1I9Aiy",
    "outputId": "6a5839f3-d22e-4ecc-d4ee-fe3e349b85ee"
   },
   "outputs": [
    {
     "data": {
      "text/html": [
       "<div>\n",
       "<style scoped>\n",
       "    .dataframe tbody tr th:only-of-type {\n",
       "        vertical-align: middle;\n",
       "    }\n",
       "\n",
       "    .dataframe tbody tr th {\n",
       "        vertical-align: top;\n",
       "    }\n",
       "\n",
       "    .dataframe thead th {\n",
       "        text-align: right;\n",
       "    }\n",
       "</style>\n",
       "<table border=\"1\" class=\"dataframe\">\n",
       "  <thead>\n",
       "    <tr style=\"text-align: right;\">\n",
       "      <th></th>\n",
       "      <th>User-ID</th>\n",
       "      <th>ISBN</th>\n",
       "      <th>Book-Rating</th>\n",
       "      <th>Book-Title</th>\n",
       "      <th>Image-URL-S</th>\n",
       "      <th>Image-URL-M</th>\n",
       "      <th>Image-URL-L</th>\n",
       "      <th>publisher</th>\n",
       "      <th>bookAuthor</th>\n",
       "      <th>number of rating</th>\n",
       "    </tr>\n",
       "  </thead>\n",
       "  <tbody>\n",
       "    <tr>\n",
       "      <th>0</th>\n",
       "      <td>277427</td>\n",
       "      <td>002542730X</td>\n",
       "      <td>10</td>\n",
       "      <td>Politically Correct Bedtime Stories: Modern Ta...</td>\n",
       "      <td>http://images.amazon.com/images/P/002542730X.0...</td>\n",
       "      <td>http://images.amazon.com/images/P/002542730X.0...</td>\n",
       "      <td>http://images.amazon.com/images/P/002542730X.0...</td>\n",
       "      <td>NaN</td>\n",
       "      <td>NaN</td>\n",
       "      <td>101</td>\n",
       "    </tr>\n",
       "    <tr>\n",
       "      <th>1</th>\n",
       "      <td>3363</td>\n",
       "      <td>002542730X</td>\n",
       "      <td>0</td>\n",
       "      <td>Politically Correct Bedtime Stories: Modern Ta...</td>\n",
       "      <td>http://images.amazon.com/images/P/002542730X.0...</td>\n",
       "      <td>http://images.amazon.com/images/P/002542730X.0...</td>\n",
       "      <td>http://images.amazon.com/images/P/002542730X.0...</td>\n",
       "      <td>NaN</td>\n",
       "      <td>NaN</td>\n",
       "      <td>101</td>\n",
       "    </tr>\n",
       "    <tr>\n",
       "      <th>2</th>\n",
       "      <td>10030</td>\n",
       "      <td>002542730X</td>\n",
       "      <td>7</td>\n",
       "      <td>Politically Correct Bedtime Stories: Modern Ta...</td>\n",
       "      <td>http://images.amazon.com/images/P/002542730X.0...</td>\n",
       "      <td>http://images.amazon.com/images/P/002542730X.0...</td>\n",
       "      <td>http://images.amazon.com/images/P/002542730X.0...</td>\n",
       "      <td>NaN</td>\n",
       "      <td>NaN</td>\n",
       "      <td>101</td>\n",
       "    </tr>\n",
       "    <tr>\n",
       "      <th>3</th>\n",
       "      <td>11676</td>\n",
       "      <td>002542730X</td>\n",
       "      <td>6</td>\n",
       "      <td>Politically Correct Bedtime Stories: Modern Ta...</td>\n",
       "      <td>http://images.amazon.com/images/P/002542730X.0...</td>\n",
       "      <td>http://images.amazon.com/images/P/002542730X.0...</td>\n",
       "      <td>http://images.amazon.com/images/P/002542730X.0...</td>\n",
       "      <td>NaN</td>\n",
       "      <td>NaN</td>\n",
       "      <td>101</td>\n",
       "    </tr>\n",
       "    <tr>\n",
       "      <th>4</th>\n",
       "      <td>12538</td>\n",
       "      <td>002542730X</td>\n",
       "      <td>10</td>\n",
       "      <td>Politically Correct Bedtime Stories: Modern Ta...</td>\n",
       "      <td>http://images.amazon.com/images/P/002542730X.0...</td>\n",
       "      <td>http://images.amazon.com/images/P/002542730X.0...</td>\n",
       "      <td>http://images.amazon.com/images/P/002542730X.0...</td>\n",
       "      <td>NaN</td>\n",
       "      <td>NaN</td>\n",
       "      <td>101</td>\n",
       "    </tr>\n",
       "  </tbody>\n",
       "</table>\n",
       "</div>"
      ],
      "text/plain": [
       "   User-ID        ISBN  Book-Rating  \\\n",
       "0   277427  002542730X           10   \n",
       "1     3363  002542730X            0   \n",
       "2    10030  002542730X            7   \n",
       "3    11676  002542730X            6   \n",
       "4    12538  002542730X           10   \n",
       "\n",
       "                                          Book-Title  \\\n",
       "0  Politically Correct Bedtime Stories: Modern Ta...   \n",
       "1  Politically Correct Bedtime Stories: Modern Ta...   \n",
       "2  Politically Correct Bedtime Stories: Modern Ta...   \n",
       "3  Politically Correct Bedtime Stories: Modern Ta...   \n",
       "4  Politically Correct Bedtime Stories: Modern Ta...   \n",
       "\n",
       "                                         Image-URL-S  \\\n",
       "0  http://images.amazon.com/images/P/002542730X.0...   \n",
       "1  http://images.amazon.com/images/P/002542730X.0...   \n",
       "2  http://images.amazon.com/images/P/002542730X.0...   \n",
       "3  http://images.amazon.com/images/P/002542730X.0...   \n",
       "4  http://images.amazon.com/images/P/002542730X.0...   \n",
       "\n",
       "                                         Image-URL-M  \\\n",
       "0  http://images.amazon.com/images/P/002542730X.0...   \n",
       "1  http://images.amazon.com/images/P/002542730X.0...   \n",
       "2  http://images.amazon.com/images/P/002542730X.0...   \n",
       "3  http://images.amazon.com/images/P/002542730X.0...   \n",
       "4  http://images.amazon.com/images/P/002542730X.0...   \n",
       "\n",
       "                                         Image-URL-L publisher bookAuthor  \\\n",
       "0  http://images.amazon.com/images/P/002542730X.0...       NaN        NaN   \n",
       "1  http://images.amazon.com/images/P/002542730X.0...       NaN        NaN   \n",
       "2  http://images.amazon.com/images/P/002542730X.0...       NaN        NaN   \n",
       "3  http://images.amazon.com/images/P/002542730X.0...       NaN        NaN   \n",
       "4  http://images.amazon.com/images/P/002542730X.0...       NaN        NaN   \n",
       "\n",
       "   number of rating  \n",
       "0               101  \n",
       "1               101  \n",
       "2               101  \n",
       "3               101  \n",
       "4               101  "
      ]
     },
     "execution_count": 149,
     "metadata": {},
     "output_type": "execute_result"
    }
   ],
   "source": [
    "final_ratings = merged_new.merge(number_rating,on='Book-Title') \n",
    "final_ratings.head()"
   ]
  },
  {
   "cell_type": "markdown",
   "metadata": {
    "id": "toAnGBps9Aiy"
   },
   "source": [
    "We consider those book who have been rated more than 30 times"
   ]
  },
  {
   "cell_type": "code",
   "execution_count": 150,
   "metadata": {
    "execution": {
     "iopub.execute_input": "2021-07-17T04:24:45.282609Z",
     "iopub.status.busy": "2021-07-17T04:24:45.282197Z",
     "iopub.status.idle": "2021-07-17T04:24:45.350785Z",
     "shell.execute_reply": "2021-07-17T04:24:45.349859Z",
     "shell.execute_reply.started": "2021-07-17T04:24:45.282572Z"
    },
    "id": "SeGhjZ6F9Aiz"
   },
   "outputs": [],
   "source": [
    "final_ratings = final_ratings[final_ratings['number of rating']>=30] "
   ]
  },
  {
   "cell_type": "markdown",
   "metadata": {
    "id": "uE0yRPya9Aiz"
   },
   "source": [
    "Droping duplicate records from final_ratings using [DataFrame.drop_duplicates()](https://pandas.pydata.org/docs/reference/api/pandas.DataFrame.drop_duplicates.html) and checking the change of DataFrame size"
   ]
  },
  {
   "cell_type": "code",
   "execution_count": 151,
   "metadata": {
    "execution": {
     "iopub.execute_input": "2021-07-17T04:24:45.352375Z",
     "iopub.status.busy": "2021-07-17T04:24:45.352094Z",
     "iopub.status.idle": "2021-07-17T04:24:45.389274Z",
     "shell.execute_reply": "2021-07-17T04:24:45.388177Z",
     "shell.execute_reply.started": "2021-07-17T04:24:45.352334Z"
    },
    "id": "QrUoAh-g9Aiz",
    "outputId": "f302ac00-82d4-46fb-d105-7be01af26f2f"
   },
   "outputs": [
    {
     "name": "stdout",
     "output_type": "stream",
     "text": [
      "Shape Before :(145111, 10)\n",
      "Shape After  :(142011, 10)\n"
     ]
    }
   ],
   "source": [
    "print(\"Shape Before :\" + str(final_ratings.shape))\n",
    "final_ratings.drop_duplicates(['User-ID','Book-Title'],inplace=True)\n",
    "print(\"Shape After  :\" + str(final_ratings.shape))"
   ]
  },
  {
   "cell_type": "markdown",
   "metadata": {
    "id": "SjYANdyh9Ai0"
   },
   "source": [
    "Creating  a pivot table for final_ratings dataframe with columns as userId and index as bookTitle with values as bookRatings with the help of [DataFrame.pivot_table()](https://pandas.pydata.org/pandas-docs/stable/reference/api/pandas.DataFrame.pivot_table.html)"
   ]
  },
  {
   "cell_type": "code",
   "execution_count": 152,
   "metadata": {
    "execution": {
     "iopub.execute_input": "2021-07-17T04:24:45.391013Z",
     "iopub.status.busy": "2021-07-17T04:24:45.390618Z",
     "iopub.status.idle": "2021-07-17T04:24:45.550898Z",
     "shell.execute_reply": "2021-07-17T04:24:45.549761Z",
     "shell.execute_reply.started": "2021-07-17T04:24:45.390970Z"
    },
    "id": "dhPWzWTw9Ai0",
    "outputId": "311c329d-4c6c-4285-8522-213bfc8e3f50"
   },
   "outputs": [
    {
     "data": {
      "text/plain": [
       "(2324, 1652)"
      ]
     },
     "execution_count": 152,
     "metadata": {},
     "output_type": "execute_result"
    }
   ],
   "source": [
    "book_pivot = final_ratings.pivot_table(columns='User-ID',index='Book-Title',values='Book-Rating')\n",
    "book_pivot.shape"
   ]
  },
  {
   "cell_type": "markdown",
   "metadata": {
    "id": "9vtOISqc9Ai0"
   },
   "source": [
    "Filling the NAN values with zeros"
   ]
  },
  {
   "cell_type": "code",
   "execution_count": 153,
   "metadata": {
    "execution": {
     "iopub.execute_input": "2021-07-17T04:24:45.553008Z",
     "iopub.status.busy": "2021-07-17T04:24:45.552580Z",
     "iopub.status.idle": "2021-07-17T04:24:45.658609Z",
     "shell.execute_reply": "2021-07-17T04:24:45.657449Z",
     "shell.execute_reply.started": "2021-07-17T04:24:45.552960Z"
    },
    "id": "nOePpzlL9Ai1",
    "outputId": "4969ff87-5084-4556-f18c-68ca22ded17f"
   },
   "outputs": [
    {
     "data": {
      "text/html": [
       "<div>\n",
       "<style scoped>\n",
       "    .dataframe tbody tr th:only-of-type {\n",
       "        vertical-align: middle;\n",
       "    }\n",
       "\n",
       "    .dataframe tbody tr th {\n",
       "        vertical-align: top;\n",
       "    }\n",
       "\n",
       "    .dataframe thead th {\n",
       "        text-align: right;\n",
       "    }\n",
       "</style>\n",
       "<table border=\"1\" class=\"dataframe\">\n",
       "  <thead>\n",
       "    <tr style=\"text-align: right;\">\n",
       "      <th>User-ID</th>\n",
       "      <th>254</th>\n",
       "      <th>507</th>\n",
       "      <th>882</th>\n",
       "      <th>1424</th>\n",
       "      <th>1435</th>\n",
       "      <th>1733</th>\n",
       "      <th>1903</th>\n",
       "      <th>2033</th>\n",
       "      <th>2110</th>\n",
       "      <th>2276</th>\n",
       "      <th>...</th>\n",
       "      <th>275020</th>\n",
       "      <th>275970</th>\n",
       "      <th>276463</th>\n",
       "      <th>276680</th>\n",
       "      <th>277427</th>\n",
       "      <th>277478</th>\n",
       "      <th>277639</th>\n",
       "      <th>278137</th>\n",
       "      <th>278188</th>\n",
       "      <th>278418</th>\n",
       "    </tr>\n",
       "    <tr>\n",
       "      <th>Book-Title</th>\n",
       "      <th></th>\n",
       "      <th></th>\n",
       "      <th></th>\n",
       "      <th></th>\n",
       "      <th></th>\n",
       "      <th></th>\n",
       "      <th></th>\n",
       "      <th></th>\n",
       "      <th></th>\n",
       "      <th></th>\n",
       "      <th></th>\n",
       "      <th></th>\n",
       "      <th></th>\n",
       "      <th></th>\n",
       "      <th></th>\n",
       "      <th></th>\n",
       "      <th></th>\n",
       "      <th></th>\n",
       "      <th></th>\n",
       "      <th></th>\n",
       "      <th></th>\n",
       "    </tr>\n",
       "  </thead>\n",
       "  <tbody>\n",
       "    <tr>\n",
       "      <th>10 Lb. Penalty</th>\n",
       "      <td>0.0</td>\n",
       "      <td>0.0</td>\n",
       "      <td>0.0</td>\n",
       "      <td>0.0</td>\n",
       "      <td>0.0</td>\n",
       "      <td>0.0</td>\n",
       "      <td>0.0</td>\n",
       "      <td>0.0</td>\n",
       "      <td>0.0</td>\n",
       "      <td>0.0</td>\n",
       "      <td>...</td>\n",
       "      <td>0.0</td>\n",
       "      <td>0.0</td>\n",
       "      <td>0.0</td>\n",
       "      <td>0.0</td>\n",
       "      <td>0.0</td>\n",
       "      <td>0.0</td>\n",
       "      <td>0.0</td>\n",
       "      <td>0.0</td>\n",
       "      <td>0.0</td>\n",
       "      <td>0.0</td>\n",
       "    </tr>\n",
       "    <tr>\n",
       "      <th>16 Lighthouse Road</th>\n",
       "      <td>0.0</td>\n",
       "      <td>0.0</td>\n",
       "      <td>0.0</td>\n",
       "      <td>0.0</td>\n",
       "      <td>0.0</td>\n",
       "      <td>0.0</td>\n",
       "      <td>0.0</td>\n",
       "      <td>0.0</td>\n",
       "      <td>0.0</td>\n",
       "      <td>0.0</td>\n",
       "      <td>...</td>\n",
       "      <td>0.0</td>\n",
       "      <td>0.0</td>\n",
       "      <td>0.0</td>\n",
       "      <td>0.0</td>\n",
       "      <td>0.0</td>\n",
       "      <td>0.0</td>\n",
       "      <td>0.0</td>\n",
       "      <td>0.0</td>\n",
       "      <td>0.0</td>\n",
       "      <td>0.0</td>\n",
       "    </tr>\n",
       "    <tr>\n",
       "      <th>1984</th>\n",
       "      <td>9.0</td>\n",
       "      <td>0.0</td>\n",
       "      <td>0.0</td>\n",
       "      <td>0.0</td>\n",
       "      <td>0.0</td>\n",
       "      <td>0.0</td>\n",
       "      <td>0.0</td>\n",
       "      <td>0.0</td>\n",
       "      <td>0.0</td>\n",
       "      <td>0.0</td>\n",
       "      <td>...</td>\n",
       "      <td>0.0</td>\n",
       "      <td>0.0</td>\n",
       "      <td>0.0</td>\n",
       "      <td>0.0</td>\n",
       "      <td>0.0</td>\n",
       "      <td>0.0</td>\n",
       "      <td>0.0</td>\n",
       "      <td>0.0</td>\n",
       "      <td>0.0</td>\n",
       "      <td>0.0</td>\n",
       "    </tr>\n",
       "    <tr>\n",
       "      <th>1st to Die: A Novel</th>\n",
       "      <td>0.0</td>\n",
       "      <td>0.0</td>\n",
       "      <td>0.0</td>\n",
       "      <td>0.0</td>\n",
       "      <td>0.0</td>\n",
       "      <td>0.0</td>\n",
       "      <td>0.0</td>\n",
       "      <td>0.0</td>\n",
       "      <td>0.0</td>\n",
       "      <td>0.0</td>\n",
       "      <td>...</td>\n",
       "      <td>0.0</td>\n",
       "      <td>0.0</td>\n",
       "      <td>0.0</td>\n",
       "      <td>0.0</td>\n",
       "      <td>0.0</td>\n",
       "      <td>0.0</td>\n",
       "      <td>0.0</td>\n",
       "      <td>0.0</td>\n",
       "      <td>0.0</td>\n",
       "      <td>0.0</td>\n",
       "    </tr>\n",
       "    <tr>\n",
       "      <th>2010: Odyssey Two</th>\n",
       "      <td>0.0</td>\n",
       "      <td>0.0</td>\n",
       "      <td>0.0</td>\n",
       "      <td>0.0</td>\n",
       "      <td>0.0</td>\n",
       "      <td>0.0</td>\n",
       "      <td>0.0</td>\n",
       "      <td>0.0</td>\n",
       "      <td>0.0</td>\n",
       "      <td>0.0</td>\n",
       "      <td>...</td>\n",
       "      <td>0.0</td>\n",
       "      <td>0.0</td>\n",
       "      <td>0.0</td>\n",
       "      <td>0.0</td>\n",
       "      <td>0.0</td>\n",
       "      <td>0.0</td>\n",
       "      <td>0.0</td>\n",
       "      <td>0.0</td>\n",
       "      <td>0.0</td>\n",
       "      <td>0.0</td>\n",
       "    </tr>\n",
       "    <tr>\n",
       "      <th>...</th>\n",
       "      <td>...</td>\n",
       "      <td>...</td>\n",
       "      <td>...</td>\n",
       "      <td>...</td>\n",
       "      <td>...</td>\n",
       "      <td>...</td>\n",
       "      <td>...</td>\n",
       "      <td>...</td>\n",
       "      <td>...</td>\n",
       "      <td>...</td>\n",
       "      <td>...</td>\n",
       "      <td>...</td>\n",
       "      <td>...</td>\n",
       "      <td>...</td>\n",
       "      <td>...</td>\n",
       "      <td>...</td>\n",
       "      <td>...</td>\n",
       "      <td>...</td>\n",
       "      <td>...</td>\n",
       "      <td>...</td>\n",
       "      <td>...</td>\n",
       "    </tr>\n",
       "    <tr>\n",
       "      <th>You Belong to Me and Other True Cases (Ann Rule's Crime Files: Vol. 2)</th>\n",
       "      <td>0.0</td>\n",
       "      <td>0.0</td>\n",
       "      <td>0.0</td>\n",
       "      <td>0.0</td>\n",
       "      <td>0.0</td>\n",
       "      <td>0.0</td>\n",
       "      <td>0.0</td>\n",
       "      <td>0.0</td>\n",
       "      <td>0.0</td>\n",
       "      <td>0.0</td>\n",
       "      <td>...</td>\n",
       "      <td>0.0</td>\n",
       "      <td>0.0</td>\n",
       "      <td>0.0</td>\n",
       "      <td>0.0</td>\n",
       "      <td>0.0</td>\n",
       "      <td>0.0</td>\n",
       "      <td>0.0</td>\n",
       "      <td>0.0</td>\n",
       "      <td>0.0</td>\n",
       "      <td>0.0</td>\n",
       "    </tr>\n",
       "    <tr>\n",
       "      <th>Zen and the Art of Motorcycle Maintenance: An Inquiry into Values</th>\n",
       "      <td>0.0</td>\n",
       "      <td>0.0</td>\n",
       "      <td>0.0</td>\n",
       "      <td>0.0</td>\n",
       "      <td>0.0</td>\n",
       "      <td>0.0</td>\n",
       "      <td>0.0</td>\n",
       "      <td>0.0</td>\n",
       "      <td>0.0</td>\n",
       "      <td>0.0</td>\n",
       "      <td>...</td>\n",
       "      <td>0.0</td>\n",
       "      <td>0.0</td>\n",
       "      <td>0.0</td>\n",
       "      <td>0.0</td>\n",
       "      <td>0.0</td>\n",
       "      <td>0.0</td>\n",
       "      <td>0.0</td>\n",
       "      <td>0.0</td>\n",
       "      <td>0.0</td>\n",
       "      <td>0.0</td>\n",
       "    </tr>\n",
       "    <tr>\n",
       "      <th>Zlata's Diary: A Child's Life in Sarajevo</th>\n",
       "      <td>0.0</td>\n",
       "      <td>0.0</td>\n",
       "      <td>0.0</td>\n",
       "      <td>0.0</td>\n",
       "      <td>0.0</td>\n",
       "      <td>0.0</td>\n",
       "      <td>0.0</td>\n",
       "      <td>0.0</td>\n",
       "      <td>0.0</td>\n",
       "      <td>0.0</td>\n",
       "      <td>...</td>\n",
       "      <td>0.0</td>\n",
       "      <td>0.0</td>\n",
       "      <td>0.0</td>\n",
       "      <td>0.0</td>\n",
       "      <td>0.0</td>\n",
       "      <td>0.0</td>\n",
       "      <td>0.0</td>\n",
       "      <td>0.0</td>\n",
       "      <td>0.0</td>\n",
       "      <td>0.0</td>\n",
       "    </tr>\n",
       "    <tr>\n",
       "      <th>Zoya</th>\n",
       "      <td>0.0</td>\n",
       "      <td>0.0</td>\n",
       "      <td>0.0</td>\n",
       "      <td>0.0</td>\n",
       "      <td>0.0</td>\n",
       "      <td>0.0</td>\n",
       "      <td>0.0</td>\n",
       "      <td>0.0</td>\n",
       "      <td>0.0</td>\n",
       "      <td>0.0</td>\n",
       "      <td>...</td>\n",
       "      <td>0.0</td>\n",
       "      <td>0.0</td>\n",
       "      <td>0.0</td>\n",
       "      <td>0.0</td>\n",
       "      <td>0.0</td>\n",
       "      <td>0.0</td>\n",
       "      <td>0.0</td>\n",
       "      <td>0.0</td>\n",
       "      <td>0.0</td>\n",
       "      <td>0.0</td>\n",
       "    </tr>\n",
       "    <tr>\n",
       "      <th>\\O\\\" Is for Outlaw\"</th>\n",
       "      <td>0.0</td>\n",
       "      <td>0.0</td>\n",
       "      <td>0.0</td>\n",
       "      <td>0.0</td>\n",
       "      <td>0.0</td>\n",
       "      <td>0.0</td>\n",
       "      <td>0.0</td>\n",
       "      <td>0.0</td>\n",
       "      <td>0.0</td>\n",
       "      <td>0.0</td>\n",
       "      <td>...</td>\n",
       "      <td>0.0</td>\n",
       "      <td>0.0</td>\n",
       "      <td>0.0</td>\n",
       "      <td>0.0</td>\n",
       "      <td>0.0</td>\n",
       "      <td>0.0</td>\n",
       "      <td>0.0</td>\n",
       "      <td>0.0</td>\n",
       "      <td>0.0</td>\n",
       "      <td>0.0</td>\n",
       "    </tr>\n",
       "  </tbody>\n",
       "</table>\n",
       "<p>2324 rows × 1652 columns</p>\n",
       "</div>"
      ],
      "text/plain": [
       "User-ID                                             254     507     882     \\\n",
       "Book-Title                                                                   \n",
       "10 Lb. Penalty                                         0.0     0.0     0.0   \n",
       "16 Lighthouse Road                                     0.0     0.0     0.0   \n",
       "1984                                                   9.0     0.0     0.0   \n",
       "1st to Die: A Novel                                    0.0     0.0     0.0   \n",
       "2010: Odyssey Two                                      0.0     0.0     0.0   \n",
       "...                                                    ...     ...     ...   \n",
       "You Belong to Me and Other True Cases (Ann Rule...     0.0     0.0     0.0   \n",
       "Zen and the Art of Motorcycle Maintenance: An I...     0.0     0.0     0.0   \n",
       "Zlata's Diary: A Child's Life in Sarajevo              0.0     0.0     0.0   \n",
       "Zoya                                                   0.0     0.0     0.0   \n",
       "\\O\\\" Is for Outlaw\"                                    0.0     0.0     0.0   \n",
       "\n",
       "User-ID                                             1424    1435    1733    \\\n",
       "Book-Title                                                                   \n",
       "10 Lb. Penalty                                         0.0     0.0     0.0   \n",
       "16 Lighthouse Road                                     0.0     0.0     0.0   \n",
       "1984                                                   0.0     0.0     0.0   \n",
       "1st to Die: A Novel                                    0.0     0.0     0.0   \n",
       "2010: Odyssey Two                                      0.0     0.0     0.0   \n",
       "...                                                    ...     ...     ...   \n",
       "You Belong to Me and Other True Cases (Ann Rule...     0.0     0.0     0.0   \n",
       "Zen and the Art of Motorcycle Maintenance: An I...     0.0     0.0     0.0   \n",
       "Zlata's Diary: A Child's Life in Sarajevo              0.0     0.0     0.0   \n",
       "Zoya                                                   0.0     0.0     0.0   \n",
       "\\O\\\" Is for Outlaw\"                                    0.0     0.0     0.0   \n",
       "\n",
       "User-ID                                             1903    2033    2110    \\\n",
       "Book-Title                                                                   \n",
       "10 Lb. Penalty                                         0.0     0.0     0.0   \n",
       "16 Lighthouse Road                                     0.0     0.0     0.0   \n",
       "1984                                                   0.0     0.0     0.0   \n",
       "1st to Die: A Novel                                    0.0     0.0     0.0   \n",
       "2010: Odyssey Two                                      0.0     0.0     0.0   \n",
       "...                                                    ...     ...     ...   \n",
       "You Belong to Me and Other True Cases (Ann Rule...     0.0     0.0     0.0   \n",
       "Zen and the Art of Motorcycle Maintenance: An I...     0.0     0.0     0.0   \n",
       "Zlata's Diary: A Child's Life in Sarajevo              0.0     0.0     0.0   \n",
       "Zoya                                                   0.0     0.0     0.0   \n",
       "\\O\\\" Is for Outlaw\"                                    0.0     0.0     0.0   \n",
       "\n",
       "User-ID                                             2276    ...  275020  \\\n",
       "Book-Title                                                  ...           \n",
       "10 Lb. Penalty                                         0.0  ...     0.0   \n",
       "16 Lighthouse Road                                     0.0  ...     0.0   \n",
       "1984                                                   0.0  ...     0.0   \n",
       "1st to Die: A Novel                                    0.0  ...     0.0   \n",
       "2010: Odyssey Two                                      0.0  ...     0.0   \n",
       "...                                                    ...  ...     ...   \n",
       "You Belong to Me and Other True Cases (Ann Rule...     0.0  ...     0.0   \n",
       "Zen and the Art of Motorcycle Maintenance: An I...     0.0  ...     0.0   \n",
       "Zlata's Diary: A Child's Life in Sarajevo              0.0  ...     0.0   \n",
       "Zoya                                                   0.0  ...     0.0   \n",
       "\\O\\\" Is for Outlaw\"                                    0.0  ...     0.0   \n",
       "\n",
       "User-ID                                             275970  276463  276680  \\\n",
       "Book-Title                                                                   \n",
       "10 Lb. Penalty                                         0.0     0.0     0.0   \n",
       "16 Lighthouse Road                                     0.0     0.0     0.0   \n",
       "1984                                                   0.0     0.0     0.0   \n",
       "1st to Die: A Novel                                    0.0     0.0     0.0   \n",
       "2010: Odyssey Two                                      0.0     0.0     0.0   \n",
       "...                                                    ...     ...     ...   \n",
       "You Belong to Me and Other True Cases (Ann Rule...     0.0     0.0     0.0   \n",
       "Zen and the Art of Motorcycle Maintenance: An I...     0.0     0.0     0.0   \n",
       "Zlata's Diary: A Child's Life in Sarajevo              0.0     0.0     0.0   \n",
       "Zoya                                                   0.0     0.0     0.0   \n",
       "\\O\\\" Is for Outlaw\"                                    0.0     0.0     0.0   \n",
       "\n",
       "User-ID                                             277427  277478  277639  \\\n",
       "Book-Title                                                                   \n",
       "10 Lb. Penalty                                         0.0     0.0     0.0   \n",
       "16 Lighthouse Road                                     0.0     0.0     0.0   \n",
       "1984                                                   0.0     0.0     0.0   \n",
       "1st to Die: A Novel                                    0.0     0.0     0.0   \n",
       "2010: Odyssey Two                                      0.0     0.0     0.0   \n",
       "...                                                    ...     ...     ...   \n",
       "You Belong to Me and Other True Cases (Ann Rule...     0.0     0.0     0.0   \n",
       "Zen and the Art of Motorcycle Maintenance: An I...     0.0     0.0     0.0   \n",
       "Zlata's Diary: A Child's Life in Sarajevo              0.0     0.0     0.0   \n",
       "Zoya                                                   0.0     0.0     0.0   \n",
       "\\O\\\" Is for Outlaw\"                                    0.0     0.0     0.0   \n",
       "\n",
       "User-ID                                             278137  278188  278418  \n",
       "Book-Title                                                                  \n",
       "10 Lb. Penalty                                         0.0     0.0     0.0  \n",
       "16 Lighthouse Road                                     0.0     0.0     0.0  \n",
       "1984                                                   0.0     0.0     0.0  \n",
       "1st to Die: A Novel                                    0.0     0.0     0.0  \n",
       "2010: Odyssey Two                                      0.0     0.0     0.0  \n",
       "...                                                    ...     ...     ...  \n",
       "You Belong to Me and Other True Cases (Ann Rule...     0.0     0.0     0.0  \n",
       "Zen and the Art of Motorcycle Maintenance: An I...     0.0     0.0     0.0  \n",
       "Zlata's Diary: A Child's Life in Sarajevo              0.0     0.0     0.0  \n",
       "Zoya                                                   0.0     0.0     0.0  \n",
       "\\O\\\" Is for Outlaw\"                                    0.0     0.0     0.0  \n",
       "\n",
       "[2324 rows x 1652 columns]"
      ]
     },
     "execution_count": 153,
     "metadata": {},
     "output_type": "execute_result"
    }
   ],
   "source": [
    "book_pivot.fillna(0,inplace=True)\n",
    "book_pivot"
   ]
  },
  {
   "cell_type": "markdown",
   "metadata": {
    "id": "12Vf1nJJ9Ai1"
   },
   "source": [
    "# 6. Machine Learning Modelling and Output"
   ]
  },
  {
   "cell_type": "markdown",
   "metadata": {
    "id": "TvCnm3ZQ9Ai1"
   },
   "source": [
    "Using [scipy](https://www.scipy.org/) library's [compressed sparse row matrix](https://docs.scipy.org/doc/scipy/reference/generated/scipy.sparse.csr_matrix.html) to create sparse book matrix with book_pivot as input   \n",
    "We then use this sparse matrix to provide an input to the scikit-learn's [NearestNeighbors model](https://scikit-learn.org/stable/modules/generated/sklearn.neighbors.NearestNeighbors.html#sklearn.neighbors.NearestNeighbors) with [brute algorithm](https://www.kdnuggets.com/2020/10/exploring-brute-force-nearest-neighbors-algorithm.html) and [metric cosine](https://www.machinelearningplus.com/nlp/cosine-similarity/)."
   ]
  },
  {
   "cell_type": "code",
   "execution_count": 154,
   "metadata": {
    "execution": {
     "iopub.execute_input": "2021-07-17T04:24:45.660039Z",
     "iopub.status.busy": "2021-07-17T04:24:45.659756Z",
     "iopub.status.idle": "2021-07-17T04:24:45.698952Z",
     "shell.execute_reply": "2021-07-17T04:24:45.697872Z",
     "shell.execute_reply.started": "2021-07-17T04:24:45.660011Z"
    },
    "id": "lzeBpBXz9Ai2",
    "outputId": "8dd3d86c-ccc9-4279-ec41-15a40003a63f"
   },
   "outputs": [
    {
     "data": {
      "text/html": [
       "<style>#sk-container-id-1 {color: black;}#sk-container-id-1 pre{padding: 0;}#sk-container-id-1 div.sk-toggleable {background-color: white;}#sk-container-id-1 label.sk-toggleable__label {cursor: pointer;display: block;width: 100%;margin-bottom: 0;padding: 0.3em;box-sizing: border-box;text-align: center;}#sk-container-id-1 label.sk-toggleable__label-arrow:before {content: \"▸\";float: left;margin-right: 0.25em;color: #696969;}#sk-container-id-1 label.sk-toggleable__label-arrow:hover:before {color: black;}#sk-container-id-1 div.sk-estimator:hover label.sk-toggleable__label-arrow:before {color: black;}#sk-container-id-1 div.sk-toggleable__content {max-height: 0;max-width: 0;overflow: hidden;text-align: left;background-color: #f0f8ff;}#sk-container-id-1 div.sk-toggleable__content pre {margin: 0.2em;color: black;border-radius: 0.25em;background-color: #f0f8ff;}#sk-container-id-1 input.sk-toggleable__control:checked~div.sk-toggleable__content {max-height: 200px;max-width: 100%;overflow: auto;}#sk-container-id-1 input.sk-toggleable__control:checked~label.sk-toggleable__label-arrow:before {content: \"▾\";}#sk-container-id-1 div.sk-estimator input.sk-toggleable__control:checked~label.sk-toggleable__label {background-color: #d4ebff;}#sk-container-id-1 div.sk-label input.sk-toggleable__control:checked~label.sk-toggleable__label {background-color: #d4ebff;}#sk-container-id-1 input.sk-hidden--visually {border: 0;clip: rect(1px 1px 1px 1px);clip: rect(1px, 1px, 1px, 1px);height: 1px;margin: -1px;overflow: hidden;padding: 0;position: absolute;width: 1px;}#sk-container-id-1 div.sk-estimator {font-family: monospace;background-color: #f0f8ff;border: 1px dotted black;border-radius: 0.25em;box-sizing: border-box;margin-bottom: 0.5em;}#sk-container-id-1 div.sk-estimator:hover {background-color: #d4ebff;}#sk-container-id-1 div.sk-parallel-item::after {content: \"\";width: 100%;border-bottom: 1px solid gray;flex-grow: 1;}#sk-container-id-1 div.sk-label:hover label.sk-toggleable__label {background-color: #d4ebff;}#sk-container-id-1 div.sk-serial::before {content: \"\";position: absolute;border-left: 1px solid gray;box-sizing: border-box;top: 0;bottom: 0;left: 50%;z-index: 0;}#sk-container-id-1 div.sk-serial {display: flex;flex-direction: column;align-items: center;background-color: white;padding-right: 0.2em;padding-left: 0.2em;position: relative;}#sk-container-id-1 div.sk-item {position: relative;z-index: 1;}#sk-container-id-1 div.sk-parallel {display: flex;align-items: stretch;justify-content: center;background-color: white;position: relative;}#sk-container-id-1 div.sk-item::before, #sk-container-id-1 div.sk-parallel-item::before {content: \"\";position: absolute;border-left: 1px solid gray;box-sizing: border-box;top: 0;bottom: 0;left: 50%;z-index: -1;}#sk-container-id-1 div.sk-parallel-item {display: flex;flex-direction: column;z-index: 1;position: relative;background-color: white;}#sk-container-id-1 div.sk-parallel-item:first-child::after {align-self: flex-end;width: 50%;}#sk-container-id-1 div.sk-parallel-item:last-child::after {align-self: flex-start;width: 50%;}#sk-container-id-1 div.sk-parallel-item:only-child::after {width: 0;}#sk-container-id-1 div.sk-dashed-wrapped {border: 1px dashed gray;margin: 0 0.4em 0.5em 0.4em;box-sizing: border-box;padding-bottom: 0.4em;background-color: white;}#sk-container-id-1 div.sk-label label {font-family: monospace;font-weight: bold;display: inline-block;line-height: 1.2em;}#sk-container-id-1 div.sk-label-container {text-align: center;}#sk-container-id-1 div.sk-container {/* jupyter's `normalize.less` sets `[hidden] { display: none; }` but bootstrap.min.css set `[hidden] { display: none !important; }` so we also need the `!important` here to be able to override the default hidden behavior on the sphinx rendered scikit-learn.org. See: https://github.com/scikit-learn/scikit-learn/issues/21755 */display: inline-block !important;position: relative;}#sk-container-id-1 div.sk-text-repr-fallback {display: none;}</style><div id=\"sk-container-id-1\" class=\"sk-top-container\"><div class=\"sk-text-repr-fallback\"><pre>NearestNeighbors(algorithm=&#x27;brute&#x27;, metric=&#x27;cosine&#x27;)</pre><b>In a Jupyter environment, please rerun this cell to show the HTML representation or trust the notebook. <br />On GitHub, the HTML representation is unable to render, please try loading this page with nbviewer.org.</b></div><div class=\"sk-container\" hidden><div class=\"sk-item\"><div class=\"sk-estimator sk-toggleable\"><input class=\"sk-toggleable__control sk-hidden--visually\" id=\"sk-estimator-id-1\" type=\"checkbox\" checked><label for=\"sk-estimator-id-1\" class=\"sk-toggleable__label sk-toggleable__label-arrow\">NearestNeighbors</label><div class=\"sk-toggleable__content\"><pre>NearestNeighbors(algorithm=&#x27;brute&#x27;, metric=&#x27;cosine&#x27;)</pre></div></div></div></div></div>"
      ],
      "text/plain": [
       "NearestNeighbors(algorithm='brute', metric='cosine')"
      ]
     },
     "execution_count": 154,
     "metadata": {},
     "output_type": "execute_result"
    }
   ],
   "source": [
    "book_sparse=csr_matrix(book_pivot)\n",
    "model=NearestNeighbors(metric='cosine',algorithm='brute')\n",
    "model.fit(book_sparse)"
   ]
  },
  {
   "cell_type": "markdown",
   "metadata": {
    "id": "gbSjuoKD9Ai2"
   },
   "source": [
    "Creating a function which will recommend 10 new books for the book you read according to the suggestions provided the model"
   ]
  },
  {
   "cell_type": "code",
   "execution_count": 155,
   "metadata": {
    "execution": {
     "iopub.execute_input": "2021-07-17T04:24:45.700598Z",
     "iopub.status.busy": "2021-07-17T04:24:45.700266Z",
     "iopub.status.idle": "2021-07-17T04:24:45.713604Z",
     "shell.execute_reply": "2021-07-17T04:24:45.712523Z",
     "shell.execute_reply.started": "2021-07-17T04:24:45.700562Z"
    },
    "id": "LU3yaCR59Ai2",
    "outputId": "51bfb98d-9b30-4983-eeb1-29bdc1709288"
   },
   "outputs": [
    {
     "name": "stdout",
     "output_type": "stream",
     "text": [
      "The suggestions for  The Sum of All Fears (Jack Ryan Novels) are : \n",
      "1: Executive Orders (Jack Ryan Novels)\n",
      "2: Clear and Present Danger (Jack Ryan Novels)\n",
      "3: The Road to Omaha\n",
      "4: Debt of Honor (Jack Ryan Novels)\n",
      "5: Critical Mass\n",
      "6: Ruthless.Com (Tom Clancy's Power Plays (Paperback))\n",
      "7: Without Remorse\n",
      "8: The Charm School\n",
      "9: Fault Lines\n",
      "10: The Postman (Bantam Classics)\n"
     ]
    }
   ],
   "source": [
    "def recommend(book_name):\n",
    "    book_id = np.where(book_pivot.index==book_name)[0][0]\n",
    "    distances,suggestions=model.kneighbors(book_pivot.iloc[book_id,:].values.reshape(1,-1),n_neighbors = 11)\n",
    "    \n",
    "    \n",
    "    books=[]\n",
    "    for i in range(len(suggestions)):\n",
    "        if i==0:\n",
    "            print(\"The suggestions for \",book_name,\"are : \")\n",
    "        if not i:\n",
    "            books = book_pivot.index[suggestions[i]]\n",
    "    for i in range(1,len(books)):\n",
    "         print(str(i) + \": \" + books[i] )       \n",
    "                \n",
    "            \n",
    "recommend('The Sum of All Fears (Jack Ryan Novels)')"
   ]
  },
  {
   "cell_type": "code",
   "execution_count": 156,
   "metadata": {},
   "outputs": [
    {
     "name": "stdout",
     "output_type": "stream",
     "text": [
      "The suggestions for  The Da Vinci Code are : \n",
      "1: Angels &amp; Demons\n",
      "2: Middlesex: A Novel\n",
      "3: The Blue Nowhere : A Novel\n",
      "4: Deception Point\n",
      "5: The Lovely Bones: A Novel\n",
      "6: Digital Fortress : A Thriller\n",
      "7: Touching Evil\n",
      "8: TickTock\n",
      "9: No Second  Chance\n",
      "10: Mystic River\n"
     ]
    }
   ],
   "source": [
    "recommend(\"The Da Vinci Code\")"
   ]
  },
  {
   "cell_type": "code",
   "execution_count": null,
   "metadata": {},
   "outputs": [],
   "source": []
  }
 ],
 "metadata": {
  "colab": {
   "name": "book-recommendation-with-data-analysis.ipynb",
   "provenance": []
  },
  "kernelspec": {
   "display_name": "Python 3 (ipykernel)",
   "language": "python",
   "name": "python3"
  },
  "language_info": {
   "codemirror_mode": {
    "name": "ipython",
    "version": 3
   },
   "file_extension": ".py",
   "mimetype": "text/x-python",
   "name": "python",
   "nbconvert_exporter": "python",
   "pygments_lexer": "ipython3",
   "version": "3.10.12"
  }
 },
 "nbformat": 4,
 "nbformat_minor": 1
}
